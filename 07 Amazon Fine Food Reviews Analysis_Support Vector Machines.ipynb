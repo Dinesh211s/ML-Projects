{
 "cells": [
  {
   "cell_type": "markdown",
   "metadata": {},
   "source": [
    "# Amazon Fine Food Reviews Analysis\n",
    "\n",
    "\n",
    "Data Source: https://www.kaggle.com/snap/amazon-fine-food-reviews <br>\n",
    "\n",
    "EDA: https://nycdatascience.com/blog/student-works/amazon-fine-foods-visualization/\n",
    "\n",
    "\n",
    "The Amazon Fine Food Reviews dataset consists of reviews of fine foods from Amazon.<br>\n",
    "\n",
    "Number of reviews: 568,454<br>\n",
    "Number of users: 256,059<br>\n",
    "Number of products: 74,258<br>\n",
    "Timespan: Oct 1999 - Oct 2012<br>\n",
    "Number of Attributes/Columns in data: 10 \n",
    "\n",
    "Attribute Information:\n",
    "\n",
    "1. Id\n",
    "2. ProductId - unique identifier for the product\n",
    "3. UserId - unqiue identifier for the user\n",
    "4. ProfileName\n",
    "5. HelpfulnessNumerator - number of users who found the review helpful\n",
    "6. HelpfulnessDenominator - number of users who indicated whether they found the review helpful or not\n",
    "7. Score - rating between 1 and 5\n",
    "8. Time - timestamp for the review\n",
    "9. Summary - brief summary of the review\n",
    "10. Text - text of the review\n",
    "\n",
    "\n",
    "#### Objective:\n",
    "Given a review, determine whether the review is positive (rating of 4 or 5) or negative (rating of 1 or 2).\n",
    "\n",
    "<br>\n",
    "[Q] How to determine if a review is positive or negative?<br>\n",
    "<br> \n",
    "[Ans] We could use Score/Rating. A rating of 4 or 5 can be cosnidered as a positive review. A rating of 1 or 2 can be considered as negative one. A review of rating 3 is considered nuetral and such reviews are ignored from our analysis. This is an approximate and proxy way of determining the polarity (positivity/negativity) of a review.\n",
    "\n",
    "\n"
   ]
  },
  {
   "cell_type": "markdown",
   "metadata": {},
   "source": [
    "# [1]. Reading Data"
   ]
  },
  {
   "cell_type": "markdown",
   "metadata": {},
   "source": [
    "## [1.1] Loading the data\n",
    "\n",
    "The dataset is available in two forms\n",
    "1. .csv file\n",
    "2. SQLite Database\n",
    "\n",
    "In order to load the data, We have used the SQLITE dataset as it is easier to query the data and visualise the data efficiently.\n",
    "<br> \n",
    "\n",
    "Here as we only want to get the global sentiment of the recommendations (positive or negative), we will purposefully ignore all Scores equal to 3. If the score is above 3, then the recommendation wil be set to \"positive\". Otherwise, it will be set to \"negative\"."
   ]
  },
  {
   "cell_type": "code",
   "execution_count": 1,
   "metadata": {},
   "outputs": [],
   "source": [
    "%matplotlib inline\n",
    "import warnings\n",
    "warnings.filterwarnings(\"ignore\")\n",
    "\n",
    "\n",
    "import sqlite3\n",
    "import pandas as pd\n",
    "import numpy as np\n",
    "import nltk\n",
    "import string\n",
    "import matplotlib.pyplot as plt\n",
    "import seaborn as sns\n",
    "from sklearn.feature_extraction.text import TfidfTransformer\n",
    "from sklearn.feature_extraction.text import TfidfVectorizer\n",
    "\n",
    "from sklearn.feature_extraction.text import CountVectorizer\n",
    "from sklearn.metrics import confusion_matrix\n",
    "from sklearn import metrics\n",
    "from sklearn.metrics import roc_curve, auc\n",
    "from nltk.stem.porter import PorterStemmer\n",
    "\n",
    "import re\n",
    "# Tutorial about Python regular expressions: https://pymotw.com/2/re/\n",
    "import string\n",
    "from nltk.corpus import stopwords\n",
    "from nltk.stem import PorterStemmer\n",
    "from nltk.stem.wordnet import WordNetLemmatizer\n",
    "\n",
    "from gensim.models import Word2Vec\n",
    "from gensim.models import KeyedVectors\n",
    "import pickle\n",
    "\n",
    "from tqdm import tqdm\n",
    "import os"
   ]
  },
  {
   "cell_type": "code",
   "execution_count": 2,
   "metadata": {},
   "outputs": [
    {
     "name": "stdout",
     "output_type": "stream",
     "text": [
      "Number of data points in our data (500000, 10)\n"
     ]
    },
    {
     "data": {
      "text/html": [
       "<div>\n",
       "<style scoped>\n",
       "    .dataframe tbody tr th:only-of-type {\n",
       "        vertical-align: middle;\n",
       "    }\n",
       "\n",
       "    .dataframe tbody tr th {\n",
       "        vertical-align: top;\n",
       "    }\n",
       "\n",
       "    .dataframe thead th {\n",
       "        text-align: right;\n",
       "    }\n",
       "</style>\n",
       "<table border=\"1\" class=\"dataframe\">\n",
       "  <thead>\n",
       "    <tr style=\"text-align: right;\">\n",
       "      <th></th>\n",
       "      <th>Id</th>\n",
       "      <th>ProductId</th>\n",
       "      <th>UserId</th>\n",
       "      <th>ProfileName</th>\n",
       "      <th>HelpfulnessNumerator</th>\n",
       "      <th>HelpfulnessDenominator</th>\n",
       "      <th>Score</th>\n",
       "      <th>Time</th>\n",
       "      <th>Summary</th>\n",
       "      <th>Text</th>\n",
       "    </tr>\n",
       "  </thead>\n",
       "  <tbody>\n",
       "    <tr>\n",
       "      <th>0</th>\n",
       "      <td>1</td>\n",
       "      <td>B001E4KFG0</td>\n",
       "      <td>A3SGXH7AUHU8GW</td>\n",
       "      <td>delmartian</td>\n",
       "      <td>1</td>\n",
       "      <td>1</td>\n",
       "      <td>1</td>\n",
       "      <td>1303862400</td>\n",
       "      <td>Good Quality Dog Food</td>\n",
       "      <td>I have bought several of the Vitality canned d...</td>\n",
       "    </tr>\n",
       "    <tr>\n",
       "      <th>1</th>\n",
       "      <td>2</td>\n",
       "      <td>B00813GRG4</td>\n",
       "      <td>A1D87F6ZCVE5NK</td>\n",
       "      <td>dll pa</td>\n",
       "      <td>0</td>\n",
       "      <td>0</td>\n",
       "      <td>0</td>\n",
       "      <td>1346976000</td>\n",
       "      <td>Not as Advertised</td>\n",
       "      <td>Product arrived labeled as Jumbo Salted Peanut...</td>\n",
       "    </tr>\n",
       "    <tr>\n",
       "      <th>2</th>\n",
       "      <td>3</td>\n",
       "      <td>B000LQOCH0</td>\n",
       "      <td>ABXLMWJIXXAIN</td>\n",
       "      <td>Natalia Corres \"Natalia Corres\"</td>\n",
       "      <td>1</td>\n",
       "      <td>1</td>\n",
       "      <td>1</td>\n",
       "      <td>1219017600</td>\n",
       "      <td>\"Delight\" says it all</td>\n",
       "      <td>This is a confection that has been around a fe...</td>\n",
       "    </tr>\n",
       "  </tbody>\n",
       "</table>\n",
       "</div>"
      ],
      "text/plain": [
       "   Id   ProductId          UserId                      ProfileName  \\\n",
       "0   1  B001E4KFG0  A3SGXH7AUHU8GW                       delmartian   \n",
       "1   2  B00813GRG4  A1D87F6ZCVE5NK                           dll pa   \n",
       "2   3  B000LQOCH0   ABXLMWJIXXAIN  Natalia Corres \"Natalia Corres\"   \n",
       "\n",
       "   HelpfulnessNumerator  HelpfulnessDenominator  Score        Time  \\\n",
       "0                     1                       1      1  1303862400   \n",
       "1                     0                       0      0  1346976000   \n",
       "2                     1                       1      1  1219017600   \n",
       "\n",
       "                 Summary                                               Text  \n",
       "0  Good Quality Dog Food  I have bought several of the Vitality canned d...  \n",
       "1      Not as Advertised  Product arrived labeled as Jumbo Salted Peanut...  \n",
       "2  \"Delight\" says it all  This is a confection that has been around a fe...  "
      ]
     },
     "execution_count": 2,
     "metadata": {},
     "output_type": "execute_result"
    }
   ],
   "source": [
    "# using SQLite Table to read data.\n",
    "con = sqlite3.connect('database.sqlite') \n",
    "\n",
    "# filtering only positive and negative reviews i.e. \n",
    "# not taking into consideration those reviews with Score=3\n",
    "# SELECT * FROM Reviews WHERE Score != 3 LIMIT 500000, will give top 500000 data points\n",
    "# you can change the number to any other number based on your computing power\n",
    "\n",
    "# filtered_data = pd.read_sql_query(\"\"\" SELECT * FROM Reviews WHERE Score != 3 LIMIT 500000\"\"\", con) \n",
    "# for tsne assignment you can take 5k data points\n",
    "\n",
    "filtered_data = pd.read_sql_query(\"\"\" SELECT * FROM Reviews WHERE Score != 3 LIMIT 500000\"\"\", con) \n",
    "\n",
    "# Give reviews with Score>3 a positive rating(1), and reviews with a score<3 a negative rating(0).\n",
    "def partition(x):\n",
    "    if x < 3:\n",
    "        return 0\n",
    "    return 1\n",
    "\n",
    "#changing reviews with score less than 3 to be positive and vice-versa\n",
    "actualScore = filtered_data['Score']\n",
    "positiveNegative = actualScore.map(partition) \n",
    "filtered_data['Score'] = positiveNegative\n",
    "print(\"Number of data points in our data\", filtered_data.shape)\n",
    "filtered_data.head(3)"
   ]
  },
  {
   "cell_type": "code",
   "execution_count": 3,
   "metadata": {},
   "outputs": [],
   "source": [
    "display = pd.read_sql_query(\"\"\"\n",
    "SELECT UserId, ProductId, ProfileName, Time, Score, Text, COUNT(*)\n",
    "FROM Reviews\n",
    "GROUP BY UserId\n",
    "HAVING COUNT(*)>1\n",
    "\"\"\", con)"
   ]
  },
  {
   "cell_type": "code",
   "execution_count": 4,
   "metadata": {
    "scrolled": true
   },
   "outputs": [
    {
     "name": "stdout",
     "output_type": "stream",
     "text": [
      "(80668, 7)\n"
     ]
    },
    {
     "data": {
      "text/html": [
       "<div>\n",
       "<style scoped>\n",
       "    .dataframe tbody tr th:only-of-type {\n",
       "        vertical-align: middle;\n",
       "    }\n",
       "\n",
       "    .dataframe tbody tr th {\n",
       "        vertical-align: top;\n",
       "    }\n",
       "\n",
       "    .dataframe thead th {\n",
       "        text-align: right;\n",
       "    }\n",
       "</style>\n",
       "<table border=\"1\" class=\"dataframe\">\n",
       "  <thead>\n",
       "    <tr style=\"text-align: right;\">\n",
       "      <th></th>\n",
       "      <th>UserId</th>\n",
       "      <th>ProductId</th>\n",
       "      <th>ProfileName</th>\n",
       "      <th>Time</th>\n",
       "      <th>Score</th>\n",
       "      <th>Text</th>\n",
       "      <th>COUNT(*)</th>\n",
       "    </tr>\n",
       "  </thead>\n",
       "  <tbody>\n",
       "    <tr>\n",
       "      <th>0</th>\n",
       "      <td>#oc-R115TNMSPFT9I7</td>\n",
       "      <td>B005ZBZLT4</td>\n",
       "      <td>Breyton</td>\n",
       "      <td>1331510400</td>\n",
       "      <td>2</td>\n",
       "      <td>Overall its just OK when considering the price...</td>\n",
       "      <td>2</td>\n",
       "    </tr>\n",
       "    <tr>\n",
       "      <th>1</th>\n",
       "      <td>#oc-R11D9D7SHXIJB9</td>\n",
       "      <td>B005HG9ESG</td>\n",
       "      <td>Louis E. Emory \"hoppy\"</td>\n",
       "      <td>1342396800</td>\n",
       "      <td>5</td>\n",
       "      <td>My wife has recurring extreme muscle spasms, u...</td>\n",
       "      <td>3</td>\n",
       "    </tr>\n",
       "    <tr>\n",
       "      <th>2</th>\n",
       "      <td>#oc-R11DNU2NBKQ23Z</td>\n",
       "      <td>B005ZBZLT4</td>\n",
       "      <td>Kim Cieszykowski</td>\n",
       "      <td>1348531200</td>\n",
       "      <td>1</td>\n",
       "      <td>This coffee is horrible and unfortunately not ...</td>\n",
       "      <td>2</td>\n",
       "    </tr>\n",
       "    <tr>\n",
       "      <th>3</th>\n",
       "      <td>#oc-R11O5J5ZVQE25C</td>\n",
       "      <td>B005HG9ESG</td>\n",
       "      <td>Penguin Chick</td>\n",
       "      <td>1346889600</td>\n",
       "      <td>5</td>\n",
       "      <td>This will be the bottle that you grab from the...</td>\n",
       "      <td>3</td>\n",
       "    </tr>\n",
       "    <tr>\n",
       "      <th>4</th>\n",
       "      <td>#oc-R12KPBODL2B5ZD</td>\n",
       "      <td>B007OSBEV0</td>\n",
       "      <td>Christopher P. Presta</td>\n",
       "      <td>1348617600</td>\n",
       "      <td>1</td>\n",
       "      <td>I didnt like this coffee. Instead of telling y...</td>\n",
       "      <td>2</td>\n",
       "    </tr>\n",
       "  </tbody>\n",
       "</table>\n",
       "</div>"
      ],
      "text/plain": [
       "               UserId   ProductId             ProfileName        Time  Score  \\\n",
       "0  #oc-R115TNMSPFT9I7  B005ZBZLT4                 Breyton  1331510400      2   \n",
       "1  #oc-R11D9D7SHXIJB9  B005HG9ESG  Louis E. Emory \"hoppy\"  1342396800      5   \n",
       "2  #oc-R11DNU2NBKQ23Z  B005ZBZLT4        Kim Cieszykowski  1348531200      1   \n",
       "3  #oc-R11O5J5ZVQE25C  B005HG9ESG           Penguin Chick  1346889600      5   \n",
       "4  #oc-R12KPBODL2B5ZD  B007OSBEV0   Christopher P. Presta  1348617600      1   \n",
       "\n",
       "                                                Text  COUNT(*)  \n",
       "0  Overall its just OK when considering the price...         2  \n",
       "1  My wife has recurring extreme muscle spasms, u...         3  \n",
       "2  This coffee is horrible and unfortunately not ...         2  \n",
       "3  This will be the bottle that you grab from the...         3  \n",
       "4  I didnt like this coffee. Instead of telling y...         2  "
      ]
     },
     "execution_count": 4,
     "metadata": {},
     "output_type": "execute_result"
    }
   ],
   "source": [
    "print(display.shape)\n",
    "display.head()"
   ]
  },
  {
   "cell_type": "code",
   "execution_count": 5,
   "metadata": {},
   "outputs": [
    {
     "data": {
      "text/html": [
       "<div>\n",
       "<style scoped>\n",
       "    .dataframe tbody tr th:only-of-type {\n",
       "        vertical-align: middle;\n",
       "    }\n",
       "\n",
       "    .dataframe tbody tr th {\n",
       "        vertical-align: top;\n",
       "    }\n",
       "\n",
       "    .dataframe thead th {\n",
       "        text-align: right;\n",
       "    }\n",
       "</style>\n",
       "<table border=\"1\" class=\"dataframe\">\n",
       "  <thead>\n",
       "    <tr style=\"text-align: right;\">\n",
       "      <th></th>\n",
       "      <th>UserId</th>\n",
       "      <th>ProductId</th>\n",
       "      <th>ProfileName</th>\n",
       "      <th>Time</th>\n",
       "      <th>Score</th>\n",
       "      <th>Text</th>\n",
       "      <th>COUNT(*)</th>\n",
       "    </tr>\n",
       "  </thead>\n",
       "  <tbody>\n",
       "    <tr>\n",
       "      <th>80638</th>\n",
       "      <td>AZY10LLTJ71NX</td>\n",
       "      <td>B001ATMQK2</td>\n",
       "      <td>undertheshrine \"undertheshrine\"</td>\n",
       "      <td>1296691200</td>\n",
       "      <td>5</td>\n",
       "      <td>I bought this 6 pack because for the price tha...</td>\n",
       "      <td>5</td>\n",
       "    </tr>\n",
       "  </tbody>\n",
       "</table>\n",
       "</div>"
      ],
      "text/plain": [
       "              UserId   ProductId                      ProfileName        Time  \\\n",
       "80638  AZY10LLTJ71NX  B001ATMQK2  undertheshrine \"undertheshrine\"  1296691200   \n",
       "\n",
       "       Score                                               Text  COUNT(*)  \n",
       "80638      5  I bought this 6 pack because for the price tha...         5  "
      ]
     },
     "execution_count": 5,
     "metadata": {},
     "output_type": "execute_result"
    }
   ],
   "source": [
    "display[display['UserId']=='AZY10LLTJ71NX']"
   ]
  },
  {
   "cell_type": "code",
   "execution_count": 6,
   "metadata": {},
   "outputs": [
    {
     "data": {
      "text/plain": [
       "393063"
      ]
     },
     "execution_count": 6,
     "metadata": {},
     "output_type": "execute_result"
    }
   ],
   "source": [
    "display['COUNT(*)'].sum()"
   ]
  },
  {
   "cell_type": "markdown",
   "metadata": {},
   "source": [
    "#  [2] Exploratory Data Analysis"
   ]
  },
  {
   "cell_type": "markdown",
   "metadata": {},
   "source": [
    "## [2.1] Data Cleaning: Deduplication\n",
    "\n",
    "It is observed (as shown in the table below) that the reviews data had many duplicate entries. Hence it was necessary to remove duplicates in order to get unbiased results for the analysis of the data.  Following is an example:"
   ]
  },
  {
   "cell_type": "code",
   "execution_count": 7,
   "metadata": {
    "scrolled": false
   },
   "outputs": [
    {
     "data": {
      "text/html": [
       "<div>\n",
       "<style scoped>\n",
       "    .dataframe tbody tr th:only-of-type {\n",
       "        vertical-align: middle;\n",
       "    }\n",
       "\n",
       "    .dataframe tbody tr th {\n",
       "        vertical-align: top;\n",
       "    }\n",
       "\n",
       "    .dataframe thead th {\n",
       "        text-align: right;\n",
       "    }\n",
       "</style>\n",
       "<table border=\"1\" class=\"dataframe\">\n",
       "  <thead>\n",
       "    <tr style=\"text-align: right;\">\n",
       "      <th></th>\n",
       "      <th>Id</th>\n",
       "      <th>ProductId</th>\n",
       "      <th>UserId</th>\n",
       "      <th>ProfileName</th>\n",
       "      <th>HelpfulnessNumerator</th>\n",
       "      <th>HelpfulnessDenominator</th>\n",
       "      <th>Score</th>\n",
       "      <th>Time</th>\n",
       "      <th>Summary</th>\n",
       "      <th>Text</th>\n",
       "    </tr>\n",
       "  </thead>\n",
       "  <tbody>\n",
       "    <tr>\n",
       "      <th>0</th>\n",
       "      <td>78445</td>\n",
       "      <td>B000HDL1RQ</td>\n",
       "      <td>AR5J8UI46CURR</td>\n",
       "      <td>Geetha Krishnan</td>\n",
       "      <td>2</td>\n",
       "      <td>2</td>\n",
       "      <td>5</td>\n",
       "      <td>1199577600</td>\n",
       "      <td>LOACKER QUADRATINI VANILLA WAFERS</td>\n",
       "      <td>DELICIOUS WAFERS. I FIND THAT EUROPEAN WAFERS ...</td>\n",
       "    </tr>\n",
       "    <tr>\n",
       "      <th>1</th>\n",
       "      <td>138317</td>\n",
       "      <td>B000HDOPYC</td>\n",
       "      <td>AR5J8UI46CURR</td>\n",
       "      <td>Geetha Krishnan</td>\n",
       "      <td>2</td>\n",
       "      <td>2</td>\n",
       "      <td>5</td>\n",
       "      <td>1199577600</td>\n",
       "      <td>LOACKER QUADRATINI VANILLA WAFERS</td>\n",
       "      <td>DELICIOUS WAFERS. I FIND THAT EUROPEAN WAFERS ...</td>\n",
       "    </tr>\n",
       "    <tr>\n",
       "      <th>2</th>\n",
       "      <td>138277</td>\n",
       "      <td>B000HDOPYM</td>\n",
       "      <td>AR5J8UI46CURR</td>\n",
       "      <td>Geetha Krishnan</td>\n",
       "      <td>2</td>\n",
       "      <td>2</td>\n",
       "      <td>5</td>\n",
       "      <td>1199577600</td>\n",
       "      <td>LOACKER QUADRATINI VANILLA WAFERS</td>\n",
       "      <td>DELICIOUS WAFERS. I FIND THAT EUROPEAN WAFERS ...</td>\n",
       "    </tr>\n",
       "    <tr>\n",
       "      <th>3</th>\n",
       "      <td>73791</td>\n",
       "      <td>B000HDOPZG</td>\n",
       "      <td>AR5J8UI46CURR</td>\n",
       "      <td>Geetha Krishnan</td>\n",
       "      <td>2</td>\n",
       "      <td>2</td>\n",
       "      <td>5</td>\n",
       "      <td>1199577600</td>\n",
       "      <td>LOACKER QUADRATINI VANILLA WAFERS</td>\n",
       "      <td>DELICIOUS WAFERS. I FIND THAT EUROPEAN WAFERS ...</td>\n",
       "    </tr>\n",
       "    <tr>\n",
       "      <th>4</th>\n",
       "      <td>155049</td>\n",
       "      <td>B000PAQ75C</td>\n",
       "      <td>AR5J8UI46CURR</td>\n",
       "      <td>Geetha Krishnan</td>\n",
       "      <td>2</td>\n",
       "      <td>2</td>\n",
       "      <td>5</td>\n",
       "      <td>1199577600</td>\n",
       "      <td>LOACKER QUADRATINI VANILLA WAFERS</td>\n",
       "      <td>DELICIOUS WAFERS. I FIND THAT EUROPEAN WAFERS ...</td>\n",
       "    </tr>\n",
       "  </tbody>\n",
       "</table>\n",
       "</div>"
      ],
      "text/plain": [
       "       Id   ProductId         UserId      ProfileName  HelpfulnessNumerator  \\\n",
       "0   78445  B000HDL1RQ  AR5J8UI46CURR  Geetha Krishnan                     2   \n",
       "1  138317  B000HDOPYC  AR5J8UI46CURR  Geetha Krishnan                     2   \n",
       "2  138277  B000HDOPYM  AR5J8UI46CURR  Geetha Krishnan                     2   \n",
       "3   73791  B000HDOPZG  AR5J8UI46CURR  Geetha Krishnan                     2   \n",
       "4  155049  B000PAQ75C  AR5J8UI46CURR  Geetha Krishnan                     2   \n",
       "\n",
       "   HelpfulnessDenominator  Score        Time  \\\n",
       "0                       2      5  1199577600   \n",
       "1                       2      5  1199577600   \n",
       "2                       2      5  1199577600   \n",
       "3                       2      5  1199577600   \n",
       "4                       2      5  1199577600   \n",
       "\n",
       "                             Summary  \\\n",
       "0  LOACKER QUADRATINI VANILLA WAFERS   \n",
       "1  LOACKER QUADRATINI VANILLA WAFERS   \n",
       "2  LOACKER QUADRATINI VANILLA WAFERS   \n",
       "3  LOACKER QUADRATINI VANILLA WAFERS   \n",
       "4  LOACKER QUADRATINI VANILLA WAFERS   \n",
       "\n",
       "                                                Text  \n",
       "0  DELICIOUS WAFERS. I FIND THAT EUROPEAN WAFERS ...  \n",
       "1  DELICIOUS WAFERS. I FIND THAT EUROPEAN WAFERS ...  \n",
       "2  DELICIOUS WAFERS. I FIND THAT EUROPEAN WAFERS ...  \n",
       "3  DELICIOUS WAFERS. I FIND THAT EUROPEAN WAFERS ...  \n",
       "4  DELICIOUS WAFERS. I FIND THAT EUROPEAN WAFERS ...  "
      ]
     },
     "execution_count": 7,
     "metadata": {},
     "output_type": "execute_result"
    }
   ],
   "source": [
    "display= pd.read_sql_query(\"\"\"\n",
    "SELECT *\n",
    "FROM Reviews\n",
    "WHERE Score != 3 AND UserId=\"AR5J8UI46CURR\"\n",
    "ORDER BY ProductID\n",
    "\"\"\", con)\n",
    "display.head()"
   ]
  },
  {
   "cell_type": "markdown",
   "metadata": {},
   "source": [
    "As it can be seen above that same user has multiple reviews with same values for HelpfulnessNumerator, HelpfulnessDenominator, Score, Time, Summary and Text and on doing analysis it was found that <br>\n",
    "<br> \n",
    "ProductId=B000HDOPZG was Loacker Quadratini Vanilla Wafer Cookies, 8.82-Ounce Packages (Pack of 8)<br>\n",
    "<br> \n",
    "ProductId=B000HDL1RQ was Loacker Quadratini Lemon Wafer Cookies, 8.82-Ounce Packages (Pack of 8) and so on<br>\n",
    "\n",
    "It was inferred after analysis that reviews with same parameters other than ProductId belonged to the same product just having different flavour or quantity. Hence in order to reduce redundancy it was decided to eliminate the rows having same parameters.<br>\n",
    "\n",
    "The method used for the same was that we first sort the data according to ProductId and then just keep the first similar product review and delelte the others. for eg. in the above just the review for ProductId=B000HDL1RQ remains. This method ensures that there is only one representative for each product and deduplication without sorting would lead to possibility of different representatives still existing for the same product."
   ]
  },
  {
   "cell_type": "code",
   "execution_count": 8,
   "metadata": {},
   "outputs": [],
   "source": [
    "#Sorting data according to ProductId in ascending order\n",
    "sorted_data=filtered_data.sort_values('ProductId', axis=0, ascending=True, inplace=False, kind='quicksort', na_position='last')"
   ]
  },
  {
   "cell_type": "code",
   "execution_count": 9,
   "metadata": {},
   "outputs": [
    {
     "data": {
      "text/plain": [
       "(348262, 10)"
      ]
     },
     "execution_count": 9,
     "metadata": {},
     "output_type": "execute_result"
    }
   ],
   "source": [
    "#Deduplication of entries\n",
    "final=sorted_data.drop_duplicates(subset={\"UserId\",\"ProfileName\",\"Time\",\"Text\"}, keep='first', inplace=False)\n",
    "final.shape"
   ]
  },
  {
   "cell_type": "code",
   "execution_count": 10,
   "metadata": {},
   "outputs": [
    {
     "data": {
      "text/plain": [
       "69.6524"
      ]
     },
     "execution_count": 10,
     "metadata": {},
     "output_type": "execute_result"
    }
   ],
   "source": [
    "#Checking to see how much % of data still remains\n",
    "(final['Id'].size*1.0)/(filtered_data['Id'].size*1.0)*100"
   ]
  },
  {
   "cell_type": "markdown",
   "metadata": {},
   "source": [
    "<b>Observation:-</b> It was also seen that in two rows given below the value of HelpfulnessNumerator is greater than HelpfulnessDenominator which is not practically possible hence these two rows too are removed from calcualtions"
   ]
  },
  {
   "cell_type": "code",
   "execution_count": 11,
   "metadata": {},
   "outputs": [
    {
     "data": {
      "text/html": [
       "<div>\n",
       "<style scoped>\n",
       "    .dataframe tbody tr th:only-of-type {\n",
       "        vertical-align: middle;\n",
       "    }\n",
       "\n",
       "    .dataframe tbody tr th {\n",
       "        vertical-align: top;\n",
       "    }\n",
       "\n",
       "    .dataframe thead th {\n",
       "        text-align: right;\n",
       "    }\n",
       "</style>\n",
       "<table border=\"1\" class=\"dataframe\">\n",
       "  <thead>\n",
       "    <tr style=\"text-align: right;\">\n",
       "      <th></th>\n",
       "      <th>Id</th>\n",
       "      <th>ProductId</th>\n",
       "      <th>UserId</th>\n",
       "      <th>ProfileName</th>\n",
       "      <th>HelpfulnessNumerator</th>\n",
       "      <th>HelpfulnessDenominator</th>\n",
       "      <th>Score</th>\n",
       "      <th>Time</th>\n",
       "      <th>Summary</th>\n",
       "      <th>Text</th>\n",
       "    </tr>\n",
       "  </thead>\n",
       "  <tbody>\n",
       "    <tr>\n",
       "      <th>0</th>\n",
       "      <td>64422</td>\n",
       "      <td>B000MIDROQ</td>\n",
       "      <td>A161DK06JJMCYF</td>\n",
       "      <td>J. E. Stephens \"Jeanne\"</td>\n",
       "      <td>3</td>\n",
       "      <td>1</td>\n",
       "      <td>5</td>\n",
       "      <td>1224892800</td>\n",
       "      <td>Bought This for My Son at College</td>\n",
       "      <td>My son loves spaghetti so I didn't hesitate or...</td>\n",
       "    </tr>\n",
       "    <tr>\n",
       "      <th>1</th>\n",
       "      <td>44737</td>\n",
       "      <td>B001EQ55RW</td>\n",
       "      <td>A2V0I904FH7ABY</td>\n",
       "      <td>Ram</td>\n",
       "      <td>3</td>\n",
       "      <td>2</td>\n",
       "      <td>4</td>\n",
       "      <td>1212883200</td>\n",
       "      <td>Pure cocoa taste with crunchy almonds inside</td>\n",
       "      <td>It was almost a 'love at first bite' - the per...</td>\n",
       "    </tr>\n",
       "  </tbody>\n",
       "</table>\n",
       "</div>"
      ],
      "text/plain": [
       "      Id   ProductId          UserId              ProfileName  \\\n",
       "0  64422  B000MIDROQ  A161DK06JJMCYF  J. E. Stephens \"Jeanne\"   \n",
       "1  44737  B001EQ55RW  A2V0I904FH7ABY                      Ram   \n",
       "\n",
       "   HelpfulnessNumerator  HelpfulnessDenominator  Score        Time  \\\n",
       "0                     3                       1      5  1224892800   \n",
       "1                     3                       2      4  1212883200   \n",
       "\n",
       "                                        Summary  \\\n",
       "0             Bought This for My Son at College   \n",
       "1  Pure cocoa taste with crunchy almonds inside   \n",
       "\n",
       "                                                Text  \n",
       "0  My son loves spaghetti so I didn't hesitate or...  \n",
       "1  It was almost a 'love at first bite' - the per...  "
      ]
     },
     "execution_count": 11,
     "metadata": {},
     "output_type": "execute_result"
    }
   ],
   "source": [
    "display= pd.read_sql_query(\"\"\"\n",
    "SELECT *\n",
    "FROM Reviews\n",
    "WHERE Score != 3 AND Id=44737 OR Id=64422\n",
    "ORDER BY ProductID\n",
    "\"\"\", con)\n",
    "\n",
    "display.head()"
   ]
  },
  {
   "cell_type": "code",
   "execution_count": 12,
   "metadata": {},
   "outputs": [],
   "source": [
    "final=final[final.HelpfulnessNumerator<=final.HelpfulnessDenominator]"
   ]
  },
  {
   "cell_type": "code",
   "execution_count": 13,
   "metadata": {},
   "outputs": [
    {
     "name": "stdout",
     "output_type": "stream",
     "text": [
      "(348260, 10)\n"
     ]
    },
    {
     "data": {
      "text/plain": [
       "1    293516\n",
       "0     54744\n",
       "Name: Score, dtype: int64"
      ]
     },
     "execution_count": 13,
     "metadata": {},
     "output_type": "execute_result"
    }
   ],
   "source": [
    "#Before starting the next phase of preprocessing lets see the number of entries left\n",
    "print(final.shape)\n",
    "\n",
    "#How many positive and negative reviews are present in our dataset?\n",
    "final['Score'].value_counts()"
   ]
  },
  {
   "cell_type": "markdown",
   "metadata": {},
   "source": [
    "#  [3] Preprocessing"
   ]
  },
  {
   "cell_type": "markdown",
   "metadata": {},
   "source": [
    "## [3.1].  Preprocessing Review Text\n",
    "\n",
    "Now that we have finished deduplication our data requires some preprocessing before we go on further with analysis and making the prediction model.\n",
    "\n",
    "Hence in the Preprocessing phase we do the following in the order below:-\n",
    "\n",
    "1. Begin by removing the html tags\n",
    "2. Remove any punctuations or limited set of special characters like , or . or # etc.\n",
    "3. Check if the word is made up of english letters and is not alpha-numeric\n",
    "4. Check to see if the length of the word is greater than 2 (as it was researched that there is no adjective in 2-letters)\n",
    "5. Convert the word to lowercase\n",
    "6. Remove Stopwords\n",
    "7. Finally Snowball Stemming the word (it was obsereved to be better than Porter Stemming)<br>\n",
    "\n",
    "After which we collect the words used to describe positive and negative reviews"
   ]
  },
  {
   "cell_type": "code",
   "execution_count": 14,
   "metadata": {},
   "outputs": [
    {
     "name": "stdout",
     "output_type": "stream",
     "text": [
      "This book was purchased as a birthday gift for a 4 year old boy. He squealed with delight and hugged it when told it was his to keep and he did not have to return it to the library.\n",
      "==================================================\n",
      "I've purchased both the Espressione Espresso (classic) and the 100% Arabica.  My vote is definitely with the 100% Arabica.  The flavor has more bite and flavor (much more like European coffee than American).\n",
      "==================================================\n",
      "This is a great product. It is very healthy for all of our dogs, and it is the first food that they all love to eat. It helped my older dog lose weight and my 10 year old lab gain the weight he needed to be healthy.\n",
      "==================================================\n",
      "I find everything I need at Amazon so I always look there first. Chocolate tennis balls for a tennis party, perfect! They were the size of malted milk balls. Unfortunately, they arrived 3 days after the party. The caveat here is, not everything from Amazon may arrive at an impressive 2 or 3 days. This shipment took 8 days from the Candy/Cosmetic Depot back east to southern California.\n",
      "==================================================\n"
     ]
    }
   ],
   "source": [
    "# printing some random reviews\n",
    "sent_0 = final['Text'].values[0]\n",
    "print(sent_0)\n",
    "print(\"=\"*50)\n",
    "\n",
    "sent_1000 = final['Text'].values[1000]\n",
    "print(sent_1000)\n",
    "print(\"=\"*50)\n",
    "\n",
    "sent_1500 = final['Text'].values[1500]\n",
    "print(sent_1500)\n",
    "print(\"=\"*50)\n",
    "\n",
    "sent_4900 = final['Text'].values[4900]\n",
    "print(sent_4900)\n",
    "print(\"=\"*50)"
   ]
  },
  {
   "cell_type": "code",
   "execution_count": 15,
   "metadata": {},
   "outputs": [
    {
     "name": "stdout",
     "output_type": "stream",
     "text": [
      "This book was purchased as a birthday gift for a 4 year old boy. He squealed with delight and hugged it when told it was his to keep and he did not have to return it to the library.\n"
     ]
    }
   ],
   "source": [
    "# remove urls from text python: https://stackoverflow.com/a/40823105/4084039\n",
    "sent_0 = re.sub(r\"http\\S+\", \"\", sent_0)\n",
    "sent_1000 = re.sub(r\"http\\S+\", \"\", sent_1000)\n",
    "sent_150 = re.sub(r\"http\\S+\", \"\", sent_1500)\n",
    "sent_4900 = re.sub(r\"http\\S+\", \"\", sent_4900)\n",
    "\n",
    "print(sent_0)"
   ]
  },
  {
   "cell_type": "code",
   "execution_count": 16,
   "metadata": {},
   "outputs": [
    {
     "name": "stdout",
     "output_type": "stream",
     "text": [
      "This book was purchased as a birthday gift for a 4 year old boy. He squealed with delight and hugged it when told it was his to keep and he did not have to return it to the library.\n",
      "==================================================\n",
      "I've purchased both the Espressione Espresso (classic) and the 100% Arabica.  My vote is definitely with the 100% Arabica.  The flavor has more bite and flavor (much more like European coffee than American).\n",
      "==================================================\n",
      "This is a great product. It is very healthy for all of our dogs, and it is the first food that they all love to eat. It helped my older dog lose weight and my 10 year old lab gain the weight he needed to be healthy.\n",
      "==================================================\n",
      "I find everything I need at Amazon so I always look there first. Chocolate tennis balls for a tennis party, perfect! They were the size of malted milk balls. Unfortunately, they arrived 3 days after the party. The caveat here is, not everything from Amazon may arrive at an impressive 2 or 3 days. This shipment took 8 days from the Candy/Cosmetic Depot back east to southern California.\n"
     ]
    }
   ],
   "source": [
    "# https://stackoverflow.com/questions/16206380/python-beautifulsoup-how-to-remove-all-tags-from-an-element\n",
    "from bs4 import BeautifulSoup\n",
    "\n",
    "soup = BeautifulSoup(sent_0, 'lxml')\n",
    "text = soup.get_text()\n",
    "print(text)\n",
    "print(\"=\"*50)\n",
    "\n",
    "soup = BeautifulSoup(sent_1000, 'lxml')\n",
    "text = soup.get_text()\n",
    "print(text)\n",
    "print(\"=\"*50)\n",
    "\n",
    "soup = BeautifulSoup(sent_1500, 'lxml')\n",
    "text = soup.get_text()\n",
    "print(text)\n",
    "print(\"=\"*50)\n",
    "\n",
    "soup = BeautifulSoup(sent_4900, 'lxml')\n",
    "text = soup.get_text()\n",
    "print(text)"
   ]
  },
  {
   "cell_type": "code",
   "execution_count": 17,
   "metadata": {},
   "outputs": [],
   "source": [
    "# https://stackoverflow.com/a/47091490/4084039\n",
    "import re\n",
    "\n",
    "def decontracted(phrase):\n",
    "    # specific\n",
    "    phrase = re.sub(r\"won't\", \"will not\", phrase)\n",
    "    phrase = re.sub(r\"can\\'t\", \"can not\", phrase)\n",
    "\n",
    "    # general\n",
    "    phrase = re.sub(r\"n\\'t\", \" not\", phrase)\n",
    "    phrase = re.sub(r\"\\'re\", \" are\", phrase)\n",
    "    phrase = re.sub(r\"\\'s\", \" is\", phrase)\n",
    "    phrase = re.sub(r\"\\'d\", \" would\", phrase)\n",
    "    phrase = re.sub(r\"\\'ll\", \" will\", phrase)\n",
    "    phrase = re.sub(r\"\\'t\", \" not\", phrase)\n",
    "    phrase = re.sub(r\"\\'ve\", \" have\", phrase)\n",
    "    phrase = re.sub(r\"\\'m\", \" am\", phrase)\n",
    "    return phrase"
   ]
  },
  {
   "cell_type": "code",
   "execution_count": 18,
   "metadata": {},
   "outputs": [
    {
     "name": "stdout",
     "output_type": "stream",
     "text": [
      "This is a great product. It is very healthy for all of our dogs, and it is the first food that they all love to eat. It helped my older dog lose weight and my 10 year old lab gain the weight he needed to be healthy.\n",
      "==================================================\n"
     ]
    }
   ],
   "source": [
    "sent_1500 = decontracted(sent_1500)\n",
    "print(sent_1500)\n",
    "print(\"=\"*50)"
   ]
  },
  {
   "cell_type": "code",
   "execution_count": 19,
   "metadata": {},
   "outputs": [
    {
     "name": "stdout",
     "output_type": "stream",
     "text": [
      "This book was purchased as a birthday gift for a  year old boy. He squealed with delight and hugged it when told it was his to keep and he did not have to return it to the library.\n"
     ]
    }
   ],
   "source": [
    "#remove words with numbers python: https://stackoverflow.com/a/18082370/4084039\n",
    "sent_0 = re.sub(\"\\S*\\d\\S*\", \"\", sent_0).strip()\n",
    "print(sent_0)"
   ]
  },
  {
   "cell_type": "code",
   "execution_count": 20,
   "metadata": {},
   "outputs": [
    {
     "name": "stdout",
     "output_type": "stream",
     "text": [
      "This is a great product It is very healthy for all of our dogs and it is the first food that they all love to eat It helped my older dog lose weight and my 10 year old lab gain the weight he needed to be healthy \n"
     ]
    }
   ],
   "source": [
    "#remove spacial character: https://stackoverflow.com/a/5843547/4084039\n",
    "sent_1500 = re.sub('[^A-Za-z0-9]+', ' ', sent_1500)\n",
    "print(sent_1500)"
   ]
  },
  {
   "cell_type": "code",
   "execution_count": 21,
   "metadata": {},
   "outputs": [],
   "source": [
    "# https://gist.github.com/sebleier/554280\n",
    "# we are removing the words from the stop words list: 'no', 'nor', 'not'\n",
    "# <br /><br /> ==> after the above steps, we are getting \"br br\"\n",
    "# we are including them into stop words list\n",
    "# instead of <br /> if we have <br/> these tags would have revmoved in the 1st step\n",
    "\n",
    "stopwords= set(['br', 'the', 'i', 'me', 'my', 'myself', 'we', 'our', 'ours', 'ourselves', 'you', \"you're\", \"you've\",\\\n",
    "            \"you'll\", \"you'd\", 'your', 'yours', 'yourself', 'yourselves', 'he', 'him', 'his', 'himself', \\\n",
    "            'she', \"she's\", 'her', 'hers', 'herself', 'it', \"it's\", 'its', 'itself', 'they', 'them', 'their',\\\n",
    "            'theirs', 'themselves', 'what', 'which', 'who', 'whom', 'this', 'that', \"that'll\", 'these', 'those', \\\n",
    "            'am', 'is', 'are', 'was', 'were', 'be', 'been', 'being', 'have', 'has', 'had', 'having', 'do', 'does', \\\n",
    "            'did', 'doing', 'a', 'an', 'the', 'and', 'but', 'if', 'or', 'because', 'as', 'until', 'while', 'of', \\\n",
    "            'at', 'by', 'for', 'with', 'about', 'against', 'between', 'into', 'through', 'during', 'before', 'after',\\\n",
    "            'above', 'below', 'to', 'from', 'up', 'down', 'in', 'out', 'on', 'off', 'over', 'under', 'again', 'further',\\\n",
    "            'then', 'once', 'here', 'there', 'when', 'where', 'why', 'how', 'all', 'any', 'both', 'each', 'few', 'more',\\\n",
    "            'most', 'other', 'some', 'such', 'only', 'own', 'same', 'so', 'than', 'too', 'very', \\\n",
    "            's', 't', 'can', 'will', 'just', 'don', \"don't\", 'should', \"should've\", 'now', 'd', 'll', 'm', 'o', 're', \\\n",
    "            've', 'y', 'ain', 'aren', \"aren't\", 'couldn', \"couldn't\", 'didn', \"didn't\", 'doesn', \"doesn't\", 'hadn',\\\n",
    "            \"hadn't\", 'hasn', \"hasn't\", 'haven', \"haven't\", 'isn', \"isn't\", 'ma', 'mightn', \"mightn't\", 'mustn',\\\n",
    "            \"mustn't\", 'needn', \"needn't\", 'shan', \"shan't\", 'shouldn', \"shouldn't\", 'wasn', \"wasn't\", 'weren', \"weren't\", \\\n",
    "            'won', \"won't\", 'wouldn', \"wouldn't\"])"
   ]
  },
  {
   "cell_type": "code",
   "execution_count": 22,
   "metadata": {},
   "outputs": [
    {
     "name": "stderr",
     "output_type": "stream",
     "text": [
      "100%|████████████████████████████████████████████████████████████████████████| 348260/348260 [02:40<00:00, 2166.23it/s]\n"
     ]
    }
   ],
   "source": [
    "# Combining all the above stundents \n",
    "from tqdm import tqdm\n",
    "preprocessed_reviews = []\n",
    "# tqdm is for printing the status bar\n",
    "for sentance in tqdm(final['Text'].values):\n",
    "    sentance = re.sub(r\"http\\S+\", \"\", sentance)\n",
    "    sentance = BeautifulSoup(sentance, 'lxml').get_text()\n",
    "    sentance = decontracted(sentance)\n",
    "    sentance = re.sub(\"\\S*\\d\\S*\", \"\", sentance).strip()\n",
    "    sentance = re.sub('[^A-Za-z]+', ' ', sentance)\n",
    "    # https://gist.github.com/sebleier/554280\n",
    "    sentance = ' '.join(e.lower() for e in sentance.split() if e.lower() not in stopwords)\n",
    "    preprocessed_reviews.append(sentance.strip())"
   ]
  },
  {
   "cell_type": "code",
   "execution_count": 23,
   "metadata": {},
   "outputs": [
    {
     "data": {
      "text/plain": [
       "'great product healthy dogs first food love eat helped older dog lose weight year old lab gain weight needed healthy'"
      ]
     },
     "execution_count": 23,
     "metadata": {},
     "output_type": "execute_result"
    }
   ],
   "source": [
    "preprocessed_reviews[1500]"
   ]
  },
  {
   "cell_type": "code",
   "execution_count": 24,
   "metadata": {},
   "outputs": [],
   "source": [
    "final[\"Cleaned_Text\"] = preprocessed_reviews"
   ]
  },
  {
   "cell_type": "markdown",
   "metadata": {},
   "source": [
    "<h2><font color='red'>[3.2] Preprocessing Review Summary</font></h2>"
   ]
  },
  {
   "cell_type": "code",
   "execution_count": null,
   "metadata": {},
   "outputs": [],
   "source": [
    "## Similartly you can do preprocessing for review summary also."
   ]
  },
  {
   "cell_type": "markdown",
   "metadata": {},
   "source": [
    "# [4] Featurization"
   ]
  },
  {
   "cell_type": "markdown",
   "metadata": {},
   "source": [
    "## [4.1] BAG OF WORDS"
   ]
  },
  {
   "cell_type": "code",
   "execution_count": null,
   "metadata": {},
   "outputs": [],
   "source": [
    "#BoW\n",
    "count_vect = CountVectorizer() #in scikit-learn\n",
    "count_vect.fit(preprocessed_reviews)\n",
    "print(\"some feature names \", count_vect.get_feature_names()[:10])\n",
    "print('='*50)\n",
    "\n",
    "final_counts = count_vect.transform(preprocessed_reviews)\n",
    "print(\"the type of count vectorizer \",type(final_counts))\n",
    "print(\"the shape of out text BOW vectorizer \",final_counts.get_shape())\n",
    "print(\"the number of unique words \", final_counts.get_shape()[1])"
   ]
  },
  {
   "cell_type": "markdown",
   "metadata": {},
   "source": [
    "## [4.2] Bi-Grams and n-Grams."
   ]
  },
  {
   "cell_type": "code",
   "execution_count": null,
   "metadata": {},
   "outputs": [],
   "source": [
    "#bi-gram, tri-gram and n-gram\n",
    "\n",
    "#removing stop words like \"not\" should be avoided before building n-grams\n",
    "# count_vect = CountVectorizer(ngram_range=(1,2))\n",
    "# please do read the CountVectorizer documentation http://scikit-learn.org/stable/modules/generated/sklearn.feature_extraction.text.CountVectorizer.html\n",
    "\n",
    "# you can choose these numebrs min_df=10, max_features=5000, of your choice\n",
    "count_vect = CountVectorizer(ngram_range=(1,2), min_df=10, max_features=5000)\n",
    "final_bigram_counts = count_vect.fit_transform(preprocessed_reviews)\n",
    "print(\"the type of count vectorizer \",type(final_bigram_counts))\n",
    "print(\"the shape of out text BOW vectorizer \",final_bigram_counts.get_shape())\n",
    "print(\"the number of unique words including both unigrams and bigrams \", final_bigram_counts.get_shape()[1])"
   ]
  },
  {
   "cell_type": "markdown",
   "metadata": {},
   "source": [
    "## [4.3] TF-IDF"
   ]
  },
  {
   "cell_type": "code",
   "execution_count": null,
   "metadata": {},
   "outputs": [],
   "source": [
    "tf_idf_vect = TfidfVectorizer(ngram_range=(1,2), min_df=10)\n",
    "tf_idf_vect.fit(preprocessed_reviews)\n",
    "print(\"some sample features(unique words in the corpus)\",tf_idf_vect.get_feature_names()[0:10])\n",
    "print('='*50)\n",
    "\n",
    "final_tf_idf = tf_idf_vect.transform(preprocessed_reviews)\n",
    "print(\"the type of count vectorizer \",type(final_tf_idf))\n",
    "print(\"the shape of out text TFIDF vectorizer \",final_tf_idf.get_shape())\n",
    "print(\"the number of unique words including both unigrams and bigrams \", final_tf_idf.get_shape()[1])"
   ]
  },
  {
   "cell_type": "markdown",
   "metadata": {},
   "source": [
    "## [4.4] Word2Vec"
   ]
  },
  {
   "cell_type": "code",
   "execution_count": null,
   "metadata": {},
   "outputs": [],
   "source": [
    "# Train your own Word2Vec model using your own text corpus\n",
    "i=0\n",
    "list_of_sentance=[]\n",
    "for sentance in preprocessed_reviews:\n",
    "    list_of_sentance.append(sentance.split())"
   ]
  },
  {
   "cell_type": "code",
   "execution_count": null,
   "metadata": {
    "scrolled": true
   },
   "outputs": [],
   "source": [
    "# Using Google News Word2Vectors\n",
    "\n",
    "# in this project we are using a pretrained model by google\n",
    "# its 3.3G file, once you load this into your memory \n",
    "# it occupies ~9Gb, so please do this step only if you have >12G of ram\n",
    "# we will provide a pickle file wich contains a dict , \n",
    "# and it contains all our courpus words as keys and  model[word] as values\n",
    "# To use this code-snippet, download \"GoogleNews-vectors-negative300.bin\" \n",
    "# from https://drive.google.com/file/d/0B7XkCwpI5KDYNlNUTTlSS21pQmM/edit\n",
    "# it's 1.9GB in size.\n",
    "\n",
    "\n",
    "# http://kavita-ganesan.com/gensim-word2vec-tutorial-starter-code/#.W17SRFAzZPY\n",
    "# you can comment this whole cell\n",
    "# or change these varible according to your need\n",
    "\n",
    "is_your_ram_gt_16g=False\n",
    "want_to_use_google_w2v = False\n",
    "want_to_train_w2v = True\n",
    "\n",
    "if want_to_train_w2v:\n",
    "    # min_count = 5 considers only words that occured atleast 5 times\n",
    "    w2v_model=Word2Vec(list_of_sentance,min_count=5,size=50, workers=4)\n",
    "    print(w2v_model.wv.most_similar('great'))\n",
    "    print('='*50)\n",
    "    print(w2v_model.wv.most_similar('worst'))\n",
    "    \n",
    "elif want_to_use_google_w2v and is_your_ram_gt_16g:\n",
    "    if os.path.isfile('GoogleNews-vectors-negative300.bin'):\n",
    "        w2v_model=KeyedVectors.load_word2vec_format('GoogleNews-vectors-negative300.bin', binary=True)\n",
    "        print(w2v_model.wv.most_similar('great'))\n",
    "        print(w2v_model.wv.most_similar('worst'))\n",
    "    else:\n",
    "        print(\"you don't have gogole's word2vec file, keep want_to_train_w2v = True, to train your own w2v \")"
   ]
  },
  {
   "cell_type": "code",
   "execution_count": null,
   "metadata": {},
   "outputs": [],
   "source": [
    "w2v_words = list(w2v_model.wv.vocab)\n",
    "print(\"number of words that occured minimum 5 times \",len(w2v_words))\n",
    "print(\"sample words \", w2v_words[0:50])"
   ]
  },
  {
   "cell_type": "markdown",
   "metadata": {},
   "source": [
    "## [4.4.1] Converting text into vectors using Avg W2V, TFIDF-W2V"
   ]
  },
  {
   "cell_type": "markdown",
   "metadata": {},
   "source": [
    "#### [4.4.1.1] Avg W2v"
   ]
  },
  {
   "cell_type": "code",
   "execution_count": null,
   "metadata": {},
   "outputs": [],
   "source": [
    "# average Word2Vec\n",
    "# compute average word2vec for each review.\n",
    "sent_vectors = []; # the avg-w2v for each sentence/review is stored in this list\n",
    "for sent in tqdm(list_of_sentance): # for each review/sentence\n",
    "    sent_vec = np.zeros(50) # as word vectors are of zero length 50, you might need to change this to 300 if you use google's w2v\n",
    "    cnt_words =0; # num of words with a valid vector in the sentence/review\n",
    "    for word in sent: # for each word in a review/sentence\n",
    "        if word in w2v_words:\n",
    "            vec = w2v_model.wv[word]\n",
    "            sent_vec += vec\n",
    "            cnt_words += 1\n",
    "    if cnt_words != 0:\n",
    "        sent_vec /= cnt_words\n",
    "    sent_vectors.append(sent_vec)\n",
    "print(len(sent_vectors))\n",
    "print(len(sent_vectors[0]))"
   ]
  },
  {
   "cell_type": "markdown",
   "metadata": {},
   "source": [
    "#### [4.4.1.2] TFIDF weighted W2v"
   ]
  },
  {
   "cell_type": "code",
   "execution_count": null,
   "metadata": {},
   "outputs": [],
   "source": [
    "# S = [\"abc def pqr\", \"def def def abc\", \"pqr pqr def\"]\n",
    "model = TfidfVectorizer()\n",
    "tf_idf_matrix = model.fit_transform(preprocessed_reviews)\n",
    "# we are converting a dictionary with word as a key, and the idf as a value\n",
    "dictionary = dict(zip(model.get_feature_names(), list(model.idf_)))"
   ]
  },
  {
   "cell_type": "code",
   "execution_count": null,
   "metadata": {
    "scrolled": true
   },
   "outputs": [],
   "source": [
    "# TF-IDF weighted Word2Vec\n",
    "tfidf_feat = model.get_feature_names() # tfidf words/col-names\n",
    "# final_tf_idf is the sparse matrix with row= sentence, col=word and cell_val = tfidf\n",
    "\n",
    "tfidf_sent_vectors = []; # the tfidf-w2v for each sentence/review is stored in this list\n",
    "row=0;\n",
    "for sent in tqdm(list_of_sentance): # for each review/sentence \n",
    "    sent_vec = np.zeros(50) # as word vectors are of zero length\n",
    "    weight_sum =0; # num of words with a valid vector in the sentence/review\n",
    "    for word in sent: # for each word in a review/sentence\n",
    "        if word in w2v_words and word in tfidf_feat:\n",
    "            vec = w2v_model.wv[word]\n",
    "#             tf_idf = tf_idf_matrix[row, tfidf_feat.index(word)]\n",
    "            # to reduce the computation we are \n",
    "            # dictionary[word] = idf value of word in whole courpus\n",
    "            # sent.count(word) = tf valeus of word in this review\n",
    "            tf_idf = dictionary[word]*(sent.count(word)/len(sent))\n",
    "            sent_vec += (vec * tf_idf)\n",
    "            weight_sum += tf_idf\n",
    "    if weight_sum != 0:\n",
    "        sent_vec /= weight_sum\n",
    "    tfidf_sent_vectors.append(sent_vec)\n",
    "    row += 1"
   ]
  },
  {
   "cell_type": "markdown",
   "metadata": {},
   "source": [
    "# [5] Assignment 7: SVM"
   ]
  },
  {
   "cell_type": "markdown",
   "metadata": {},
   "source": [
    "<ol>\n",
    "    <li><strong>Apply SVM on these feature sets</strong>\n",
    "        <ul>\n",
    "            <li><font color='red'>SET 1:</font>Review text, preprocessed one converted into vectors using (BOW)</li>\n",
    "            <li><font color='red'>SET 2:</font>Review text, preprocessed one converted into vectors using (TFIDF)</li>\n",
    "            <li><font color='red'>SET 3:</font>Review text, preprocessed one converted into vectors using (AVG W2v)</li>\n",
    "            <li><font color='red'>SET 4:</font>Review text, preprocessed one converted into vectors using (TFIDF W2v)</li>\n",
    "        </ul>\n",
    "    </li>\n",
    "    <br>\n",
    "    <li><strong>Procedure</strong>\n",
    "        <ul>\n",
    "    <li>You need to work with 2 versions of SVM\n",
    "        <ul><li>Linear kernel</li>\n",
    "            <li>RBF kernel</li></ul>\n",
    "    <li>When you are working with linear kernel, use SGDClassifier’ with hinge loss because it is computationally less expensive.</li>\n",
    "    <li>When you are working with ‘SGDClassifier’ with hinge loss and trying to find the AUC\n",
    "        score, you would have to use <a href='https://scikit-learn.org/stable/modules/generated/sklearn.calibration.CalibratedClassifierCV.html'>CalibratedClassifierCV</a></li>\n",
    "    <li>Similarly, like kdtree of knn, when you are working with RBF kernel it's better to reduce\n",
    "the number of dimensions. You can put min_df = 10, max_features = 500 and consider a sample size of 40k points.</li>                \n",
    "        </ul>\n",
    "    </li>\n",
    "    <br>\n",
    "    <li><strong>Hyper paramter tuning (find best alpha in range [10^-4 to 10^4], and the best penalty among 'l1', 'l2')</strong>\n",
    "        <ul>\n",
    "    <li>Find the best hyper parameter which will give the maximum <a href='https://www.appliedaicourse.com/course/applied-ai-course-online/lessons/receiver-operating-characteristic-curve-roc-curve-and-auc-1/'>AUC</a> value</li>\n",
    "    <li>Find the best hyper paramter using k-fold cross validation or simple cross validation data</li>\n",
    "    <li>Use gridsearch cv or randomsearch cv or you can also write your own for loops to do this task of hyperparameter tuning</li>          \n",
    "        </ul>\n",
    "    </li>\n",
    "    <br>\n",
    "    <li><strong>Feature importance</strong>\n",
    "        <ul>\n",
    "    <li>When you are working on the linear kernel with BOW or TFIDF please print the top 10 best\n",
    "features for each of the positive and negative classes.</li>\n",
    "        </ul>\n",
    "    </li>\n",
    "    <br>\n",
    "    <li><strong>Feature engineering</strong>\n",
    "        <ul>\n",
    "    <li>To increase the performance of your model, you can also experiment with with feature engineering like :</li>\n",
    "            <ul>\n",
    "            <li>Taking length of reviews as another feature.</li>\n",
    "            <li>Considering some features from review summary as well.</li>\n",
    "        </ul>\n",
    "        </ul>\n",
    "    </li>\n",
    "    <br>\n",
    "    <li><strong>Representation of results</strong>\n",
    "        <ul>\n",
    "    <li>You need to plot the performance of model both on train data and cross validation data for each hyper parameter, like shown in the figure.\n",
    "    <img src='train_cv_auc.JPG' width=300px></li>\n",
    "    <li>Once after you found the best hyper parameter, you need to train your model with it, and find the AUC on test data and plot the ROC curve on both train and test.\n",
    "    <img src='train_test_auc.JPG' width=300px></li>\n",
    "    <li>Along with plotting ROC curve, you need to print the <a href='https://www.appliedaicourse.com/course/applied-ai-course-online/lessons/confusion-matrix-tpr-fpr-fnr-tnr-1/'>confusion matrix</a> with predicted and original labels of test data points. Please visualize your confusion matrices using <a href='https://seaborn.pydata.org/generated/seaborn.heatmap.html'>seaborn heatmaps.\n",
    "    <img src='confusion_matrix.png' width=300px></li>\n",
    "        </ul>\n",
    "    </li>\n",
    "    <br>\n",
    "    <li><strong>Conclusion</strong>\n",
    "        <ul>\n",
    "    <li>You need to summarize the results at the end of the notebook, summarize it in the table format. To print out a table please refer to this prettytable library<a href='http://zetcode.com/python/prettytable/'>  link</a> \n",
    "        <img src='summary.JPG' width=400px>\n",
    "    </li>\n",
    "        </ul>\n",
    "</ol>"
   ]
  },
  {
   "cell_type": "markdown",
   "metadata": {},
   "source": [
    "<h4><font color='red'>Note: Data Leakage</font></h4>\n",
    "\n",
    "1. There will be an issue of data-leakage if you vectorize the entire data and then split it into train/cv/test.\n",
    "2. To avoid the issue of data-leakag, make sure to split your data first and then vectorize it. \n",
    "3. While vectorizing your data, apply the method fit_transform() on you train data, and apply the method transform() on cv/test data.\n",
    "4. For more details please go through this <a href='https://soundcloud.com/applied-ai-course/leakage-bow-and-tfidf'>link.</a>"
   ]
  },
  {
   "cell_type": "markdown",
   "metadata": {},
   "source": [
    "# Applying SVM"
   ]
  },
  {
   "cell_type": "markdown",
   "metadata": {},
   "source": [
    "## [5.1] Linear SVM"
   ]
  },
  {
   "cell_type": "code",
   "execution_count": 25,
   "metadata": {},
   "outputs": [
    {
     "data": {
      "text/html": [
       "<div>\n",
       "<style scoped>\n",
       "    .dataframe tbody tr th:only-of-type {\n",
       "        vertical-align: middle;\n",
       "    }\n",
       "\n",
       "    .dataframe tbody tr th {\n",
       "        vertical-align: top;\n",
       "    }\n",
       "\n",
       "    .dataframe thead th {\n",
       "        text-align: right;\n",
       "    }\n",
       "</style>\n",
       "<table border=\"1\" class=\"dataframe\">\n",
       "  <thead>\n",
       "    <tr style=\"text-align: right;\">\n",
       "      <th></th>\n",
       "      <th>Id</th>\n",
       "      <th>ProductId</th>\n",
       "      <th>UserId</th>\n",
       "      <th>ProfileName</th>\n",
       "      <th>HelpfulnessNumerator</th>\n",
       "      <th>HelpfulnessDenominator</th>\n",
       "      <th>Score</th>\n",
       "      <th>Time</th>\n",
       "      <th>Summary</th>\n",
       "      <th>Text</th>\n",
       "      <th>Cleaned_Text</th>\n",
       "    </tr>\n",
       "  </thead>\n",
       "  <tbody>\n",
       "    <tr>\n",
       "      <th>138706</th>\n",
       "      <td>150524</td>\n",
       "      <td>0006641040</td>\n",
       "      <td>ACITT7DI6IDDL</td>\n",
       "      <td>shari zychinski</td>\n",
       "      <td>0</td>\n",
       "      <td>0</td>\n",
       "      <td>1</td>\n",
       "      <td>1999-10-08</td>\n",
       "      <td>EVERY book is educational</td>\n",
       "      <td>this witty little book makes my son laugh at l...</td>\n",
       "      <td>witty little book makes son laugh loud recite ...</td>\n",
       "    </tr>\n",
       "    <tr>\n",
       "      <th>138683</th>\n",
       "      <td>150501</td>\n",
       "      <td>0006641040</td>\n",
       "      <td>AJ46FKXOVC7NR</td>\n",
       "      <td>Nicholas A Mesiano</td>\n",
       "      <td>2</td>\n",
       "      <td>2</td>\n",
       "      <td>1</td>\n",
       "      <td>1999-10-25</td>\n",
       "      <td>This whole series is great way to spend time w...</td>\n",
       "      <td>I can remember seeing the show when it aired o...</td>\n",
       "      <td>remember seeing show aired television years ag...</td>\n",
       "    </tr>\n",
       "    <tr>\n",
       "      <th>417839</th>\n",
       "      <td>451856</td>\n",
       "      <td>B00004CXX9</td>\n",
       "      <td>AIUWLEQ1ADEG5</td>\n",
       "      <td>Elizabeth Medina</td>\n",
       "      <td>0</td>\n",
       "      <td>0</td>\n",
       "      <td>1</td>\n",
       "      <td>1999-12-02</td>\n",
       "      <td>Entertainingl Funny!</td>\n",
       "      <td>Beetlejuice is a well written movie ..... ever...</td>\n",
       "      <td>beetlejuice well written movie everything exce...</td>\n",
       "    </tr>\n",
       "    <tr>\n",
       "      <th>346055</th>\n",
       "      <td>374359</td>\n",
       "      <td>B00004CI84</td>\n",
       "      <td>A344SMIA5JECGM</td>\n",
       "      <td>Vincent P. Ross</td>\n",
       "      <td>1</td>\n",
       "      <td>2</td>\n",
       "      <td>1</td>\n",
       "      <td>1999-12-06</td>\n",
       "      <td>A modern day fairy tale</td>\n",
       "      <td>A twist of rumplestiskin captured on film, sta...</td>\n",
       "      <td>twist rumplestiskin captured film starring mic...</td>\n",
       "    </tr>\n",
       "    <tr>\n",
       "      <th>417838</th>\n",
       "      <td>451855</td>\n",
       "      <td>B00004CXX9</td>\n",
       "      <td>AJH6LUC1UT1ON</td>\n",
       "      <td>The Phantom of the Opera</td>\n",
       "      <td>0</td>\n",
       "      <td>0</td>\n",
       "      <td>1</td>\n",
       "      <td>2000-01-03</td>\n",
       "      <td>FANTASTIC!</td>\n",
       "      <td>Beetlejuice is an excellent and funny movie. K...</td>\n",
       "      <td>beetlejuice excellent funny movie keaton hilar...</td>\n",
       "    </tr>\n",
       "    <tr>\n",
       "      <th>346116</th>\n",
       "      <td>374422</td>\n",
       "      <td>B00004CI84</td>\n",
       "      <td>A1048CYU0OV4O8</td>\n",
       "      <td>Judy L. Eans</td>\n",
       "      <td>2</td>\n",
       "      <td>2</td>\n",
       "      <td>1</td>\n",
       "      <td>2000-01-09</td>\n",
       "      <td>GREAT</td>\n",
       "      <td>THIS IS ONE MOVIE THAT SHOULD BE IN YOUR MOVIE...</td>\n",
       "      <td>one movie movie collection filled comedy actio...</td>\n",
       "    </tr>\n",
       "    <tr>\n",
       "      <th>346041</th>\n",
       "      <td>374343</td>\n",
       "      <td>B00004CI84</td>\n",
       "      <td>A1B2IZU1JLZA6</td>\n",
       "      <td>Wes</td>\n",
       "      <td>19</td>\n",
       "      <td>23</td>\n",
       "      <td>0</td>\n",
       "      <td>2000-01-19</td>\n",
       "      <td>WARNING: CLAMSHELL EDITION IS EDITED TV VERSION</td>\n",
       "      <td>I, myself always enjoyed this movie, it's very...</td>\n",
       "      <td>always enjoyed movie funny entertaining not he...</td>\n",
       "    </tr>\n",
       "    <tr>\n",
       "      <th>70688</th>\n",
       "      <td>76882</td>\n",
       "      <td>B00002N8SM</td>\n",
       "      <td>A32DW342WBJ6BX</td>\n",
       "      <td>Buttersugar</td>\n",
       "      <td>0</td>\n",
       "      <td>0</td>\n",
       "      <td>1</td>\n",
       "      <td>2000-01-24</td>\n",
       "      <td>A sure death for flies</td>\n",
       "      <td>I bought a few of these after my apartment was...</td>\n",
       "      <td>bought apartment infested fruit flies hours tr...</td>\n",
       "    </tr>\n",
       "    <tr>\n",
       "      <th>346141</th>\n",
       "      <td>374450</td>\n",
       "      <td>B00004CI84</td>\n",
       "      <td>ACJR7EQF9S6FP</td>\n",
       "      <td>Jeremy Robertson</td>\n",
       "      <td>2</td>\n",
       "      <td>3</td>\n",
       "      <td>1</td>\n",
       "      <td>2000-02-26</td>\n",
       "      <td>Bettlejuice...Bettlejuice...BETTLEJUICE!</td>\n",
       "      <td>What happens when you say his name three times...</td>\n",
       "      <td>happens say name three times michael keaten st...</td>\n",
       "    </tr>\n",
       "    <tr>\n",
       "      <th>417883</th>\n",
       "      <td>451903</td>\n",
       "      <td>B00004CXX9</td>\n",
       "      <td>A2DEE7F9XKP3ZR</td>\n",
       "      <td>jerome</td>\n",
       "      <td>0</td>\n",
       "      <td>1</td>\n",
       "      <td>1</td>\n",
       "      <td>2000-06-03</td>\n",
       "      <td>Research</td>\n",
       "      <td>I'm getting crazy.&lt;p&gt;Is it really impossible t...</td>\n",
       "      <td>getting crazy really impossible today not find...</td>\n",
       "    </tr>\n",
       "    <tr>\n",
       "      <th>346094</th>\n",
       "      <td>374400</td>\n",
       "      <td>B00004CI84</td>\n",
       "      <td>A2DEE7F9XKP3ZR</td>\n",
       "      <td>jerome</td>\n",
       "      <td>0</td>\n",
       "      <td>3</td>\n",
       "      <td>1</td>\n",
       "      <td>2000-06-03</td>\n",
       "      <td>Research - Beatlejuice video - French version</td>\n",
       "      <td>I'm getting crazy.I'm looking for Beatlejuice ...</td>\n",
       "      <td>getting crazy looking beatlejuice french versi...</td>\n",
       "    </tr>\n",
       "    <tr>\n",
       "      <th>1146</th>\n",
       "      <td>1245</td>\n",
       "      <td>B00002Z754</td>\n",
       "      <td>A29Z5PI9BW2PU3</td>\n",
       "      <td>Robbie</td>\n",
       "      <td>7</td>\n",
       "      <td>7</td>\n",
       "      <td>1</td>\n",
       "      <td>2000-06-23</td>\n",
       "      <td>Great Product</td>\n",
       "      <td>This was a really good idea and the final prod...</td>\n",
       "      <td>really good idea final product outstanding use...</td>\n",
       "    </tr>\n",
       "    <tr>\n",
       "      <th>1145</th>\n",
       "      <td>1244</td>\n",
       "      <td>B00002Z754</td>\n",
       "      <td>A3B8RCEI0FXFI6</td>\n",
       "      <td>B G Chase</td>\n",
       "      <td>10</td>\n",
       "      <td>10</td>\n",
       "      <td>1</td>\n",
       "      <td>2000-06-29</td>\n",
       "      <td>WOW Make your own 'slickers' !</td>\n",
       "      <td>I just received my shipment and could hardly w...</td>\n",
       "      <td>received shipment could hardly wait try produc...</td>\n",
       "    </tr>\n",
       "    <tr>\n",
       "      <th>121041</th>\n",
       "      <td>131217</td>\n",
       "      <td>B00004RAMX</td>\n",
       "      <td>A5NQLNC6QPGSI</td>\n",
       "      <td>Kim Nason</td>\n",
       "      <td>7</td>\n",
       "      <td>8</td>\n",
       "      <td>1</td>\n",
       "      <td>2000-07-31</td>\n",
       "      <td>End your Gopher Problems</td>\n",
       "      <td>I have just recently purchased the Woodstream ...</td>\n",
       "      <td>recently purchased woodstream corp gopher trap...</td>\n",
       "    </tr>\n",
       "    <tr>\n",
       "      <th>138017</th>\n",
       "      <td>149789</td>\n",
       "      <td>B00004S1C6</td>\n",
       "      <td>A1KXONFPU2XQ5K</td>\n",
       "      <td>Stephanie Manley</td>\n",
       "      <td>26</td>\n",
       "      <td>28</td>\n",
       "      <td>1</td>\n",
       "      <td>2000-08-09</td>\n",
       "      <td>A must have!</td>\n",
       "      <td>These are easy to use, they do not make a mess...</td>\n",
       "      <td>easy use not make mess offer vibrant colors no...</td>\n",
       "    </tr>\n",
       "    <tr>\n",
       "      <th>138001</th>\n",
       "      <td>149770</td>\n",
       "      <td>B00004S1C5</td>\n",
       "      <td>A1KXONFPU2XQ5K</td>\n",
       "      <td>Stephanie Manley</td>\n",
       "      <td>8</td>\n",
       "      <td>8</td>\n",
       "      <td>1</td>\n",
       "      <td>2000-08-09</td>\n",
       "      <td>Very easy to use</td>\n",
       "      <td>This are so much easier to use than the Wilson...</td>\n",
       "      <td>much easier use wilson paste colors colors vib...</td>\n",
       "    </tr>\n",
       "    <tr>\n",
       "      <th>346115</th>\n",
       "      <td>374421</td>\n",
       "      <td>B00004CI84</td>\n",
       "      <td>A1FJOY14X3MUHE</td>\n",
       "      <td>Justin Howard</td>\n",
       "      <td>2</td>\n",
       "      <td>2</td>\n",
       "      <td>1</td>\n",
       "      <td>2000-08-15</td>\n",
       "      <td>A fresh, original film from master storyteller...</td>\n",
       "      <td>This is such a great film, I don't even know h...</td>\n",
       "      <td>great film not even know sum first completely ...</td>\n",
       "    </tr>\n",
       "    <tr>\n",
       "      <th>346102</th>\n",
       "      <td>374408</td>\n",
       "      <td>B00004CI84</td>\n",
       "      <td>A1GB1Q193DNFGR</td>\n",
       "      <td>Bruce Lee Pullen</td>\n",
       "      <td>5</td>\n",
       "      <td>5</td>\n",
       "      <td>1</td>\n",
       "      <td>2000-10-03</td>\n",
       "      <td>Fabulous Comedic Fanasy Directed by a Master</td>\n",
       "      <td>Beetlejuice is an awe-inspiring wonderfully am...</td>\n",
       "      <td>beetlejuice awe inspiring wonderfully amusing ...</td>\n",
       "    </tr>\n",
       "    <tr>\n",
       "      <th>138000</th>\n",
       "      <td>149768</td>\n",
       "      <td>B00004S1C5</td>\n",
       "      <td>A7P76IGRZZBFJ</td>\n",
       "      <td>E. Thompson \"Soooooper Genius\"</td>\n",
       "      <td>18</td>\n",
       "      <td>18</td>\n",
       "      <td>1</td>\n",
       "      <td>2000-12-05</td>\n",
       "      <td>Who Needs Wilton?</td>\n",
       "      <td>I'm sick of scads of nasty toothpicks all over...</td>\n",
       "      <td>sick scads nasty toothpicks counter tinting ic...</td>\n",
       "    </tr>\n",
       "    <tr>\n",
       "      <th>346078</th>\n",
       "      <td>374383</td>\n",
       "      <td>B00004CI84</td>\n",
       "      <td>A34NBH479RB0E</td>\n",
       "      <td>\"dmab6395\"</td>\n",
       "      <td>0</td>\n",
       "      <td>1</td>\n",
       "      <td>1</td>\n",
       "      <td>2000-12-19</td>\n",
       "      <td>FUNNY</td>\n",
       "      <td>I THOUGHT THIS MOVIE WAS SO FUNNY, MICHAEL KEA...</td>\n",
       "      <td>thought movie funny michael keaton beetlejuice...</td>\n",
       "    </tr>\n",
       "    <tr>\n",
       "      <th>346054</th>\n",
       "      <td>374358</td>\n",
       "      <td>B00004CI84</td>\n",
       "      <td>A1HWMNSQF14MP8</td>\n",
       "      <td>will@socialaw.com</td>\n",
       "      <td>1</td>\n",
       "      <td>2</td>\n",
       "      <td>1</td>\n",
       "      <td>2000-12-30</td>\n",
       "      <td>A Afterlife Success</td>\n",
       "      <td>Many movies, have dealt with the figure of dea...</td>\n",
       "      <td>many movies dealt figure death dead good angel...</td>\n",
       "    </tr>\n",
       "    <tr>\n",
       "      <th>138018</th>\n",
       "      <td>149790</td>\n",
       "      <td>B00004S1C6</td>\n",
       "      <td>A1IU7S4HCK1XK0</td>\n",
       "      <td>Joanna Daneman</td>\n",
       "      <td>25</td>\n",
       "      <td>27</td>\n",
       "      <td>1</td>\n",
       "      <td>2001-02-22</td>\n",
       "      <td>Make your own Martha Stewart style cakes and c...</td>\n",
       "      <td>I don't know why anyone would ever use those l...</td>\n",
       "      <td>not know anyone would ever use little liquid f...</td>\n",
       "    </tr>\n",
       "    <tr>\n",
       "      <th>417901</th>\n",
       "      <td>451923</td>\n",
       "      <td>B00004CXX9</td>\n",
       "      <td>ANIMV3SPDD8SH</td>\n",
       "      <td>Guy De Federicis</td>\n",
       "      <td>1</td>\n",
       "      <td>12</td>\n",
       "      <td>0</td>\n",
       "      <td>2001-06-11</td>\n",
       "      <td>CASPER IS THE GHOST WITH THE MOST</td>\n",
       "      <td>Michael Keaton brings no distinguishing charac...</td>\n",
       "      <td>michael keaton brings no distinguishing charac...</td>\n",
       "    </tr>\n",
       "    <tr>\n",
       "      <th>346037</th>\n",
       "      <td>374339</td>\n",
       "      <td>B00004CI84</td>\n",
       "      <td>AZRJH4JFB59VC</td>\n",
       "      <td>Lynwood E. Hines</td>\n",
       "      <td>21</td>\n",
       "      <td>23</td>\n",
       "      <td>0</td>\n",
       "      <td>2001-08-08</td>\n",
       "      <td>Great movie, terrible DVD</td>\n",
       "      <td>I am continually amazed at the shoddy treatmen...</td>\n",
       "      <td>continually amazed shoddy treatment movies get...</td>\n",
       "    </tr>\n",
       "    <tr>\n",
       "      <th>346140</th>\n",
       "      <td>374449</td>\n",
       "      <td>B00004CI84</td>\n",
       "      <td>A3K3YJWV0N54ZO</td>\n",
       "      <td>Joey</td>\n",
       "      <td>2</td>\n",
       "      <td>3</td>\n",
       "      <td>1</td>\n",
       "      <td>2001-09-24</td>\n",
       "      <td>Beetlejuice is a greatmovie, but they cheated ...</td>\n",
       "      <td>Just to warn you. when in trying to trick you ...</td>\n",
       "      <td>warn trying trick widescreen format company ma...</td>\n",
       "    </tr>\n",
       "    <tr>\n",
       "      <th>138020</th>\n",
       "      <td>149792</td>\n",
       "      <td>B00004S1C6</td>\n",
       "      <td>A3B5QJVM1TLYJG</td>\n",
       "      <td>Dan Crevier</td>\n",
       "      <td>11</td>\n",
       "      <td>12</td>\n",
       "      <td>1</td>\n",
       "      <td>2001-10-23</td>\n",
       "      <td>Nice, bright colors!</td>\n",
       "      <td>I bought these to decorate some dia de los mue...</td>\n",
       "      <td>bought decorate dia de los muertos skulls icin...</td>\n",
       "    </tr>\n",
       "    <tr>\n",
       "      <th>346033</th>\n",
       "      <td>374335</td>\n",
       "      <td>B00004CI84</td>\n",
       "      <td>A3L5V40F14R2GP</td>\n",
       "      <td>AARON</td>\n",
       "      <td>0</td>\n",
       "      <td>0</td>\n",
       "      <td>1</td>\n",
       "      <td>2001-10-26</td>\n",
       "      <td>Beetlejuice! Beetlejuice! Beatlejuice!</td>\n",
       "      <td>Winona Ryder is HOT! HOT! HOT! as the gothic d...</td>\n",
       "      <td>winona ryder hot hot hot gothic death rock pri...</td>\n",
       "    </tr>\n",
       "    <tr>\n",
       "      <th>138682</th>\n",
       "      <td>150500</td>\n",
       "      <td>0006641040</td>\n",
       "      <td>A1IJKK6Q1GTEAY</td>\n",
       "      <td>A Customer</td>\n",
       "      <td>2</td>\n",
       "      <td>2</td>\n",
       "      <td>1</td>\n",
       "      <td>2001-12-26</td>\n",
       "      <td>It Was a favorite!</td>\n",
       "      <td>This was a favorite book of mine when I was a ...</td>\n",
       "      <td>favorite book mine little girl would read time...</td>\n",
       "    </tr>\n",
       "    <tr>\n",
       "      <th>333930</th>\n",
       "      <td>361317</td>\n",
       "      <td>B00005IX96</td>\n",
       "      <td>A3ODTU118FKC5J</td>\n",
       "      <td>Rosemarie E Smith</td>\n",
       "      <td>5</td>\n",
       "      <td>7</td>\n",
       "      <td>1</td>\n",
       "      <td>2002-01-06</td>\n",
       "      <td>A little piece of heaven.</td>\n",
       "      <td>For years I have been trying to simulate a tru...</td>\n",
       "      <td>years trying simulate truly italian espresso c...</td>\n",
       "    </tr>\n",
       "    <tr>\n",
       "      <th>346032</th>\n",
       "      <td>374334</td>\n",
       "      <td>B00004CI84</td>\n",
       "      <td>A2HIZRVOKXKZ52</td>\n",
       "      <td>KAY N. FOWLER</td>\n",
       "      <td>0</td>\n",
       "      <td>0</td>\n",
       "      <td>1</td>\n",
       "      <td>2002-02-04</td>\n",
       "      <td>Beetlejuice - Great Fun for Everyone!</td>\n",
       "      <td>When vacationing Adam and Barbara Maitland mee...</td>\n",
       "      <td>vacationing adam barbara maitland meet demise ...</td>\n",
       "    </tr>\n",
       "    <tr>\n",
       "      <th>...</th>\n",
       "      <td>...</td>\n",
       "      <td>...</td>\n",
       "      <td>...</td>\n",
       "      <td>...</td>\n",
       "      <td>...</td>\n",
       "      <td>...</td>\n",
       "      <td>...</td>\n",
       "      <td>...</td>\n",
       "      <td>...</td>\n",
       "      <td>...</td>\n",
       "      <td>...</td>\n",
       "    </tr>\n",
       "    <tr>\n",
       "      <th>281574</th>\n",
       "      <td>305063</td>\n",
       "      <td>B004CQYODW</td>\n",
       "      <td>AM2ADIDTH4SI4</td>\n",
       "      <td>DC Kids</td>\n",
       "      <td>0</td>\n",
       "      <td>0</td>\n",
       "      <td>1</td>\n",
       "      <td>2012-10-26</td>\n",
       "      <td>Bing</td>\n",
       "      <td>I love that I can still get this product in Ca...</td>\n",
       "      <td>love still get product california even though ...</td>\n",
       "    </tr>\n",
       "    <tr>\n",
       "      <th>51204</th>\n",
       "      <td>55627</td>\n",
       "      <td>B004CYLW7A</td>\n",
       "      <td>A2CMS7BYL8BKP1</td>\n",
       "      <td>luv2fly</td>\n",
       "      <td>0</td>\n",
       "      <td>0</td>\n",
       "      <td>0</td>\n",
       "      <td>2012-10-26</td>\n",
       "      <td>Yuk! And who goes to Amazon to buy cereal?????</td>\n",
       "      <td>This stuff tasted like (insert favorite negati...</td>\n",
       "      <td>stuff tasted like insert favorite negative adj...</td>\n",
       "    </tr>\n",
       "    <tr>\n",
       "      <th>156284</th>\n",
       "      <td>169487</td>\n",
       "      <td>B000NM1BHQ</td>\n",
       "      <td>A2JDXKFZ0PFHKU</td>\n",
       "      <td>James W. Shondel</td>\n",
       "      <td>0</td>\n",
       "      <td>0</td>\n",
       "      <td>0</td>\n",
       "      <td>2012-10-26</td>\n",
       "      <td>Received broken</td>\n",
       "      <td>I bought these to use as decorative center pie...</td>\n",
       "      <td>bought use decorative center pieces birthday p...</td>\n",
       "    </tr>\n",
       "    <tr>\n",
       "      <th>264610</th>\n",
       "      <td>286810</td>\n",
       "      <td>B001EPPXRK</td>\n",
       "      <td>A1L1T27A33DDP6</td>\n",
       "      <td>Quietwolf</td>\n",
       "      <td>0</td>\n",
       "      <td>0</td>\n",
       "      <td>1</td>\n",
       "      <td>2012-10-26</td>\n",
       "      <td>Colorado Spice Orange Peel, Fine Cut</td>\n",
       "      <td>It was more then I needed but I'm glad I bough...</td>\n",
       "      <td>needed glad bought bulk product described save...</td>\n",
       "    </tr>\n",
       "    <tr>\n",
       "      <th>6548</th>\n",
       "      <td>7178</td>\n",
       "      <td>B004OQLIHK</td>\n",
       "      <td>AKHQMSUORSA91</td>\n",
       "      <td>Pen Name</td>\n",
       "      <td>0</td>\n",
       "      <td>0</td>\n",
       "      <td>1</td>\n",
       "      <td>2012-10-26</td>\n",
       "      <td>Delicious!</td>\n",
       "      <td>I have ordered these raisins multiple times.  ...</td>\n",
       "      <td>ordered raisins multiple times always great ar...</td>\n",
       "    </tr>\n",
       "    <tr>\n",
       "      <th>78921</th>\n",
       "      <td>85817</td>\n",
       "      <td>B000NCXHFA</td>\n",
       "      <td>ATMTE0BSP7W6S</td>\n",
       "      <td>Lor \"Lor\"</td>\n",
       "      <td>0</td>\n",
       "      <td>0</td>\n",
       "      <td>1</td>\n",
       "      <td>2012-10-26</td>\n",
       "      <td>Mung Beans for sprouting</td>\n",
       "      <td>I wanted to feed my chickens, turkeys and goat...</td>\n",
       "      <td>wanted feed chickens turkeys goats little extr...</td>\n",
       "    </tr>\n",
       "    <tr>\n",
       "      <th>89213</th>\n",
       "      <td>97089</td>\n",
       "      <td>B004O8KBK8</td>\n",
       "      <td>A1JPKFGGF128X1</td>\n",
       "      <td>MTNick</td>\n",
       "      <td>0</td>\n",
       "      <td>0</td>\n",
       "      <td>1</td>\n",
       "      <td>2012-10-26</td>\n",
       "      <td>Yummy and Healthy</td>\n",
       "      <td>Loved the cranberry-like flavor and slightly c...</td>\n",
       "      <td>loved cranberry like flavor slightly crunchy t...</td>\n",
       "    </tr>\n",
       "    <tr>\n",
       "      <th>198657</th>\n",
       "      <td>215299</td>\n",
       "      <td>B004O86R2O</td>\n",
       "      <td>ABSMK7ETXKES0</td>\n",
       "      <td>ak</td>\n",
       "      <td>0</td>\n",
       "      <td>0</td>\n",
       "      <td>1</td>\n",
       "      <td>2012-10-26</td>\n",
       "      <td>Great product!!!!!!!!!!!!</td>\n",
       "      <td>price and quality are awesome!! Buy recommenda...</td>\n",
       "      <td>price quality awesome buy recommendation order...</td>\n",
       "    </tr>\n",
       "    <tr>\n",
       "      <th>420088</th>\n",
       "      <td>454287</td>\n",
       "      <td>B004NZ0JIQ</td>\n",
       "      <td>A2K082DNME4G2P</td>\n",
       "      <td>Julie Bartholoma</td>\n",
       "      <td>0</td>\n",
       "      <td>0</td>\n",
       "      <td>1</td>\n",
       "      <td>2012-10-26</td>\n",
       "      <td>Delicious!!!!</td>\n",
       "      <td>A coffee treat. Now that my husband and I drin...</td>\n",
       "      <td>coffee treat husband drink coffee no going bac...</td>\n",
       "    </tr>\n",
       "    <tr>\n",
       "      <th>222056</th>\n",
       "      <td>240775</td>\n",
       "      <td>B000NBQUNW</td>\n",
       "      <td>A10F34HEJG1QW1</td>\n",
       "      <td>WALLACE CHOY</td>\n",
       "      <td>0</td>\n",
       "      <td>0</td>\n",
       "      <td>1</td>\n",
       "      <td>2012-10-26</td>\n",
       "      <td>BENECOL SMART CHEWS</td>\n",
       "      <td>My cholesterol readings have improved with the...</td>\n",
       "      <td>cholesterol readings improved help chews belie...</td>\n",
       "    </tr>\n",
       "    <tr>\n",
       "      <th>273030</th>\n",
       "      <td>295923</td>\n",
       "      <td>B0002DGL26</td>\n",
       "      <td>A3SZ0N66423CE5</td>\n",
       "      <td>Cynthia Z. Wrinn</td>\n",
       "      <td>0</td>\n",
       "      <td>0</td>\n",
       "      <td>0</td>\n",
       "      <td>2012-10-26</td>\n",
       "      <td>plastic chew</td>\n",
       "      <td>Puppy didn't care for this. Older dog chews on...</td>\n",
       "      <td>puppy not care older dog chews not sure much g...</td>\n",
       "    </tr>\n",
       "    <tr>\n",
       "      <th>347730</th>\n",
       "      <td>376143</td>\n",
       "      <td>B004NB7A1O</td>\n",
       "      <td>A2JDXKFZ0PFHKU</td>\n",
       "      <td>James W. Shondel</td>\n",
       "      <td>0</td>\n",
       "      <td>0</td>\n",
       "      <td>1</td>\n",
       "      <td>2012-10-26</td>\n",
       "      <td>Perfect pops!</td>\n",
       "      <td>Not a single pop arrived broken! They take a l...</td>\n",
       "      <td>not single pop arrived broken take lot time pa...</td>\n",
       "    </tr>\n",
       "    <tr>\n",
       "      <th>119196</th>\n",
       "      <td>129256</td>\n",
       "      <td>B004MMNNDS</td>\n",
       "      <td>A248RO4GSIWDII</td>\n",
       "      <td>Robert Kawalec</td>\n",
       "      <td>0</td>\n",
       "      <td>0</td>\n",
       "      <td>1</td>\n",
       "      <td>2012-10-26</td>\n",
       "      <td>Love it!</td>\n",
       "      <td>Heard great things about drinking this tea. I ...</td>\n",
       "      <td>heard great things drinking tea happy purchase...</td>\n",
       "    </tr>\n",
       "    <tr>\n",
       "      <th>416667</th>\n",
       "      <td>450607</td>\n",
       "      <td>B004MBJPV8</td>\n",
       "      <td>AG7EPW4BU9SG4</td>\n",
       "      <td>2 Toddlers' Mom \"2 Toddlers' Mom\"</td>\n",
       "      <td>0</td>\n",
       "      <td>0</td>\n",
       "      <td>0</td>\n",
       "      <td>2012-10-26</td>\n",
       "      <td>Disappointed...</td>\n",
       "      <td>I should read the fine print, I guess.  I most...</td>\n",
       "      <td>read fine print guess mostly went picture woul...</td>\n",
       "    </tr>\n",
       "    <tr>\n",
       "      <th>198769</th>\n",
       "      <td>215423</td>\n",
       "      <td>B0001UK0CM</td>\n",
       "      <td>A2V8WXAFG1TEOC</td>\n",
       "      <td>ronald (NY)</td>\n",
       "      <td>0</td>\n",
       "      <td>0</td>\n",
       "      <td>1</td>\n",
       "      <td>2012-10-26</td>\n",
       "      <td>Excellent taste</td>\n",
       "      <td>This is to me a great coffee, once you try it ...</td>\n",
       "      <td>great coffee try enjoy coffee wonderful taste</td>\n",
       "    </tr>\n",
       "    <tr>\n",
       "      <th>43703</th>\n",
       "      <td>47562</td>\n",
       "      <td>B004M0Y8T8</td>\n",
       "      <td>A2QJS6MHTIFSRI</td>\n",
       "      <td>Georgie</td>\n",
       "      <td>0</td>\n",
       "      <td>0</td>\n",
       "      <td>1</td>\n",
       "      <td>2012-10-26</td>\n",
       "      <td>Sleeping a lot better</td>\n",
       "      <td>Hubby and I (both 63) have been drinking about...</td>\n",
       "      <td>hubby drinking oz night months found falling d...</td>\n",
       "    </tr>\n",
       "    <tr>\n",
       "      <th>265436</th>\n",
       "      <td>287728</td>\n",
       "      <td>B004J402A6</td>\n",
       "      <td>A2OGEXIK9IG4WU</td>\n",
       "      <td>Beth</td>\n",
       "      <td>0</td>\n",
       "      <td>0</td>\n",
       "      <td>1</td>\n",
       "      <td>2012-10-26</td>\n",
       "      <td>Love this coffee...</td>\n",
       "      <td>This is the best coffee ever! Wish I could ord...</td>\n",
       "      <td>best coffee ever wish could order box time go ...</td>\n",
       "    </tr>\n",
       "    <tr>\n",
       "      <th>236904</th>\n",
       "      <td>256994</td>\n",
       "      <td>B004ITWDKO</td>\n",
       "      <td>A3934PPUIWRZVX</td>\n",
       "      <td>Chellie H.</td>\n",
       "      <td>0</td>\n",
       "      <td>0</td>\n",
       "      <td>1</td>\n",
       "      <td>2012-10-26</td>\n",
       "      <td>Much, much too expensive!!</td>\n",
       "      <td>I ordered these for my silky terrier and he ab...</td>\n",
       "      <td>ordered silky terrier absolutely loves however...</td>\n",
       "    </tr>\n",
       "    <tr>\n",
       "      <th>135216</th>\n",
       "      <td>146763</td>\n",
       "      <td>B004IN6GVM</td>\n",
       "      <td>A5PFLD64SYXYK</td>\n",
       "      <td>Bruce F</td>\n",
       "      <td>0</td>\n",
       "      <td>0</td>\n",
       "      <td>1</td>\n",
       "      <td>2012-10-26</td>\n",
       "      <td>The BEST dog candy</td>\n",
       "      <td>This brand of dog treats is by FAR the most lo...</td>\n",
       "      <td>brand dog treats far loved product kind two mi...</td>\n",
       "    </tr>\n",
       "    <tr>\n",
       "      <th>397181</th>\n",
       "      <td>429454</td>\n",
       "      <td>B004IMYBIS</td>\n",
       "      <td>A33V118ZVFLGVK</td>\n",
       "      <td>Wings42 \"David\"</td>\n",
       "      <td>0</td>\n",
       "      <td>0</td>\n",
       "      <td>1</td>\n",
       "      <td>2012-10-26</td>\n",
       "      <td>Delicious but not for everybody</td>\n",
       "      <td>Pros:&lt;br /&gt;- Wholesome ingredients&lt;br /&gt;- Easy...</td>\n",
       "      <td>pros wholesome ingredients easy mix make flavo...</td>\n",
       "    </tr>\n",
       "    <tr>\n",
       "      <th>206654</th>\n",
       "      <td>223963</td>\n",
       "      <td>B004H6MV28</td>\n",
       "      <td>AFF6F08FRSYWG</td>\n",
       "      <td>Kentucky Woman \"Emily\"</td>\n",
       "      <td>0</td>\n",
       "      <td>0</td>\n",
       "      <td>1</td>\n",
       "      <td>2012-10-26</td>\n",
       "      <td>Love chai - love Keurig - love these K-cups!</td>\n",
       "      <td>I'm addicted to these chai k-cups.  It tastes ...</td>\n",
       "      <td>addicted chai k cups tastes sooo good much che...</td>\n",
       "    </tr>\n",
       "    <tr>\n",
       "      <th>469195</th>\n",
       "      <td>507351</td>\n",
       "      <td>B004H4P6VI</td>\n",
       "      <td>A1V7KJHE8SKJ4G</td>\n",
       "      <td>Christine</td>\n",
       "      <td>0</td>\n",
       "      <td>0</td>\n",
       "      <td>1</td>\n",
       "      <td>2012-10-26</td>\n",
       "      <td>BEST GRAVY EVER</td>\n",
       "      <td>Love this gravy mix for a quick meal. Worth th...</td>\n",
       "      <td>love gravy mix quick meal worth price really g...</td>\n",
       "    </tr>\n",
       "    <tr>\n",
       "      <th>407675</th>\n",
       "      <td>440836</td>\n",
       "      <td>B004GN8NP6</td>\n",
       "      <td>A1GENHMJBIS42V</td>\n",
       "      <td>TechLover70</td>\n",
       "      <td>0</td>\n",
       "      <td>0</td>\n",
       "      <td>1</td>\n",
       "      <td>2012-10-26</td>\n",
       "      <td>Boring name but great coffee</td>\n",
       "      <td>Aside from a non-flashy name, this is a great ...</td>\n",
       "      <td>aside non flashy name great coffee smooth perf...</td>\n",
       "    </tr>\n",
       "    <tr>\n",
       "      <th>481144</th>\n",
       "      <td>520251</td>\n",
       "      <td>B001EQ5IAG</td>\n",
       "      <td>A225UWT247BBBH</td>\n",
       "      <td>J. Blair</td>\n",
       "      <td>0</td>\n",
       "      <td>0</td>\n",
       "      <td>1</td>\n",
       "      <td>2012-10-26</td>\n",
       "      <td>Great stuff! No aftertaste.</td>\n",
       "      <td>I made sugar-free merengues with this sweetene...</td>\n",
       "      <td>made sugar free merengues sweetener turned bea...</td>\n",
       "    </tr>\n",
       "    <tr>\n",
       "      <th>8731</th>\n",
       "      <td>9564</td>\n",
       "      <td>B001EQ5IPQ</td>\n",
       "      <td>AA2104NO2VE8H</td>\n",
       "      <td>Lakshminarayan Iyer</td>\n",
       "      <td>0</td>\n",
       "      <td>0</td>\n",
       "      <td>0</td>\n",
       "      <td>2012-10-26</td>\n",
       "      <td>Extremely dissapointed</td>\n",
       "      <td>Hi,&lt;br /&gt;I am very disappointed with the past ...</td>\n",
       "      <td>hi disappointed past shipment received one coc...</td>\n",
       "    </tr>\n",
       "    <tr>\n",
       "      <th>1005</th>\n",
       "      <td>1089</td>\n",
       "      <td>B004FD13RW</td>\n",
       "      <td>A1BPLP0BKERV</td>\n",
       "      <td>Paul</td>\n",
       "      <td>0</td>\n",
       "      <td>0</td>\n",
       "      <td>1</td>\n",
       "      <td>2012-10-26</td>\n",
       "      <td>It is awesome.</td>\n",
       "      <td>My partner is very happy with the tea, and is ...</td>\n",
       "      <td>partner happy tea feeling much better since st...</td>\n",
       "    </tr>\n",
       "    <tr>\n",
       "      <th>55158</th>\n",
       "      <td>59851</td>\n",
       "      <td>B001EQ5KTK</td>\n",
       "      <td>A3GS4GWPIBV0NT</td>\n",
       "      <td>R. Chester \"ricki1966\"</td>\n",
       "      <td>0</td>\n",
       "      <td>0</td>\n",
       "      <td>1</td>\n",
       "      <td>2012-10-26</td>\n",
       "      <td>Love this tea</td>\n",
       "      <td>This is a favorite of mine for using over ice....</td>\n",
       "      <td>favorite mine using ice even bought give chris...</td>\n",
       "    </tr>\n",
       "    <tr>\n",
       "      <th>433652</th>\n",
       "      <td>468954</td>\n",
       "      <td>B004DMGQKE</td>\n",
       "      <td>ABXLMWJIXXAIN</td>\n",
       "      <td>Natalia Corres \"Natalia Corres\"</td>\n",
       "      <td>0</td>\n",
       "      <td>0</td>\n",
       "      <td>1</td>\n",
       "      <td>2012-10-26</td>\n",
       "      <td>Awesome service and great products</td>\n",
       "      <td>We sent this product as a gift to my husband's...</td>\n",
       "      <td>sent product gift husband daughter graduated u...</td>\n",
       "    </tr>\n",
       "    <tr>\n",
       "      <th>214905</th>\n",
       "      <td>232914</td>\n",
       "      <td>B001EQ4OY2</td>\n",
       "      <td>A19N1RDH99TTJZ</td>\n",
       "      <td>Lahn</td>\n",
       "      <td>0</td>\n",
       "      <td>0</td>\n",
       "      <td>1</td>\n",
       "      <td>2012-10-26</td>\n",
       "      <td>Can't live without it!</td>\n",
       "      <td>I'm french so I literally grew up with this sa...</td>\n",
       "      <td>french literally grew salt not even know cook ...</td>\n",
       "    </tr>\n",
       "    <tr>\n",
       "      <th>250496</th>\n",
       "      <td>271605</td>\n",
       "      <td>B004S0332A</td>\n",
       "      <td>A1P232KPXTRR3C</td>\n",
       "      <td>XtraKargo</td>\n",
       "      <td>0</td>\n",
       "      <td>0</td>\n",
       "      <td>1</td>\n",
       "      <td>2012-10-26</td>\n",
       "      <td>Goodness on all of it!</td>\n",
       "      <td>I use from the breakfast table to dinner. I li...</td>\n",
       "      <td>use breakfast table dinner like eggs bake chic...</td>\n",
       "    </tr>\n",
       "  </tbody>\n",
       "</table>\n",
       "<p>348260 rows × 11 columns</p>\n",
       "</div>"
      ],
      "text/plain": [
       "            Id   ProductId          UserId                        ProfileName  \\\n",
       "138706  150524  0006641040   ACITT7DI6IDDL                    shari zychinski   \n",
       "138683  150501  0006641040   AJ46FKXOVC7NR                 Nicholas A Mesiano   \n",
       "417839  451856  B00004CXX9   AIUWLEQ1ADEG5                   Elizabeth Medina   \n",
       "346055  374359  B00004CI84  A344SMIA5JECGM                    Vincent P. Ross   \n",
       "417838  451855  B00004CXX9   AJH6LUC1UT1ON           The Phantom of the Opera   \n",
       "346116  374422  B00004CI84  A1048CYU0OV4O8                       Judy L. Eans   \n",
       "346041  374343  B00004CI84   A1B2IZU1JLZA6                                Wes   \n",
       "70688    76882  B00002N8SM  A32DW342WBJ6BX                        Buttersugar   \n",
       "346141  374450  B00004CI84   ACJR7EQF9S6FP                   Jeremy Robertson   \n",
       "417883  451903  B00004CXX9  A2DEE7F9XKP3ZR                             jerome   \n",
       "346094  374400  B00004CI84  A2DEE7F9XKP3ZR                             jerome   \n",
       "1146      1245  B00002Z754  A29Z5PI9BW2PU3                             Robbie   \n",
       "1145      1244  B00002Z754  A3B8RCEI0FXFI6                          B G Chase   \n",
       "121041  131217  B00004RAMX   A5NQLNC6QPGSI                          Kim Nason   \n",
       "138017  149789  B00004S1C6  A1KXONFPU2XQ5K                   Stephanie Manley   \n",
       "138001  149770  B00004S1C5  A1KXONFPU2XQ5K                   Stephanie Manley   \n",
       "346115  374421  B00004CI84  A1FJOY14X3MUHE                      Justin Howard   \n",
       "346102  374408  B00004CI84  A1GB1Q193DNFGR                   Bruce Lee Pullen   \n",
       "138000  149768  B00004S1C5   A7P76IGRZZBFJ     E. Thompson \"Soooooper Genius\"   \n",
       "346078  374383  B00004CI84   A34NBH479RB0E                         \"dmab6395\"   \n",
       "346054  374358  B00004CI84  A1HWMNSQF14MP8                  will@socialaw.com   \n",
       "138018  149790  B00004S1C6  A1IU7S4HCK1XK0                     Joanna Daneman   \n",
       "417901  451923  B00004CXX9   ANIMV3SPDD8SH                   Guy De Federicis   \n",
       "346037  374339  B00004CI84   AZRJH4JFB59VC                   Lynwood E. Hines   \n",
       "346140  374449  B00004CI84  A3K3YJWV0N54ZO                               Joey   \n",
       "138020  149792  B00004S1C6  A3B5QJVM1TLYJG                        Dan Crevier   \n",
       "346033  374335  B00004CI84  A3L5V40F14R2GP                              AARON   \n",
       "138682  150500  0006641040  A1IJKK6Q1GTEAY                         A Customer   \n",
       "333930  361317  B00005IX96  A3ODTU118FKC5J                  Rosemarie E Smith   \n",
       "346032  374334  B00004CI84  A2HIZRVOKXKZ52                      KAY N. FOWLER   \n",
       "...        ...         ...             ...                                ...   \n",
       "281574  305063  B004CQYODW   AM2ADIDTH4SI4                            DC Kids   \n",
       "51204    55627  B004CYLW7A  A2CMS7BYL8BKP1                            luv2fly   \n",
       "156284  169487  B000NM1BHQ  A2JDXKFZ0PFHKU                   James W. Shondel   \n",
       "264610  286810  B001EPPXRK  A1L1T27A33DDP6                          Quietwolf   \n",
       "6548      7178  B004OQLIHK   AKHQMSUORSA91                           Pen Name   \n",
       "78921    85817  B000NCXHFA   ATMTE0BSP7W6S                          Lor \"Lor\"   \n",
       "89213    97089  B004O8KBK8  A1JPKFGGF128X1                             MTNick   \n",
       "198657  215299  B004O86R2O   ABSMK7ETXKES0                                 ak   \n",
       "420088  454287  B004NZ0JIQ  A2K082DNME4G2P                   Julie Bartholoma   \n",
       "222056  240775  B000NBQUNW  A10F34HEJG1QW1                       WALLACE CHOY   \n",
       "273030  295923  B0002DGL26  A3SZ0N66423CE5                   Cynthia Z. Wrinn   \n",
       "347730  376143  B004NB7A1O  A2JDXKFZ0PFHKU                   James W. Shondel   \n",
       "119196  129256  B004MMNNDS  A248RO4GSIWDII                     Robert Kawalec   \n",
       "416667  450607  B004MBJPV8   AG7EPW4BU9SG4  2 Toddlers' Mom \"2 Toddlers' Mom\"   \n",
       "198769  215423  B0001UK0CM  A2V8WXAFG1TEOC                        ronald (NY)   \n",
       "43703    47562  B004M0Y8T8  A2QJS6MHTIFSRI                            Georgie   \n",
       "265436  287728  B004J402A6  A2OGEXIK9IG4WU                               Beth   \n",
       "236904  256994  B004ITWDKO  A3934PPUIWRZVX                         Chellie H.   \n",
       "135216  146763  B004IN6GVM   A5PFLD64SYXYK                            Bruce F   \n",
       "397181  429454  B004IMYBIS  A33V118ZVFLGVK                    Wings42 \"David\"   \n",
       "206654  223963  B004H6MV28   AFF6F08FRSYWG             Kentucky Woman \"Emily\"   \n",
       "469195  507351  B004H4P6VI  A1V7KJHE8SKJ4G                          Christine   \n",
       "407675  440836  B004GN8NP6  A1GENHMJBIS42V                        TechLover70   \n",
       "481144  520251  B001EQ5IAG  A225UWT247BBBH                           J. Blair   \n",
       "8731      9564  B001EQ5IPQ   AA2104NO2VE8H                Lakshminarayan Iyer   \n",
       "1005      1089  B004FD13RW    A1BPLP0BKERV                               Paul   \n",
       "55158    59851  B001EQ5KTK  A3GS4GWPIBV0NT             R. Chester \"ricki1966\"   \n",
       "433652  468954  B004DMGQKE   ABXLMWJIXXAIN    Natalia Corres \"Natalia Corres\"   \n",
       "214905  232914  B001EQ4OY2  A19N1RDH99TTJZ                               Lahn   \n",
       "250496  271605  B004S0332A  A1P232KPXTRR3C                          XtraKargo   \n",
       "\n",
       "        HelpfulnessNumerator  HelpfulnessDenominator  Score       Time  \\\n",
       "138706                     0                       0      1 1999-10-08   \n",
       "138683                     2                       2      1 1999-10-25   \n",
       "417839                     0                       0      1 1999-12-02   \n",
       "346055                     1                       2      1 1999-12-06   \n",
       "417838                     0                       0      1 2000-01-03   \n",
       "346116                     2                       2      1 2000-01-09   \n",
       "346041                    19                      23      0 2000-01-19   \n",
       "70688                      0                       0      1 2000-01-24   \n",
       "346141                     2                       3      1 2000-02-26   \n",
       "417883                     0                       1      1 2000-06-03   \n",
       "346094                     0                       3      1 2000-06-03   \n",
       "1146                       7                       7      1 2000-06-23   \n",
       "1145                      10                      10      1 2000-06-29   \n",
       "121041                     7                       8      1 2000-07-31   \n",
       "138017                    26                      28      1 2000-08-09   \n",
       "138001                     8                       8      1 2000-08-09   \n",
       "346115                     2                       2      1 2000-08-15   \n",
       "346102                     5                       5      1 2000-10-03   \n",
       "138000                    18                      18      1 2000-12-05   \n",
       "346078                     0                       1      1 2000-12-19   \n",
       "346054                     1                       2      1 2000-12-30   \n",
       "138018                    25                      27      1 2001-02-22   \n",
       "417901                     1                      12      0 2001-06-11   \n",
       "346037                    21                      23      0 2001-08-08   \n",
       "346140                     2                       3      1 2001-09-24   \n",
       "138020                    11                      12      1 2001-10-23   \n",
       "346033                     0                       0      1 2001-10-26   \n",
       "138682                     2                       2      1 2001-12-26   \n",
       "333930                     5                       7      1 2002-01-06   \n",
       "346032                     0                       0      1 2002-02-04   \n",
       "...                      ...                     ...    ...        ...   \n",
       "281574                     0                       0      1 2012-10-26   \n",
       "51204                      0                       0      0 2012-10-26   \n",
       "156284                     0                       0      0 2012-10-26   \n",
       "264610                     0                       0      1 2012-10-26   \n",
       "6548                       0                       0      1 2012-10-26   \n",
       "78921                      0                       0      1 2012-10-26   \n",
       "89213                      0                       0      1 2012-10-26   \n",
       "198657                     0                       0      1 2012-10-26   \n",
       "420088                     0                       0      1 2012-10-26   \n",
       "222056                     0                       0      1 2012-10-26   \n",
       "273030                     0                       0      0 2012-10-26   \n",
       "347730                     0                       0      1 2012-10-26   \n",
       "119196                     0                       0      1 2012-10-26   \n",
       "416667                     0                       0      0 2012-10-26   \n",
       "198769                     0                       0      1 2012-10-26   \n",
       "43703                      0                       0      1 2012-10-26   \n",
       "265436                     0                       0      1 2012-10-26   \n",
       "236904                     0                       0      1 2012-10-26   \n",
       "135216                     0                       0      1 2012-10-26   \n",
       "397181                     0                       0      1 2012-10-26   \n",
       "206654                     0                       0      1 2012-10-26   \n",
       "469195                     0                       0      1 2012-10-26   \n",
       "407675                     0                       0      1 2012-10-26   \n",
       "481144                     0                       0      1 2012-10-26   \n",
       "8731                       0                       0      0 2012-10-26   \n",
       "1005                       0                       0      1 2012-10-26   \n",
       "55158                      0                       0      1 2012-10-26   \n",
       "433652                     0                       0      1 2012-10-26   \n",
       "214905                     0                       0      1 2012-10-26   \n",
       "250496                     0                       0      1 2012-10-26   \n",
       "\n",
       "                                                  Summary  \\\n",
       "138706                          EVERY book is educational   \n",
       "138683  This whole series is great way to spend time w...   \n",
       "417839                               Entertainingl Funny!   \n",
       "346055                            A modern day fairy tale   \n",
       "417838                                         FANTASTIC!   \n",
       "346116                                              GREAT   \n",
       "346041    WARNING: CLAMSHELL EDITION IS EDITED TV VERSION   \n",
       "70688                              A sure death for flies   \n",
       "346141           Bettlejuice...Bettlejuice...BETTLEJUICE!   \n",
       "417883                                           Research   \n",
       "346094      Research - Beatlejuice video - French version   \n",
       "1146                                        Great Product   \n",
       "1145                       WOW Make your own 'slickers' !   \n",
       "121041                           End your Gopher Problems   \n",
       "138017                                       A must have!   \n",
       "138001                                   Very easy to use   \n",
       "346115  A fresh, original film from master storyteller...   \n",
       "346102       Fabulous Comedic Fanasy Directed by a Master   \n",
       "138000                                  Who Needs Wilton?   \n",
       "346078                                              FUNNY   \n",
       "346054                                A Afterlife Success   \n",
       "138018  Make your own Martha Stewart style cakes and c...   \n",
       "417901                  CASPER IS THE GHOST WITH THE MOST   \n",
       "346037                          Great movie, terrible DVD   \n",
       "346140  Beetlejuice is a greatmovie, but they cheated ...   \n",
       "138020                               Nice, bright colors!   \n",
       "346033             Beetlejuice! Beetlejuice! Beatlejuice!   \n",
       "138682                                 It Was a favorite!   \n",
       "333930                          A little piece of heaven.   \n",
       "346032              Beetlejuice - Great Fun for Everyone!   \n",
       "...                                                   ...   \n",
       "281574                                               Bing   \n",
       "51204      Yuk! And who goes to Amazon to buy cereal?????   \n",
       "156284                                    Received broken   \n",
       "264610               Colorado Spice Orange Peel, Fine Cut   \n",
       "6548                                           Delicious!   \n",
       "78921                            Mung Beans for sprouting   \n",
       "89213                                   Yummy and Healthy   \n",
       "198657                          Great product!!!!!!!!!!!!   \n",
       "420088                                      Delicious!!!!   \n",
       "222056                                BENECOL SMART CHEWS   \n",
       "273030                                       plastic chew   \n",
       "347730                                      Perfect pops!   \n",
       "119196                                           Love it!   \n",
       "416667                                    Disappointed...   \n",
       "198769                                    Excellent taste   \n",
       "43703                               Sleeping a lot better   \n",
       "265436                                Love this coffee...   \n",
       "236904                         Much, much too expensive!!   \n",
       "135216                                 The BEST dog candy   \n",
       "397181                    Delicious but not for everybody   \n",
       "206654       Love chai - love Keurig - love these K-cups!   \n",
       "469195                                    BEST GRAVY EVER   \n",
       "407675                       Boring name but great coffee   \n",
       "481144                        Great stuff! No aftertaste.   \n",
       "8731                               Extremely dissapointed   \n",
       "1005                                       It is awesome.   \n",
       "55158                                       Love this tea   \n",
       "433652                 Awesome service and great products   \n",
       "214905                             Can't live without it!   \n",
       "250496                             Goodness on all of it!   \n",
       "\n",
       "                                                     Text  \\\n",
       "138706  this witty little book makes my son laugh at l...   \n",
       "138683  I can remember seeing the show when it aired o...   \n",
       "417839  Beetlejuice is a well written movie ..... ever...   \n",
       "346055  A twist of rumplestiskin captured on film, sta...   \n",
       "417838  Beetlejuice is an excellent and funny movie. K...   \n",
       "346116  THIS IS ONE MOVIE THAT SHOULD BE IN YOUR MOVIE...   \n",
       "346041  I, myself always enjoyed this movie, it's very...   \n",
       "70688   I bought a few of these after my apartment was...   \n",
       "346141  What happens when you say his name three times...   \n",
       "417883  I'm getting crazy.<p>Is it really impossible t...   \n",
       "346094  I'm getting crazy.I'm looking for Beatlejuice ...   \n",
       "1146    This was a really good idea and the final prod...   \n",
       "1145    I just received my shipment and could hardly w...   \n",
       "121041  I have just recently purchased the Woodstream ...   \n",
       "138017  These are easy to use, they do not make a mess...   \n",
       "138001  This are so much easier to use than the Wilson...   \n",
       "346115  This is such a great film, I don't even know h...   \n",
       "346102  Beetlejuice is an awe-inspiring wonderfully am...   \n",
       "138000  I'm sick of scads of nasty toothpicks all over...   \n",
       "346078  I THOUGHT THIS MOVIE WAS SO FUNNY, MICHAEL KEA...   \n",
       "346054  Many movies, have dealt with the figure of dea...   \n",
       "138018  I don't know why anyone would ever use those l...   \n",
       "417901  Michael Keaton brings no distinguishing charac...   \n",
       "346037  I am continually amazed at the shoddy treatmen...   \n",
       "346140  Just to warn you. when in trying to trick you ...   \n",
       "138020  I bought these to decorate some dia de los mue...   \n",
       "346033  Winona Ryder is HOT! HOT! HOT! as the gothic d...   \n",
       "138682  This was a favorite book of mine when I was a ...   \n",
       "333930  For years I have been trying to simulate a tru...   \n",
       "346032  When vacationing Adam and Barbara Maitland mee...   \n",
       "...                                                   ...   \n",
       "281574  I love that I can still get this product in Ca...   \n",
       "51204   This stuff tasted like (insert favorite negati...   \n",
       "156284  I bought these to use as decorative center pie...   \n",
       "264610  It was more then I needed but I'm glad I bough...   \n",
       "6548    I have ordered these raisins multiple times.  ...   \n",
       "78921   I wanted to feed my chickens, turkeys and goat...   \n",
       "89213   Loved the cranberry-like flavor and slightly c...   \n",
       "198657  price and quality are awesome!! Buy recommenda...   \n",
       "420088  A coffee treat. Now that my husband and I drin...   \n",
       "222056  My cholesterol readings have improved with the...   \n",
       "273030  Puppy didn't care for this. Older dog chews on...   \n",
       "347730  Not a single pop arrived broken! They take a l...   \n",
       "119196  Heard great things about drinking this tea. I ...   \n",
       "416667  I should read the fine print, I guess.  I most...   \n",
       "198769  This is to me a great coffee, once you try it ...   \n",
       "43703   Hubby and I (both 63) have been drinking about...   \n",
       "265436  This is the best coffee ever! Wish I could ord...   \n",
       "236904  I ordered these for my silky terrier and he ab...   \n",
       "135216  This brand of dog treats is by FAR the most lo...   \n",
       "397181  Pros:<br />- Wholesome ingredients<br />- Easy...   \n",
       "206654  I'm addicted to these chai k-cups.  It tastes ...   \n",
       "469195  Love this gravy mix for a quick meal. Worth th...   \n",
       "407675  Aside from a non-flashy name, this is a great ...   \n",
       "481144  I made sugar-free merengues with this sweetene...   \n",
       "8731    Hi,<br />I am very disappointed with the past ...   \n",
       "1005    My partner is very happy with the tea, and is ...   \n",
       "55158   This is a favorite of mine for using over ice....   \n",
       "433652  We sent this product as a gift to my husband's...   \n",
       "214905  I'm french so I literally grew up with this sa...   \n",
       "250496  I use from the breakfast table to dinner. I li...   \n",
       "\n",
       "                                             Cleaned_Text  \n",
       "138706  witty little book makes son laugh loud recite ...  \n",
       "138683  remember seeing show aired television years ag...  \n",
       "417839  beetlejuice well written movie everything exce...  \n",
       "346055  twist rumplestiskin captured film starring mic...  \n",
       "417838  beetlejuice excellent funny movie keaton hilar...  \n",
       "346116  one movie movie collection filled comedy actio...  \n",
       "346041  always enjoyed movie funny entertaining not he...  \n",
       "70688   bought apartment infested fruit flies hours tr...  \n",
       "346141  happens say name three times michael keaten st...  \n",
       "417883  getting crazy really impossible today not find...  \n",
       "346094  getting crazy looking beatlejuice french versi...  \n",
       "1146    really good idea final product outstanding use...  \n",
       "1145    received shipment could hardly wait try produc...  \n",
       "121041  recently purchased woodstream corp gopher trap...  \n",
       "138017  easy use not make mess offer vibrant colors no...  \n",
       "138001  much easier use wilson paste colors colors vib...  \n",
       "346115  great film not even know sum first completely ...  \n",
       "346102  beetlejuice awe inspiring wonderfully amusing ...  \n",
       "138000  sick scads nasty toothpicks counter tinting ic...  \n",
       "346078  thought movie funny michael keaton beetlejuice...  \n",
       "346054  many movies dealt figure death dead good angel...  \n",
       "138018  not know anyone would ever use little liquid f...  \n",
       "417901  michael keaton brings no distinguishing charac...  \n",
       "346037  continually amazed shoddy treatment movies get...  \n",
       "346140  warn trying trick widescreen format company ma...  \n",
       "138020  bought decorate dia de los muertos skulls icin...  \n",
       "346033  winona ryder hot hot hot gothic death rock pri...  \n",
       "138682  favorite book mine little girl would read time...  \n",
       "333930  years trying simulate truly italian espresso c...  \n",
       "346032  vacationing adam barbara maitland meet demise ...  \n",
       "...                                                   ...  \n",
       "281574  love still get product california even though ...  \n",
       "51204   stuff tasted like insert favorite negative adj...  \n",
       "156284  bought use decorative center pieces birthday p...  \n",
       "264610  needed glad bought bulk product described save...  \n",
       "6548    ordered raisins multiple times always great ar...  \n",
       "78921   wanted feed chickens turkeys goats little extr...  \n",
       "89213   loved cranberry like flavor slightly crunchy t...  \n",
       "198657  price quality awesome buy recommendation order...  \n",
       "420088  coffee treat husband drink coffee no going bac...  \n",
       "222056  cholesterol readings improved help chews belie...  \n",
       "273030  puppy not care older dog chews not sure much g...  \n",
       "347730  not single pop arrived broken take lot time pa...  \n",
       "119196  heard great things drinking tea happy purchase...  \n",
       "416667  read fine print guess mostly went picture woul...  \n",
       "198769      great coffee try enjoy coffee wonderful taste  \n",
       "43703   hubby drinking oz night months found falling d...  \n",
       "265436  best coffee ever wish could order box time go ...  \n",
       "236904  ordered silky terrier absolutely loves however...  \n",
       "135216  brand dog treats far loved product kind two mi...  \n",
       "397181  pros wholesome ingredients easy mix make flavo...  \n",
       "206654  addicted chai k cups tastes sooo good much che...  \n",
       "469195  love gravy mix quick meal worth price really g...  \n",
       "407675  aside non flashy name great coffee smooth perf...  \n",
       "481144  made sugar free merengues sweetener turned bea...  \n",
       "8731    hi disappointed past shipment received one coc...  \n",
       "1005    partner happy tea feeling much better since st...  \n",
       "55158   favorite mine using ice even bought give chris...  \n",
       "433652  sent product gift husband daughter graduated u...  \n",
       "214905  french literally grew salt not even know cook ...  \n",
       "250496  use breakfast table dinner like eggs bake chic...  \n",
       "\n",
       "[348260 rows x 11 columns]"
      ]
     },
     "execution_count": 25,
     "metadata": {},
     "output_type": "execute_result"
    }
   ],
   "source": [
    "final[\"Time\"] = pd.to_datetime(final[\"Time\"],unit=\"s\")\n",
    "final.sort_values(by=\"Time\")"
   ]
  },
  {
   "cell_type": "code",
   "execution_count": 26,
   "metadata": {},
   "outputs": [
    {
     "data": {
      "text/plain": [
       "(50000, 11)"
      ]
     },
     "execution_count": 26,
     "metadata": {},
     "output_type": "execute_result"
    }
   ],
   "source": [
    "tot_svm = final.sample(n=50000)\n",
    "tot_svm.shape"
   ]
  },
  {
   "cell_type": "code",
   "execution_count": 27,
   "metadata": {},
   "outputs": [
    {
     "name": "stdout",
     "output_type": "stream",
     "text": [
      "(50000,) (50000,)\n"
     ]
    }
   ],
   "source": [
    "x = tot_svm[\"Cleaned_Text\"].values\n",
    "y = tot_svm[\"Score\"].values\n",
    "print(x.shape , y.shape)"
   ]
  },
  {
   "cell_type": "code",
   "execution_count": 28,
   "metadata": {},
   "outputs": [],
   "source": [
    "from sklearn.model_selection import train_test_split\n",
    "from sklearn.metrics import roc_auc_score\n",
    "from sklearn.neighbors import KNeighborsClassifier\n",
    "from sklearn.model_selection import GridSearchCV\n",
    "from sklearn.feature_extraction.text import CountVectorizer\n",
    "from sklearn.model_selection import cross_val_score\n",
    "from sklearn.metrics import accuracy_score\n",
    "from sklearn.metrics import classification_report\n",
    "from sklearn.linear_model import LogisticRegression\n",
    "from sklearn.calibration import CalibratedClassifierCV\n",
    "from sklearn.preprocessing import StandardScaler\n",
    "from sklearn.svm import SVC\n",
    "from sklearn.linear_model import SGDClassifier\n",
    "\n",
    "import matplotlib.pyplot as plt"
   ]
  },
  {
   "cell_type": "code",
   "execution_count": 29,
   "metadata": {},
   "outputs": [
    {
     "name": "stdout",
     "output_type": "stream",
     "text": [
      "==================================================\n",
      "(35000,) (35000,)\n",
      "(15000,) (15000,)\n",
      "(15000,) (15000,)\n",
      "==================================================\n"
     ]
    }
   ],
   "source": [
    "x_tr,x_te,y_tr,y_te = train_test_split(x,y,test_size=0.3,random_state=42)\n",
    "x_tr,x_cv,y_tr,y_cv = train_test_split(x,y,test_size=0.3,random_state=42)\n",
    "print('='*50)\n",
    "print(x_tr.shape,y_tr.shape)\n",
    "print(x_te.shape,y_te.shape)\n",
    "print(x_cv.shape,y_cv.shape)\n",
    "print('='*50)"
   ]
  },
  {
   "cell_type": "markdown",
   "metadata": {},
   "source": [
    "### [5.1.1] Applying Linear SVM on BOW,<font color='red'> SET 1</font>"
   ]
  },
  {
   "cell_type": "code",
   "execution_count": 30,
   "metadata": {},
   "outputs": [
    {
     "name": "stdout",
     "output_type": "stream",
     "text": [
      "==================================================\n",
      "(35000, 36655) (35000,)\n",
      "(15000, 36655) (15000,)\n",
      "(15000, 36655) (15000,)\n",
      "==================================================\n"
     ]
    }
   ],
   "source": [
    "vect = CountVectorizer()\n",
    "vect.fit(x_tr)\n",
    "x_tr_bow = vect.transform(x_tr)\n",
    "x_te_bow = vect.transform(x_te)\n",
    "x_cv_bow = vect.transform(x_cv)\n",
    "print('='*50)\n",
    "print(x_tr_bow.shape,y_tr.shape)\n",
    "print(x_cv_bow.shape,y_cv.shape)\n",
    "print(x_te_bow.shape,y_te.shape)\n",
    "print('='*50)"
   ]
  },
  {
   "cell_type": "code",
   "execution_count": 31,
   "metadata": {},
   "outputs": [
    {
     "name": "stderr",
     "output_type": "stream",
     "text": [
      "100%|████████████████████████████████████████████████████████████████████████████████████| 9/9 [00:05<00:00,  1.82it/s]\n"
     ]
    },
    {
     "name": "stdout",
     "output_type": "stream",
     "text": [
      "optimal lambda :  0.001\n"
     ]
    },
    {
     "data": {
      "image/png": "[encoded data removed]",
      "text/plain": [
       "<Figure size 432x288 with 1 Axes>"
      ]
     },
     "metadata": {
      "needs_background": "light"
     },
     "output_type": "display_data"
    }
   ],
   "source": [
    "C = [10**-4, 10**-3,10**-2,10**-1,1,10,10**2,10**3,10**4]\n",
    "tr_auc = []\n",
    "cv_auc = []\n",
    "for c in tqdm(C):\n",
    "    m = SGDClassifier(alpha=c,class_weight=\"balanced\") #Default loss is hinge\n",
    "    svm = CalibratedClassifierCV(m, cv=3)\n",
    "    svm.fit(x_tr_bow,y_tr)   \n",
    "    probcv = svm.predict_proba(x_cv_bow)[:,1]\n",
    "    cv_auc.append(roc_auc_score(y_cv,probcv))\n",
    "    probtr = svm.predict_proba(x_tr_bow)[:,1]\n",
    "    tr_auc.append(roc_auc_score(y_tr,probtr))\n",
    "optimal_c = C[cv_auc.index(max(cv_auc))]\n",
    "C=[np.log10(x) for x in C]\n",
    "plt.plot(C,tr_auc,label=\"tr auc\")\n",
    "plt.plot(C,cv_auc,label=\"cv auc\")\n",
    "plt.title(\"AUC vs Hyperparameter\")\n",
    "plt.xlabel(\"Hyperparameter\")\n",
    "plt.ylabel(\"AUC\")\n",
    "print(\"optimal lambda : \",optimal_c)  "
   ]
  },
  {
   "cell_type": "code",
   "execution_count": 32,
   "metadata": {},
   "outputs": [
    {
     "name": "stdout",
     "output_type": "stream",
     "text": [
      "\n",
      "The accuracy of the SVM Classifier C = 0.001000 is 91.293333%\n"
     ]
    }
   ],
   "source": [
    "m = SGDClassifier(alpha=optimal_c)\n",
    "svm = CalibratedClassifierCV(m, cv=3)\n",
    "svm.fit(x_tr_bow,y_tr)\n",
    "pred=svm.predict(x_te_bow)\n",
    "# evaluate accuracy\n",
    "acc = accuracy_score(y_te, pred) * 100\n",
    "print('\\nThe accuracy of the SVM Classifier C = %f is %f%%' % (optimal_c, acc))"
   ]
  },
  {
   "cell_type": "code",
   "execution_count": 33,
   "metadata": {},
   "outputs": [
    {
     "data": {
      "image/png": "[encoded data removed]",
      "text/plain": [
       "<Figure size 432x288 with 1 Axes>"
      ]
     },
     "metadata": {
      "needs_background": "light"
     },
     "output_type": "display_data"
    }
   ],
   "source": [
    "tr_fpr,tr_tpr,threshold1 = roc_curve(y_tr,svm.predict_proba(x_tr_bow)[:,1])\n",
    "te_fpr,te_tpr,threshold2 = roc_curve(y_te,svm.predict_proba(x_te_bow)[:,1])\n",
    "AUC = str(auc(te_fpr, te_tpr))\n",
    "plt.plot(tr_fpr,tr_tpr,label=\"train AUC =\"+str(auc(tr_fpr, tr_tpr)))\n",
    "plt.plot(te_fpr,te_tpr,label=\"test AUC =\"+str(auc(te_fpr, te_tpr)))\n",
    "plt.legend()\n",
    "plt.title(\"ROC\")\n",
    "plt.xlabel(\"FPR\")\n",
    "plt.ylabel(\"TPR\")\n",
    "plt.show()"
   ]
  },
  {
   "cell_type": "code",
   "execution_count": 34,
   "metadata": {},
   "outputs": [
    {
     "data": {
      "image/png": "[encoded data removed]",
      "text/plain": [
       "<Figure size 432x288 with 2 Axes>"
      ]
     },
     "metadata": {
      "needs_background": "light"
     },
     "output_type": "display_data"
    }
   ],
   "source": [
    "#Confusion Matrix for train\n",
    "import seaborn as sb\n",
    "con_matr = confusion_matrix(y_tr, svm.predict(x_tr_bow))\n",
    "c_l = [0, 1] #Class Label\n",
    "df_con_matr = pd.DataFrame(con_matr, index=c_l, columns=c_l)\n",
    "sb.heatmap(df_con_matr, annot=True, fmt='d')\n",
    "plt.title(\"Confusion_Matrix\")\n",
    "plt.xlabel(\"Predicted\")\n",
    "plt.ylabel(\"Actual\")\n",
    "plt.show()"
   ]
  },
  {
   "cell_type": "code",
   "execution_count": 35,
   "metadata": {},
   "outputs": [
    {
     "data": {
      "image/png": "[encoded data removed]",
      "text/plain": [
       "<Figure size 432x288 with 2 Axes>"
      ]
     },
     "metadata": {
      "needs_background": "light"
     },
     "output_type": "display_data"
    }
   ],
   "source": [
    "#Confusion Matrix for test\n",
    "import seaborn as sb\n",
    "con_matr = confusion_matrix(y_te, svm.predict(x_te_bow))\n",
    "c_l = [0, 1] #Class Label\n",
    "df_con_matr = pd.DataFrame(con_matr, index=c_l, columns=c_l)\n",
    "sb.heatmap(df_con_matr, annot=True, fmt='d')\n",
    "plt.title(\"Confusion_Matrix\")\n",
    "plt.xlabel(\"Predicted\")\n",
    "plt.ylabel(\"Actual\")\n",
    "plt.show()"
   ]
  },
  {
   "cell_type": "code",
   "execution_count": 36,
   "metadata": {},
   "outputs": [
    {
     "name": "stdout",
     "output_type": "stream",
     "text": [
      "==================================================\n",
      "              precision    recall  f1-score   support\n",
      "\n",
      "           0       0.84      0.56      0.68      2408\n",
      "           1       0.92      0.98      0.95     12592\n",
      "\n",
      "   micro avg       0.91      0.91      0.91     15000\n",
      "   macro avg       0.88      0.77      0.81     15000\n",
      "weighted avg       0.91      0.91      0.91     15000\n",
      "\n",
      "==================================================\n"
     ]
    }
   ],
   "source": [
    "print('='*50)\n",
    "print(classification_report(y_te, pred))\n",
    "print('='*50)"
   ]
  },
  {
   "cell_type": "code",
   "execution_count": 37,
   "metadata": {},
   "outputs": [
    {
     "name": "stdout",
     "output_type": "stream",
     "text": [
      "Top 10 Positive features :\n",
      "perfect\n",
      "delicious\n",
      "great\n",
      "loves\n",
      "amazing\n",
      "smooth\n",
      "best\n",
      "excellent\n",
      "thank\n",
      "complaint\n"
     ]
    }
   ],
   "source": [
    "#Top 10 Positive features\n",
    "a_f = vect.get_feature_names()\n",
    "m = SGDClassifier(alpha=optimal_c)\n",
    "m.fit(x_tr_bow,y_tr)\n",
    "we = m.coef_\n",
    "p_index = np.argsort(we)[:,::-1]\n",
    "print(\"Top 10 Positive features :\")\n",
    "for s in list(p_index[0][0:10]):\n",
    "    print(a_f[s])"
   ]
  },
  {
   "cell_type": "code",
   "execution_count": 38,
   "metadata": {},
   "outputs": [
    {
     "name": "stdout",
     "output_type": "stream",
     "text": [
      "Top 10 negative features :\n",
      "disappointing\n",
      "worst\n",
      "awful\n",
      "terrible\n",
      "unfortunately\n",
      "disappointment\n",
      "disappointed\n",
      "return\n",
      "threw\n",
      "horrible\n"
     ]
    }
   ],
   "source": [
    "#Top 10 Negative features\n",
    "n_index = np.argsort(we)[:,::1]\n",
    "print(\"Top 10 negative features :\")\n",
    "for s in list(n_index[0][0:10]):\n",
    "    print(a_f[s])"
   ]
  },
  {
   "cell_type": "markdown",
   "metadata": {},
   "source": [
    "### [5.1.2] Applying Linear SVM on TFIDF,<font color='red'> SET 2</font>"
   ]
  },
  {
   "cell_type": "code",
   "execution_count": 39,
   "metadata": {},
   "outputs": [
    {
     "name": "stdout",
     "output_type": "stream",
     "text": [
      "(35000, 20328) (35000,)\n"
     ]
    }
   ],
   "source": [
    "tfidfvect = TfidfVectorizer(ngram_range=(1,2), min_df=10)\n",
    "tfidfvect.fit(x_tr)\n",
    "x_tr_tfidf = tfidfvect.transform(x_tr)\n",
    "x_te_tfidf = tfidfvect.transform(x_te)\n",
    "x_cv_tfidf = tfidfvect.transform(x_cv)\n",
    "print(x_tr_tfidf.shape,y_tr.shape)"
   ]
  },
  {
   "cell_type": "code",
   "execution_count": 40,
   "metadata": {},
   "outputs": [
    {
     "name": "stdout",
     "output_type": "stream",
     "text": [
      "(35000, 20328) (35000,)\n"
     ]
    }
   ],
   "source": [
    "std = StandardScaler(with_mean=False)\n",
    "std.fit(x_tr_tfidf)\n",
    "x_tr_tfidf = std.transform(x_tr_tfidf)\n",
    "x_te_tfidf = std.transform(x_te_tfidf)\n",
    "x_cv_tfidf = std.transform(x_cv_tfidf)\n",
    "print(x_tr_tfidf.shape,y_tr.shape)"
   ]
  },
  {
   "cell_type": "code",
   "execution_count": 41,
   "metadata": {},
   "outputs": [
    {
     "name": "stderr",
     "output_type": "stream",
     "text": [
      "100%|████████████████████████████████████████████████████████████████████████████████████| 9/9 [00:04<00:00,  2.16it/s]\n"
     ]
    },
    {
     "name": "stdout",
     "output_type": "stream",
     "text": [
      "optimal lambda :  10\n"
     ]
    },
    {
     "data": {
      "image/png": "[encoded data removed]",
      "text/plain": [
       "<Figure size 432x288 with 1 Axes>"
      ]
     },
     "metadata": {
      "needs_background": "light"
     },
     "output_type": "display_data"
    }
   ],
   "source": [
    "C = [10**-4, 10**-3,10**-2,10**-1,1,10,10**2,10**3,10**4]\n",
    "tr_auc = []\n",
    "cv_auc = []\n",
    "for c in tqdm(C):\n",
    "    m = SGDClassifier(alpha=c,class_weight=\"balanced\") #Default loss is hinge\n",
    "    svm = CalibratedClassifierCV(m, cv=3)\n",
    "    svm.fit(x_tr_tfidf,y_tr)   \n",
    "    probcv = svm.predict_proba(x_cv_tfidf)[:,1]\n",
    "    cv_auc.append(roc_auc_score(y_cv,probcv))\n",
    "    probtr = svm.predict_proba(x_tr_tfidf)[:,1]\n",
    "    tr_auc.append(roc_auc_score(y_tr,probtr))\n",
    "optimal_c1 = C[cv_auc.index(max(cv_auc))]\n",
    "C=[np.log10(x) for x in C]\n",
    "plt.plot(C,tr_auc,label=\"tr auc\")\n",
    "plt.plot(C,cv_auc,label=\"cv auc\")\n",
    "plt.title(\"AUC vs Hyperparameter\")\n",
    "plt.xlabel(\"Hyperparameter\")\n",
    "plt.ylabel(\"AUC\")\n",
    "print(\"optimal lambda : \",optimal_c1)  "
   ]
  },
  {
   "cell_type": "code",
   "execution_count": 42,
   "metadata": {},
   "outputs": [
    {
     "name": "stdout",
     "output_type": "stream",
     "text": [
      "\n",
      "The accuracy of the Logistic Regression C = 10 is 87.593333%\n"
     ]
    }
   ],
   "source": [
    "m = SGDClassifier(alpha=optimal_c1)\n",
    "svm = CalibratedClassifierCV(m,cv=3)\n",
    "svm.fit(x_tr_tfidf,y_tr)\n",
    "pred1 = svm.predict(x_te_tfidf)\n",
    "# evaluate accuracy\n",
    "acc = accuracy_score(y_te, pred1) * 100\n",
    "print('\\nThe accuracy of the Logistic Regression C = %d is %f%%' % (optimal_c1, acc))"
   ]
  },
  {
   "cell_type": "code",
   "execution_count": 43,
   "metadata": {},
   "outputs": [
    {
     "data": {
      "image/png": "[encoded data removed]",
      "text/plain": [
       "<Figure size 432x288 with 1 Axes>"
      ]
     },
     "metadata": {
      "needs_background": "light"
     },
     "output_type": "display_data"
    }
   ],
   "source": [
    "tr_fpr,tr_tpr,threshold1 = roc_curve(y_tr,svm.predict_proba(x_tr_tfidf)[:,1])\n",
    "te_fpr,te_tpr,threshold2 = roc_curve(y_te,svm.predict_proba(x_te_tfidf)[:,1])\n",
    "AUC1 = str(auc(te_fpr, te_tpr))\n",
    "plt.plot(tr_fpr,tr_tpr,label=\"train AUC =\"+str(auc(tr_fpr, tr_tpr)))\n",
    "plt.plot(te_fpr,te_tpr,label=\"test AUC =\"+str(auc(te_fpr, te_tpr)))\n",
    "plt.legend()\n",
    "plt.title(\"ROC\")\n",
    "plt.xlabel(\"FPR\")\n",
    "plt.ylabel(\"TPR\")\n",
    "plt.show()"
   ]
  },
  {
   "cell_type": "code",
   "execution_count": 44,
   "metadata": {},
   "outputs": [
    {
     "data": {
      "image/png": "[encoded data removed]",
      "text/plain": [
       "<Figure size 432x288 with 2 Axes>"
      ]
     },
     "metadata": {
      "needs_background": "light"
     },
     "output_type": "display_data"
    }
   ],
   "source": [
    "#Confusion Matrix for train\n",
    "import seaborn as sb\n",
    "con_matr = confusion_matrix(y_tr, svm.predict(x_tr_tfidf))\n",
    "c_l = [0, 1] #Class Label\n",
    "df_con_matr = pd.DataFrame(con_matr, index=c_l, columns=c_l)\n",
    "sb.heatmap(df_con_matr, annot=True, fmt='d')\n",
    "plt.title(\"Confusion_Matrix\")\n",
    "plt.xlabel(\"Predicted\")\n",
    "plt.ylabel(\"Actual\")\n",
    "plt.show()"
   ]
  },
  {
   "cell_type": "code",
   "execution_count": 45,
   "metadata": {},
   "outputs": [
    {
     "data": {
      "image/png": "[encoded data removed]",
      "text/plain": [
       "<Figure size 432x288 with 2 Axes>"
      ]
     },
     "metadata": {
      "needs_background": "light"
     },
     "output_type": "display_data"
    }
   ],
   "source": [
    "#Confusion Matrix for test\n",
    "import seaborn as sb\n",
    "con_matr = confusion_matrix(y_te, svm.predict(x_te_tfidf))\n",
    "c_l = [0, 1] #Class Label\n",
    "df_con_matr = pd.DataFrame(con_matr, index=c_l, columns=c_l)\n",
    "sb.heatmap(df_con_matr, annot=True, fmt='d')\n",
    "plt.title(\"Confusion_Matrix\")\n",
    "plt.xlabel(\"Predicted\")\n",
    "plt.ylabel(\"Actual\")\n",
    "plt.show()"
   ]
  },
  {
   "cell_type": "code",
   "execution_count": 46,
   "metadata": {},
   "outputs": [
    {
     "name": "stdout",
     "output_type": "stream",
     "text": [
      "==================================================\n",
      "              precision    recall  f1-score   support\n",
      "\n",
      "           0       0.79      0.31      0.44      2408\n",
      "           1       0.88      0.98      0.93     12592\n",
      "\n",
      "   micro avg       0.88      0.88      0.88     15000\n",
      "   macro avg       0.84      0.65      0.69     15000\n",
      "weighted avg       0.87      0.88      0.85     15000\n",
      "\n",
      "==================================================\n"
     ]
    }
   ],
   "source": [
    "print('='*50)\n",
    "print(classification_report(y_te, pred1))\n",
    "print('='*50)"
   ]
  },
  {
   "cell_type": "code",
   "execution_count": 47,
   "metadata": {},
   "outputs": [
    {
     "name": "stdout",
     "output_type": "stream",
     "text": [
      "Top 10 Positive features :\n",
      "great\n",
      "love\n",
      "good\n",
      "best\n",
      "delicious\n",
      "loves\n",
      "like\n",
      "price\n",
      "flavor\n",
      "favorite\n"
     ]
    }
   ],
   "source": [
    "#Top 10 Positive features\n",
    "a_f = tfidfvect.get_feature_names()\n",
    "m = SGDClassifier(alpha=optimal_c1)\n",
    "m.fit(x_tr_tfidf,y_tr)\n",
    "we = m.coef_\n",
    "p_index = np.argsort(we)[:,::-1]\n",
    "print(\"Top 10 Positive features :\")\n",
    "for s in list(p_index[0][0:10]):\n",
    "    print(a_f[s])"
   ]
  },
  {
   "cell_type": "code",
   "execution_count": 48,
   "metadata": {},
   "outputs": [
    {
     "name": "stdout",
     "output_type": "stream",
     "text": [
      "Top 10 Negative features :\n",
      "return\n",
      "worst\n",
      "not worth\n",
      "awful\n",
      "waste money\n",
      "terrible\n",
      "not buy\n",
      "horrible\n",
      "threw\n",
      "not recommend\n"
     ]
    }
   ],
   "source": [
    "n_index = np.argsort(we)[:,::1]\n",
    "print(\"Top 10 Negative features :\")\n",
    "for s in list(n_index[0][0:10]):\n",
    "    print(a_f[s])"
   ]
  },
  {
   "cell_type": "markdown",
   "metadata": {},
   "source": [
    "### [5.1.3]  Applying Linear SVM on AVG W2V,<font color='red'> SET 3</font>"
   ]
  },
  {
   "cell_type": "code",
   "execution_count": 49,
   "metadata": {},
   "outputs": [
    {
     "name": "stderr",
     "output_type": "stream",
     "text": [
      "D:\\anaconda\\lib\\site-packages\\gensim\\models\\base_any2vec.py:743: UserWarning: C extension not loaded, training will be slow. Install a C compiler and reinstall gensim for fast training.\n",
      "  \"C extension not loaded, training will be slow. \"\n"
     ]
    },
    {
     "name": "stdout",
     "output_type": "stream",
     "text": [
      "number of words that occured minimum 5 times  11613\n",
      "sample words  ['dogs', 'love', 'chewies', 'little', 'smaller', 'others', 'type', 'overall', 'good', 'value', 'well', 'liked', 'croutons', 'even', 'though', 'wife', 'ordering', 'mail', 'combination', 'different', 'breads', 'rye', 'pumpernickel', 'flavoring', 'not', 'overpowering', 'pretty', 'large', 'soak', 'lot', 'dressing', 'mmmm', 'grossly', 'overpriced', 'product', 'price', 'organic', 'weak', 'flavor', 'appears', 'highly', 'diluted', 'never', 'buy', 'products', 'jerky', 'tastiest', 'stuff', 'ever', 'could']\n"
     ]
    }
   ],
   "source": [
    "i=0\n",
    "list_of_sentance_tr=[]\n",
    "for sentance in x_tr:\n",
    "    list_of_sentance_tr.append(sentance.split())\n",
    "    \n",
    "# this line of code trains your w2v model on the give list of sentances\n",
    "w2v_model=Word2Vec(list_of_sentance_tr,min_count=5,size=50, workers=4)\n",
    "\n",
    "w2v_words = list(w2v_model.wv.vocab)\n",
    "print(\"number of words that occured minimum 5 times \",len(w2v_words))\n",
    "print(\"sample words \", w2v_words[0:50])"
   ]
  },
  {
   "cell_type": "code",
   "execution_count": 50,
   "metadata": {},
   "outputs": [
    {
     "name": "stderr",
     "output_type": "stream",
     "text": [
      "100%|███████████████████████████████████████████████████████████████████████████| 35000/35000 [01:03<00:00, 552.02it/s]\n"
     ]
    },
    {
     "name": "stdout",
     "output_type": "stream",
     "text": [
      "35000\n"
     ]
    },
    {
     "name": "stderr",
     "output_type": "stream",
     "text": [
      "100%|███████████████████████████████████████████████████████████████████████████| 15000/15000 [00:27<00:00, 546.09it/s]\n"
     ]
    },
    {
     "name": "stdout",
     "output_type": "stream",
     "text": [
      "15000\n"
     ]
    },
    {
     "name": "stderr",
     "output_type": "stream",
     "text": [
      "100%|███████████████████████████████████████████████████████████████████████████| 15000/15000 [00:27<00:00, 547.35it/s]\n"
     ]
    },
    {
     "name": "stdout",
     "output_type": "stream",
     "text": [
      "15000\n"
     ]
    }
   ],
   "source": [
    "##Train\n",
    "# average Word2Vec\n",
    "# compute average word2vec for each review.\n",
    "sent_vectors_tr = []; # the avg-w2v for each sentence/review is stored in this list\n",
    "for sent in tqdm(list_of_sentance_tr): # for each review/sentence\n",
    "    sent_vec = np.zeros(50) # as word vectors are of zero length 50, you might need to change this to 300 if you use google's w2v\n",
    "    cnt_words =0; # num of words with a valid vector in the sentence/review\n",
    "    for word in sent: # for each word in a review/sentence\n",
    "        if word in w2v_words:\n",
    "            vec = w2v_model.wv[word]\n",
    "            sent_vec += vec\n",
    "            cnt_words += 1\n",
    "    if cnt_words != 0:\n",
    "        sent_vec /= cnt_words\n",
    "    sent_vectors_tr.append(sent_vec)\n",
    "print(len(sent_vectors_tr))\n",
    "#print(sent_vectors_tr[0])\n",
    "\n",
    "##CV\n",
    "i=0 \n",
    "list_of_sentance_cv = []\n",
    "for sentance in x_cv:\n",
    "    list_of_sentance_cv.append(sentance.split())\n",
    "sent_vectors_cv=[];# the avg-w2v for each sentence/review in CV is stored in this list\n",
    "for sent in tqdm(list_of_sentance_cv): # for each review/sentence\n",
    "    sent_vec = np.zeros(50) # as word vectors are of zero length 50, you might need to change this to 300 if you use google's w2v\n",
    "    cnt_words =0; # num of words with a valid vector in the sentence/review\n",
    "    for word in sent: # for each word in a review/sentence\n",
    "        if word in w2v_words:\n",
    "            vec = w2v_model.wv[word]\n",
    "            sent_vec += vec\n",
    "            cnt_words += 1\n",
    "    if cnt_words != 0:\n",
    "        sent_vec /= cnt_words\n",
    "    sent_vectors_cv.append(sent_vec)\n",
    "print(len(sent_vectors_cv))\n",
    "#print(sent_vectors_cv[0])\n",
    "\n",
    "##Test\n",
    "i=0 \n",
    "list_of_sentance_te = []\n",
    "for sentance in x_te:\n",
    "    list_of_sentance_te.append(sentance.split())\n",
    "sent_vectors_te = []; # the avg-w2v for each sentence/review is stored in this list\n",
    "for sent in tqdm(list_of_sentance_te): # for each review/sentence\n",
    "    sent_vec = np.zeros(50) # as word vectors are of zero length 50, you might need to change this to 300 if you use google's w2v\n",
    "    cnt_words =0; # num of words with a valid vector in the sentence/review\n",
    "    for word in sent: # for each word in a review/sentence\n",
    "        if word in w2v_words:\n",
    "            vec = w2v_model.wv[word]\n",
    "            sent_vec += vec\n",
    "            cnt_words += 1\n",
    "    if cnt_words != 0:\n",
    "        sent_vec /= cnt_words\n",
    "    sent_vectors_te.append(sent_vec)\n",
    "print(len(sent_vectors_te))\n",
    "#print(sent_vectors_te[0])"
   ]
  },
  {
   "cell_type": "code",
   "execution_count": 51,
   "metadata": {},
   "outputs": [
    {
     "name": "stderr",
     "output_type": "stream",
     "text": [
      "100%|████████████████████████████████████████████████████████████████████████████████████| 9/9 [00:04<00:00,  2.17it/s]\n"
     ]
    },
    {
     "name": "stdout",
     "output_type": "stream",
     "text": [
      "optimal lambda :  0.001\n"
     ]
    },
    {
     "data": {
      "image/png": "[encoded data removed]",
      "text/plain": [
       "<Figure size 432x288 with 1 Axes>"
      ]
     },
     "metadata": {
      "needs_background": "light"
     },
     "output_type": "display_data"
    }
   ],
   "source": [
    "x_tr_w2v = sent_vectors_tr\n",
    "x_cv_w2v = sent_vectors_cv\n",
    "x_te_w2v = sent_vectors_te\n",
    "\n",
    "C = [10**-4, 10**-3,10**-2,10**-1,1,10,10**2,10**3,10**4]\n",
    "tr_auc = []\n",
    "cv_auc = []\n",
    "for c in tqdm(C):\n",
    "    m = SGDClassifier(alpha=c,class_weight=\"balanced\") #Default loss is hinge\n",
    "    svm = CalibratedClassifierCV(m, cv=4)\n",
    "    svm.fit(x_tr_w2v,y_tr)   \n",
    "    probcv = svm.predict_proba(x_cv_w2v)[:,1]\n",
    "    cv_auc.append(roc_auc_score(y_cv,probcv))\n",
    "    probtr = svm.predict_proba(x_tr_w2v)[:,1]\n",
    "    tr_auc.append(roc_auc_score(y_tr,probtr))\n",
    "optimal_c2 = C[cv_auc.index(max(cv_auc))]\n",
    "C=[np.log10(x) for x in C]\n",
    "plt.plot(C,tr_auc,label=\"tr auc\")\n",
    "plt.plot(C,cv_auc,label=\"cv auc\")\n",
    "plt.title(\"AUC vs Hyperparameter\")\n",
    "plt.xlabel(\"Hyperparameter\")\n",
    "plt.ylabel(\"AUC\")\n",
    "print(\"optimal lambda : \",optimal_c2)\n"
   ]
  },
  {
   "cell_type": "code",
   "execution_count": 52,
   "metadata": {},
   "outputs": [
    {
     "name": "stdout",
     "output_type": "stream",
     "text": [
      "\n",
      "The accuracy of the Logistic Regression C = 0.001000 is 87.973333%\n"
     ]
    }
   ],
   "source": [
    "m = SGDClassifier(alpha=optimal_c2) \n",
    "svm = CalibratedClassifierCV(m, cv=3)\n",
    "svm.fit(x_tr_w2v,y_tr)\n",
    "pred2=svm.predict(x_te_w2v)\n",
    "# evaluate accuracy\n",
    "acc = accuracy_score(y_te, pred2) * 100\n",
    "print('\\nThe accuracy of the Logistic Regression C = %f is %f%%' % (optimal_c2, acc))"
   ]
  },
  {
   "cell_type": "code",
   "execution_count": 53,
   "metadata": {},
   "outputs": [
    {
     "data": {
      "image/png": "[encoded data removed]",
      "text/plain": [
       "<Figure size 432x288 with 1 Axes>"
      ]
     },
     "metadata": {
      "needs_background": "light"
     },
     "output_type": "display_data"
    }
   ],
   "source": [
    "tr_fpr,tr_tpr,threshold1 = roc_curve(y_tr,svm.predict_proba(x_tr_w2v)[:,1])\n",
    "te_fpr,te_tpr,threshold2 = roc_curve(y_te,svm.predict_proba(x_te_w2v)[:,1])\n",
    "AUC2 = str(auc(te_fpr, te_tpr))\n",
    "plt.plot(tr_fpr,tr_tpr,label=\"train AUC =\"+str(auc(tr_fpr, tr_tpr)))\n",
    "plt.plot(te_fpr,te_tpr,label=\"test AUC =\"+str(auc(te_fpr, te_tpr)))\n",
    "plt.legend()\n",
    "plt.title(\"ROC\")\n",
    "plt.xlabel(\"FPR\")\n",
    "plt.ylabel(\"TPR\")\n",
    "plt.show()"
   ]
  },
  {
   "cell_type": "code",
   "execution_count": 54,
   "metadata": {},
   "outputs": [
    {
     "data": {
      "image/png": "[encoded data removed]",
      "text/plain": [
       "<Figure size 432x288 with 2 Axes>"
      ]
     },
     "metadata": {
      "needs_background": "light"
     },
     "output_type": "display_data"
    }
   ],
   "source": [
    "#Confusion Matrix for train\n",
    "import seaborn as sb\n",
    "con_matr = confusion_matrix(y_tr, svm.predict(x_tr_w2v))\n",
    "c_l = [0, 1] #Class Label\n",
    "df_con_matr = pd.DataFrame(con_matr, index=c_l, columns=c_l)\n",
    "sb.heatmap(df_con_matr, annot=True, fmt='d')\n",
    "plt.title(\"Confusion_Matrix\")\n",
    "plt.xlabel(\"Predicted\")\n",
    "plt.ylabel(\"Actual\")\n",
    "plt.show()"
   ]
  },
  {
   "cell_type": "code",
   "execution_count": 55,
   "metadata": {},
   "outputs": [
    {
     "data": {
      "image/png": "[encoded data removed]",
      "text/plain": [
       "<Figure size 432x288 with 2 Axes>"
      ]
     },
     "metadata": {
      "needs_background": "light"
     },
     "output_type": "display_data"
    }
   ],
   "source": [
    "#Confusion Matrix for test\n",
    "import seaborn as sb\n",
    "con_matr = confusion_matrix(y_te, svm.predict(x_te_w2v))\n",
    "c_l = [0, 1] #Class Label\n",
    "df_con_matr = pd.DataFrame(con_matr, index=c_l, columns=c_l)\n",
    "sb.heatmap(df_con_matr, annot=True, fmt='d')\n",
    "plt.title(\"Confusion_Matrix\")\n",
    "plt.xlabel(\"Predicted\")\n",
    "plt.ylabel(\"Actual\")\n",
    "plt.show()"
   ]
  },
  {
   "cell_type": "code",
   "execution_count": 56,
   "metadata": {},
   "outputs": [
    {
     "name": "stdout",
     "output_type": "stream",
     "text": [
      "==================================================\n",
      "              precision    recall  f1-score   support\n",
      "\n",
      "           0       0.71      0.42      0.53      2408\n",
      "           1       0.90      0.97      0.93     12592\n",
      "\n",
      "   micro avg       0.88      0.88      0.88     15000\n",
      "   macro avg       0.80      0.69      0.73     15000\n",
      "weighted avg       0.87      0.88      0.87     15000\n",
      "\n",
      "==================================================\n"
     ]
    }
   ],
   "source": [
    "print('='*50)\n",
    "print(classification_report(y_te, pred2))\n",
    "print('='*50)"
   ]
  },
  {
   "cell_type": "markdown",
   "metadata": {},
   "source": [
    "### [5.1.4]  Applying Linear SVM on TFIDF W2V,<font color='red'> SET 4</font>"
   ]
  },
  {
   "cell_type": "code",
   "execution_count": 57,
   "metadata": {},
   "outputs": [],
   "source": [
    "model = TfidfVectorizer()\n",
    "tf_idf_matrix = model.fit_transform(x_tr)\n",
    "# we are converting a dictionary with word as a key, and the idf as a value\n",
    "dictionary = dict(zip(model.get_feature_names(), list(model.idf_)))"
   ]
  },
  {
   "cell_type": "code",
   "execution_count": 58,
   "metadata": {},
   "outputs": [
    {
     "name": "stderr",
     "output_type": "stream",
     "text": [
      "100%|████████████████████████████████████████████████████████████████████████████| 35000/35000 [07:56<00:00, 73.45it/s]\n",
      "100%|████████████████████████████████████████████████████████████████████████████| 15000/15000 [03:24<00:00, 62.02it/s]\n",
      "100%|████████████████████████████████████████████████████████████████████████████| 15000/15000 [03:18<00:00, 75.38it/s]\n"
     ]
    }
   ],
   "source": [
    "##train\n",
    "i=0\n",
    "list_of_sentance_tr=[]\n",
    "for sentance in x_tr:\n",
    "    list_of_sentance_tr.append(sentance.split())\n",
    "    \n",
    "# TF-IDF weighted Word2Vec\n",
    "tfidf_feat = tfidfvect.get_feature_names() # tfidf words/col-names\n",
    "# final_tf_idf is the sparse matrix with row= sentence, col=word and cell_val = tfidf\n",
    "\n",
    "tfidf_sent_vectors_tr = []; # the tfidf-w2v for each sentence/review is stored in this list\n",
    "row=0;\n",
    "for sent in tqdm(list_of_sentance_tr): # for each review/sentence \n",
    "    sent_vec = np.zeros(50) # as word vectors are of zero length\n",
    "    weight_sum =0; # num of words with a valid vector in the sentence/review\n",
    "    for word in sent: # for each word in a review/sentence\n",
    "        if word in w2v_words and word in tfidf_feat:\n",
    "            vec = w2v_model.wv[word]\n",
    "            #tf_idf = tf_idf_matrix[row, tfidf_feat.index(word)]\n",
    "            # to reduce the computation we are \n",
    "            # dictionary[word] = idf value of word in whole courpus\n",
    "            # sent.count(word) = tf valeus of word in this review\n",
    "            tf_idf = dictionary[word]*(sent.count(word)/len(sent))\n",
    "            sent_vec += (vec * tf_idf)\n",
    "            weight_sum += tf_idf\n",
    "    if weight_sum != 0:\n",
    "        sent_vec /= weight_sum\n",
    "    tfidf_sent_vectors_tr.append(sent_vec)\n",
    "    row += 1\n",
    "    \n",
    "##cv\n",
    "i=0\n",
    "list_of_sentance_cv=[]\n",
    "for sentance in x_cv:\n",
    "    list_of_sentance_cv.append(sentance.split())\n",
    "    \n",
    "# TF-IDF weighted Word2Vec\n",
    "tfidf_feat = tfidfvect.get_feature_names() # tfidf words/col-names\n",
    "# final_tf_idf is the sparse matrix with row= sentence, col=word and cell_val = tfidf\n",
    "\n",
    "tfidf_sent_vectors_cv = []; # the tfidf-w2v for each sentence/review is stored in this list\n",
    "row=0;\n",
    "for sent in tqdm(list_of_sentance_cv): # for each review/sentence \n",
    "    sent_vec = np.zeros(50) # as word vectors are of zero length\n",
    "    weight_sum =0; # num of words with a valid vector in the sentence/review\n",
    "    for word in sent: # for each word in a review/sentence\n",
    "        if word in w2v_words and word in tfidf_feat:\n",
    "            vec = w2v_model.wv[word]\n",
    "            #tf_idf = tf_idf_matrix[row, tfidf_feat.index(word)]\n",
    "            # to reduce the computation we are \n",
    "            # dictionary[word] = idf value of word in whole courpus\n",
    "            # sent.count(word) = tf valeus of word in this review\n",
    "            tf_idf = dictionary[word]*(sent.count(word)/len(sent))\n",
    "            sent_vec += (vec * tf_idf)\n",
    "            weight_sum += tf_idf\n",
    "    if weight_sum != 0:\n",
    "        sent_vec /= weight_sum\n",
    "    tfidf_sent_vectors_cv.append(sent_vec)\n",
    "    row += 1\n",
    "    \n",
    "##test\n",
    "i=0\n",
    "list_of_sentance_te=[]\n",
    "for sentance in x_te:\n",
    "    list_of_sentance_te.append(sentance.split())\n",
    "    \n",
    "# TF-IDF weighted Word2Vec\n",
    "tfidf_feat = tfidfvect.get_feature_names() # tfidf words/col-names\n",
    "# final_tf_idf is the sparse matrix with row= sentence, col=word and cell_val = tfidf\n",
    "\n",
    "tfidf_sent_vectors_te = []; # the tfidf-w2v for each sentence/review is stored in this list\n",
    "row=0;\n",
    "for sent in tqdm(list_of_sentance_te): # for each review/sentence \n",
    "    sent_vec = np.zeros(50) # as word vectors are of zero length\n",
    "    weight_sum =0; # num of words with a valid vector in the sentence/review\n",
    "    for word in sent: # for each word in a review/sentence\n",
    "        if word in w2v_words and word in tfidf_feat:\n",
    "            vec = w2v_model.wv[word]\n",
    "            #tf_idf = tf_idf_matrix[row, tfidf_feat.index(word)]\n",
    "            # to reduce the computation we are \n",
    "            # dictionary[word] = idf value of word in whole courpus\n",
    "            # sent.count(word) = tf valeus of word in this review\n",
    "            tf_idf = dictionary[word]*(sent.count(word)/len(sent))\n",
    "            sent_vec += (vec * tf_idf)\n",
    "            weight_sum += tf_idf\n",
    "    if weight_sum != 0:\n",
    "        sent_vec /= weight_sum\n",
    "    tfidf_sent_vectors_te.append(sent_vec)\n",
    "    row += 1"
   ]
  },
  {
   "cell_type": "code",
   "execution_count": 59,
   "metadata": {},
   "outputs": [
    {
     "name": "stderr",
     "output_type": "stream",
     "text": [
      "100%|████████████████████████████████████████████████████████████████████████████████████| 9/9 [00:04<00:00,  2.30it/s]\n"
     ]
    },
    {
     "name": "stdout",
     "output_type": "stream",
     "text": [
      "optimal lambda :  0.001\n"
     ]
    },
    {
     "data": {
      "image/png": "[encoded data removed]",
      "text/plain": [
       "<Figure size 432x288 with 1 Axes>"
      ]
     },
     "metadata": {
      "needs_background": "light"
     },
     "output_type": "display_data"
    }
   ],
   "source": [
    "x_tr_tfw2v = tfidf_sent_vectors_tr\n",
    "x_cv_tfw2v = tfidf_sent_vectors_cv\n",
    "x_te_tfw2v = tfidf_sent_vectors_te\n",
    "\n",
    "C = [10**-4, 10**-3,10**-2,10**-1,1,10,10**2,10**3,10**4]\n",
    "tr_auc = []\n",
    "cv_auc = []\n",
    "for c in tqdm(C):\n",
    "    m = SGDClassifier(alpha=c,class_weight=\"balanced\") #Default loss is hinge\n",
    "    svm = CalibratedClassifierCV(m, cv=3)\n",
    "    svm.fit(x_tr_tfw2v,y_tr)   \n",
    "    probcv = svm.predict_proba(x_cv_tfw2v)[:,1]\n",
    "    cv_auc.append(roc_auc_score(y_cv,probcv))\n",
    "    probtr = svm.predict_proba(x_tr_tfw2v)[:,1]\n",
    "    tr_auc.append(roc_auc_score(y_tr,probtr))\n",
    "optimal_c3 = C[cv_auc.index(max(cv_auc))]\n",
    "C=[np.log10(x) for x in C]\n",
    "plt.plot(C,tr_auc,label=\"tr auc\")\n",
    "plt.plot(C,cv_auc,label=\"cv auc\")\n",
    "plt.title(\"AUC vs Hyperparameter\")\n",
    "plt.xlabel(\"Hyperparameter\")\n",
    "plt.ylabel(\"AUC\")\n",
    "print(\"optimal lambda : \",optimal_c3)"
   ]
  },
  {
   "cell_type": "code",
   "execution_count": 60,
   "metadata": {},
   "outputs": [
    {
     "name": "stdout",
     "output_type": "stream",
     "text": [
      "\n",
      "The accuracy of the Logistic Regression C = 0.001000 is 87.000000%\n"
     ]
    }
   ],
   "source": [
    "m = SGDClassifier(alpha=optimal_c3) \n",
    "svm = CalibratedClassifierCV(m, cv=3)\n",
    "svm.fit(x_tr_tfw2v,y_tr)\n",
    "pred3=svm.predict(x_te_tfw2v)\n",
    "# evaluate accuracy\n",
    "acc = accuracy_score(y_te, pred3) * 100\n",
    "print('\\nThe accuracy of the Logistic Regression C = %f is %f%%' % (optimal_c3, acc))"
   ]
  },
  {
   "cell_type": "code",
   "execution_count": 61,
   "metadata": {},
   "outputs": [
    {
     "data": {
      "image/png": "[encoded data removed]",
      "text/plain": [
       "<Figure size 432x288 with 1 Axes>"
      ]
     },
     "metadata": {
      "needs_background": "light"
     },
     "output_type": "display_data"
    }
   ],
   "source": [
    "tr_fpr,tr_tpr,threshold1 = roc_curve(y_tr,svm.predict_proba(x_tr_tfw2v)[:,1])\n",
    "te_fpr,te_tpr,threshold2 = roc_curve(y_te,svm.predict_proba(x_te_tfw2v)[:,1])\n",
    "AUC3 = str(auc(te_fpr, te_tpr))\n",
    "plt.plot(tr_fpr,tr_tpr,label=\"train AUC =\"+str(auc(tr_fpr, tr_tpr)))\n",
    "plt.plot(te_fpr,te_tpr,label=\"test AUC =\"+str(auc(te_fpr, te_tpr)))\n",
    "plt.legend()\n",
    "plt.title(\"ROC\")\n",
    "plt.xlabel(\"FPR\")\n",
    "plt.ylabel(\"TPR\")\n",
    "plt.show()"
   ]
  },
  {
   "cell_type": "code",
   "execution_count": 62,
   "metadata": {},
   "outputs": [
    {
     "data": {
      "image/png": "[encoded data removed]",
      "text/plain": [
       "<Figure size 432x288 with 2 Axes>"
      ]
     },
     "metadata": {
      "needs_background": "light"
     },
     "output_type": "display_data"
    }
   ],
   "source": [
    "#Confusion Matrix for train\n",
    "import seaborn as sb\n",
    "con_matr = confusion_matrix(y_tr, svm.predict(x_tr_tfw2v))\n",
    "c_l = [0, 1] #Class Label\n",
    "df_con_matr = pd.DataFrame(con_matr, index=c_l, columns=c_l)\n",
    "sb.heatmap(df_con_matr, annot=True, fmt='d')\n",
    "plt.title(\"Confusion_Matrix\")\n",
    "plt.xlabel(\"Predicted\")\n",
    "plt.ylabel(\"Actual\")\n",
    "plt.show()"
   ]
  },
  {
   "cell_type": "code",
   "execution_count": 63,
   "metadata": {},
   "outputs": [
    {
     "data": {
      "image/png": "[encoded data removed]",
      "text/plain": [
       "<Figure size 432x288 with 2 Axes>"
      ]
     },
     "metadata": {
      "needs_background": "light"
     },
     "output_type": "display_data"
    }
   ],
   "source": [
    "#Confusion Matrix for test\n",
    "import seaborn as sb\n",
    "con_matr = confusion_matrix(y_te, svm.predict(x_te_tfw2v))\n",
    "c_l = [0, 1] #Class Label\n",
    "df_con_matr = pd.DataFrame(con_matr, index=c_l, columns=c_l)\n",
    "sb.heatmap(df_con_matr, annot=True, fmt='d')\n",
    "plt.title(\"Confusion_Matrix\")\n",
    "plt.xlabel(\"Predicted\")\n",
    "plt.ylabel(\"Actual\")\n",
    "plt.show()"
   ]
  },
  {
   "cell_type": "code",
   "execution_count": 64,
   "metadata": {},
   "outputs": [
    {
     "name": "stdout",
     "output_type": "stream",
     "text": [
      "==================================================\n",
      "              precision    recall  f1-score   support\n",
      "\n",
      "           0       0.70      0.34      0.45      2408\n",
      "           1       0.88      0.97      0.93     12592\n",
      "\n",
      "   micro avg       0.87      0.87      0.87     15000\n",
      "   macro avg       0.79      0.65      0.69     15000\n",
      "weighted avg       0.85      0.87      0.85     15000\n",
      "\n",
      "==================================================\n"
     ]
    }
   ],
   "source": [
    "print('='*50)\n",
    "print(classification_report(y_te, pred3))\n",
    "print('='*50)"
   ]
  },
  {
   "cell_type": "markdown",
   "metadata": {},
   "source": [
    "## [5.2] RBF SVM"
   ]
  },
  {
   "cell_type": "markdown",
   "metadata": {},
   "source": [
    "### [5.2.1] Applying RBF SVM on BOW,<font color='red'> SET 1</font>"
   ]
  },
  {
   "cell_type": "code",
   "execution_count": 65,
   "metadata": {},
   "outputs": [
    {
     "name": "stdout",
     "output_type": "stream",
     "text": [
      "==================================================\n",
      "(35000, 500) (35000,)\n",
      "(15000, 500) (15000,)\n",
      "(15000, 500) (15000,)\n",
      "==================================================\n"
     ]
    }
   ],
   "source": [
    "vect1 = CountVectorizer(min_df=10, max_features=500)\n",
    "vect1.fit(x_tr)\n",
    "x_tr_bow1 = vect1.transform(x_tr)\n",
    "x_te_bow1 = vect1.transform(x_te)\n",
    "x_cv_bow1 = vect1.transform(x_cv)\n",
    "print('='*50)\n",
    "print(x_tr_bow1.shape,y_tr.shape)\n",
    "print(x_cv_bow1.shape,y_cv.shape)\n",
    "print(x_te_bow1.shape,y_te.shape)\n",
    "print('='*50)"
   ]
  },
  {
   "cell_type": "code",
   "execution_count": 66,
   "metadata": {},
   "outputs": [
    {
     "name": "stderr",
     "output_type": "stream",
     "text": [
      "100%|████████████████████████████████████████████████████████████████████████████████| 9/9 [8:21:39<00:00, 5436.04s/it]\n"
     ]
    },
    {
     "name": "stdout",
     "output_type": "stream",
     "text": [
      "optimal lambda :  10\n"
     ]
    },
    {
     "data": {
      "image/png": "[encoded data removed]",
      "text/plain": [
       "<Figure size 432x288 with 1 Axes>"
      ]
     },
     "metadata": {
      "needs_background": "light"
     },
     "output_type": "display_data"
    }
   ],
   "source": [
    "C = [10**-4, 10**-3,10**-2,10**-1,1,10,10**2,10**3,10**4]\n",
    "tr_auc = []\n",
    "cv_auc = []\n",
    "for c in tqdm(C):\n",
    "    svm = SVC(C=c,probability=True,class_weight=\"balanced\") \n",
    "    svm.fit(x_tr_bow1,y_tr)   \n",
    "    probcv = svm.predict_proba(x_cv_bow1)[:,1]\n",
    "    cv_auc.append(roc_auc_score(y_cv,probcv))\n",
    "    probtr = svm.predict_proba(x_tr_bow1)[:,1]\n",
    "    tr_auc.append(roc_auc_score(y_tr,probtr))\n",
    "optimal_c4 = C[cv_auc.index(max(cv_auc))]\n",
    "C=[np.log10(x) for x in C]\n",
    "plt.plot(C,tr_auc,label=\"tr auc\")\n",
    "plt.plot(C,cv_auc,label=\"cv auc\")\n",
    "plt.title(\"AUC vs Hyperparameter\")\n",
    "plt.xlabel(\"Hyperparameter\")\n",
    "plt.ylabel(\"AUC\")\n",
    "print(\"optimal lambda : \",optimal_c4)"
   ]
  },
  {
   "cell_type": "code",
   "execution_count": 67,
   "metadata": {},
   "outputs": [
    {
     "name": "stdout",
     "output_type": "stream",
     "text": [
      "\n",
      "The accuracy of the RBF SVM for C = 10.000000 is 88.800000%\n"
     ]
    }
   ],
   "source": [
    "svm = SVC(C=optimal_c4,probability=True) \n",
    "svm.fit(x_tr_bow1,y_tr) \n",
    "pred4=svm.predict(x_te_bow1)\n",
    "# evaluate accuracy\n",
    "acc = accuracy_score(y_te, pred4) * 100\n",
    "print('\\nThe accuracy of the RBF SVM for C = %f is %f%%' % (optimal_c4, acc))"
   ]
  },
  {
   "cell_type": "code",
   "execution_count": 68,
   "metadata": {},
   "outputs": [
    {
     "data": {
      "image/png": "[encoded data removed]",
      "text/plain": [
       "<Figure size 432x288 with 1 Axes>"
      ]
     },
     "metadata": {
      "needs_background": "light"
     },
     "output_type": "display_data"
    }
   ],
   "source": [
    "tr_fpr,tr_tpr,threshold1 = roc_curve(y_tr,svm.predict_proba(x_tr_bow1)[:,1])\n",
    "te_fpr,te_tpr,threshold2 = roc_curve(y_te,svm.predict_proba(x_te_bow1)[:,1])\n",
    "AUC4 = str(auc(te_fpr, te_tpr))\n",
    "plt.plot(tr_fpr,tr_tpr,label=\"train AUC =\"+str(auc(tr_fpr, tr_tpr)))\n",
    "plt.plot(te_fpr,te_tpr,label=\"test AUC =\"+str(auc(te_fpr, te_tpr)))\n",
    "plt.legend()\n",
    "plt.title(\"ROC\")\n",
    "plt.xlabel(\"FPR\")\n",
    "plt.ylabel(\"TPR\")\n",
    "plt.show()"
   ]
  },
  {
   "cell_type": "code",
   "execution_count": 69,
   "metadata": {},
   "outputs": [
    {
     "data": {
      "image/png": "[encoded data removed]",
      "text/plain": [
       "<Figure size 432x288 with 2 Axes>"
      ]
     },
     "metadata": {
      "needs_background": "light"
     },
     "output_type": "display_data"
    }
   ],
   "source": [
    "#Confusion Matrix for train\n",
    "import seaborn as sb\n",
    "con_matr = confusion_matrix(y_tr, svm.predict(x_tr_bow1))\n",
    "c_l = [0, 1] #Class Label\n",
    "df_con_matr = pd.DataFrame(con_matr, index=c_l, columns=c_l)\n",
    "sb.heatmap(df_con_matr, annot=True, fmt='d')\n",
    "plt.title(\"Confusion_Matrix\")\n",
    "plt.xlabel(\"Predicted\")\n",
    "plt.ylabel(\"Actual\")\n",
    "plt.show()"
   ]
  },
  {
   "cell_type": "code",
   "execution_count": 70,
   "metadata": {},
   "outputs": [
    {
     "data": {
      "image/png": "[encoded data removed]",
      "text/plain": [
       "<Figure size 432x288 with 2 Axes>"
      ]
     },
     "metadata": {
      "needs_background": "light"
     },
     "output_type": "display_data"
    }
   ],
   "source": [
    "#Confusion Matrix for test\n",
    "import seaborn as sb\n",
    "con_matr = confusion_matrix(y_te, svm.predict(x_te_bow1))\n",
    "c_l = [0, 1] #Class Label\n",
    "df_con_matr = pd.DataFrame(con_matr, index=c_l, columns=c_l)\n",
    "sb.heatmap(df_con_matr, annot=True, fmt='d')\n",
    "plt.title(\"Confusion_Matrix\")\n",
    "plt.xlabel(\"Predicted\")\n",
    "plt.ylabel(\"Actual\")\n",
    "plt.show()"
   ]
  },
  {
   "cell_type": "code",
   "execution_count": 71,
   "metadata": {},
   "outputs": [
    {
     "name": "stdout",
     "output_type": "stream",
     "text": [
      "==================================================\n",
      "              precision    recall  f1-score   support\n",
      "\n",
      "           0       0.76      0.44      0.56      2408\n",
      "           1       0.90      0.97      0.94     12592\n",
      "\n",
      "   micro avg       0.89      0.89      0.89     15000\n",
      "   macro avg       0.83      0.71      0.75     15000\n",
      "weighted avg       0.88      0.89      0.88     15000\n",
      "\n",
      "==================================================\n"
     ]
    }
   ],
   "source": [
    "print('='*50)\n",
    "print(classification_report(y_te, pred4))\n",
    "print('='*50)"
   ]
  },
  {
   "cell_type": "markdown",
   "metadata": {},
   "source": [
    "### [5.2.2] Applying RBF SVM on TFIDF,<font color='red'> SET 2</font>"
   ]
  },
  {
   "cell_type": "code",
   "execution_count": 72,
   "metadata": {},
   "outputs": [
    {
     "name": "stdout",
     "output_type": "stream",
     "text": [
      "(35000, 500) (15000, 500)\n"
     ]
    }
   ],
   "source": [
    "tfidfvect1 = TfidfVectorizer(ngram_range=(1,2),min_df=10,max_features=500)\n",
    "tfidfvect1.fit(x_tr)\n",
    "x_tr_tfidf1 = tfidfvect1.transform(x_tr)\n",
    "x_te_tfidf1 = tfidfvect1.transform(x_te)\n",
    "x_cv_tfidf1 = tfidfvect1.transform(x_cv)\n",
    "print(x_tr_tfidf1.shape,x_te_tfidf1.shape)"
   ]
  },
  {
   "cell_type": "code",
   "execution_count": 73,
   "metadata": {},
   "outputs": [
    {
     "name": "stderr",
     "output_type": "stream",
     "text": [
      "100%|████████████████████████████████████████████████████████████████████████████████| 9/9 [6:38:52<00:00, 3314.61s/it]\n"
     ]
    },
    {
     "name": "stdout",
     "output_type": "stream",
     "text": [
      "optimal lambda :  10000\n"
     ]
    },
    {
     "data": {
      "image/png": "[encoded data removed]",
      "text/plain": [
       "<Figure size 432x288 with 1 Axes>"
      ]
     },
     "metadata": {
      "needs_background": "light"
     },
     "output_type": "display_data"
    }
   ],
   "source": [
    "C = [10**-4, 10**-3,10**-2,10**-1,1,10,10**2,10**3,10**4]\n",
    "tr_auc = []\n",
    "cv_auc = []\n",
    "for c in tqdm(C):\n",
    "    svm = SVC(C=c,probability=True,class_weight=\"balanced\") \n",
    "    svm.fit(x_tr_tfidf1,y_tr)   \n",
    "    probcv = svm.predict_proba(x_cv_tfidf1)[:,1]\n",
    "    cv_auc.append(roc_auc_score(y_cv,probcv))\n",
    "    probtr = svm.predict_proba(x_tr_tfidf1)[:,1]\n",
    "    tr_auc.append(roc_auc_score(y_tr,probtr))\n",
    "optimal_c5 = C[cv_auc.index(max(cv_auc))]\n",
    "C=[np.log10(x) for x in C]\n",
    "plt.plot(C,tr_auc,label=\"tr auc\")\n",
    "plt.plot(C,cv_auc,label=\"cv auc\")\n",
    "plt.title(\"AUC vs Hyperparameter\")\n",
    "plt.xlabel(\"Hyperparameter\")\n",
    "plt.ylabel(\"AUC\")\n",
    "print(\"optimal lambda : \",optimal_c5)"
   ]
  },
  {
   "cell_type": "code",
   "execution_count": 74,
   "metadata": {},
   "outputs": [
    {
     "name": "stdout",
     "output_type": "stream",
     "text": [
      "\n",
      "The accuracy of the RBF SVM for C = 10000.000000 is 89.006667%\n"
     ]
    }
   ],
   "source": [
    "svm = SVC(C=optimal_c5,probability=True) \n",
    "svm.fit(x_tr_tfidf1,y_tr) \n",
    "pred5 = svm.predict(x_te_tfidf1)\n",
    "# evaluate accuracy\n",
    "acc = accuracy_score(y_te, pred5) * 100\n",
    "print('\\nThe accuracy of the RBF SVM for C = %f is %f%%' % (optimal_c5, acc)) "
   ]
  },
  {
   "cell_type": "code",
   "execution_count": 75,
   "metadata": {},
   "outputs": [
    {
     "data": {
      "image/png": "[encoded data removed]",
      "text/plain": [
       "<Figure size 432x288 with 1 Axes>"
      ]
     },
     "metadata": {
      "needs_background": "light"
     },
     "output_type": "display_data"
    }
   ],
   "source": [
    "tr_fpr,tr_tpr,threshold1 = roc_curve(y_tr,svm.predict_proba(x_tr_tfidf1)[:,1])\n",
    "te_fpr,te_tpr,threshold2 = roc_curve(y_te,svm.predict_proba(x_te_tfidf1)[:,1])\n",
    "AUC5 = str(auc(te_fpr, te_tpr))\n",
    "plt.plot(tr_fpr,tr_tpr,label=\"train AUC =\"+str(auc(tr_fpr, tr_tpr)))\n",
    "plt.plot(te_fpr,te_tpr,label=\"test AUC =\"+str(auc(te_fpr, te_tpr)))\n",
    "plt.legend()\n",
    "plt.title(\"ROC\")\n",
    "plt.xlabel(\"FPR\")\n",
    "plt.ylabel(\"TPR\")\n",
    "plt.show()"
   ]
  },
  {
   "cell_type": "code",
   "execution_count": 76,
   "metadata": {},
   "outputs": [
    {
     "data": {
      "image/png": "[encoded data removed]",
      "text/plain": [
       "<Figure size 432x288 with 2 Axes>"
      ]
     },
     "metadata": {
      "needs_background": "light"
     },
     "output_type": "display_data"
    }
   ],
   "source": [
    "#Confusion Matrix for train\n",
    "import seaborn as sb\n",
    "con_matr = confusion_matrix(y_tr, svm.predict(x_tr_tfidf1))\n",
    "c_l = [0, 1] #Class Label\n",
    "df_con_matr = pd.DataFrame(con_matr, index=c_l, columns=c_l)\n",
    "sb.heatmap(df_con_matr, annot=True, fmt='d')\n",
    "plt.title(\"Confusion_Matrix\")\n",
    "plt.xlabel(\"Predicted\")\n",
    "plt.ylabel(\"Actual\")\n",
    "plt.show()"
   ]
  },
  {
   "cell_type": "code",
   "execution_count": 77,
   "metadata": {},
   "outputs": [
    {
     "data": {
      "image/png": "[encoded data removed]",
      "text/plain": [
       "<Figure size 432x288 with 2 Axes>"
      ]
     },
     "metadata": {
      "needs_background": "light"
     },
     "output_type": "display_data"
    }
   ],
   "source": [
    "#Confusion Matrix for test\n",
    "import seaborn as sb\n",
    "con_matr = confusion_matrix(y_te, svm.predict(x_te_tfidf1))\n",
    "c_l = [0, 1] #Class Label\n",
    "df_con_matr = pd.DataFrame(con_matr, index=c_l, columns=c_l)\n",
    "sb.heatmap(df_con_matr, annot=True, fmt='d')\n",
    "plt.title(\"Confusion_Matrix\")\n",
    "plt.xlabel(\"Predicted\")\n",
    "plt.ylabel(\"Actual\")\n",
    "plt.show()"
   ]
  },
  {
   "cell_type": "code",
   "execution_count": 78,
   "metadata": {},
   "outputs": [
    {
     "name": "stdout",
     "output_type": "stream",
     "text": [
      "==================================================\n",
      "              precision    recall  f1-score   support\n",
      "\n",
      "           0       0.73      0.50      0.59      2408\n",
      "           1       0.91      0.96      0.94     12592\n",
      "\n",
      "   micro avg       0.89      0.89      0.89     15000\n",
      "   macro avg       0.82      0.73      0.77     15000\n",
      "weighted avg       0.88      0.89      0.88     15000\n",
      "\n",
      "==================================================\n"
     ]
    }
   ],
   "source": [
    "print('='*50)\n",
    "print(classification_report(y_te, pred5))\n",
    "print('='*50)"
   ]
  },
  {
   "cell_type": "markdown",
   "metadata": {},
   "source": [
    "### [5.2.3]  Applying RBF SVM on AVG W2V,<font color='red'> SET 3</font>"
   ]
  },
  {
   "cell_type": "code",
   "execution_count": 79,
   "metadata": {},
   "outputs": [
    {
     "name": "stderr",
     "output_type": "stream",
     "text": [
      "100%|████████████████████████████████████████████████████████████████████████████████| 9/9 [9:34:37<00:00, 8611.53s/it]\n"
     ]
    },
    {
     "name": "stdout",
     "output_type": "stream",
     "text": [
      "optimal lambda :  10\n"
     ]
    },
    {
     "data": {
      "image/png": "[encoded data removed]",
      "text/plain": [
       "<Figure size 432x288 with 1 Axes>"
      ]
     },
     "metadata": {
      "needs_background": "light"
     },
     "output_type": "display_data"
    }
   ],
   "source": [
    "x_tr_w2v1 = sent_vectors_tr\n",
    "x_cv_w2v1 = sent_vectors_cv\n",
    "x_te_w2v1 = sent_vectors_te\n",
    "\n",
    "C = [10**-4, 10**-3,10**-2,10**-1,1,10,10**2,10**3,10**4]\n",
    "tr_auc = []\n",
    "cv_auc = []\n",
    "for c in tqdm(C):\n",
    "    svm = SVC(C=c,probability=True,class_weight=\"balanced\") \n",
    "    svm.fit(x_tr_w2v1,y_tr)   \n",
    "    probcv = svm.predict_proba(x_cv_w2v1)[:,1]\n",
    "    cv_auc.append(roc_auc_score(y_cv,probcv))\n",
    "    probtr = svm.predict_proba(x_tr_w2v1)[:,1]\n",
    "    tr_auc.append(roc_auc_score(y_tr,probtr))\n",
    "optimal_c6 = C[cv_auc.index(max(cv_auc))]\n",
    "C=[np.log10(x) for x in C]\n",
    "plt.plot(C,tr_auc,label=\"tr auc\")\n",
    "plt.plot(C,cv_auc,label=\"cv auc\")\n",
    "plt.title(\"AUC vs Hyperparameter\")\n",
    "plt.xlabel(\"Hyperparameter\")\n",
    "plt.ylabel(\"AUC\")\n",
    "print(\"optimal lambda : \",optimal_c6)"
   ]
  },
  {
   "cell_type": "code",
   "execution_count": 80,
   "metadata": {},
   "outputs": [
    {
     "name": "stdout",
     "output_type": "stream",
     "text": [
      "\n",
      "The accuracy of the RBF SVM for C = 10.000000 is 87.106667%\n"
     ]
    }
   ],
   "source": [
    "svm = SVC(C=c,probability=True) \n",
    "svm.fit(x_tr_w2v1,y_tr)\n",
    "pred6 = svm.predict(x_te_w2v1)\n",
    "# evaluate accuracy\n",
    "acc = accuracy_score(y_te, pred6) * 100\n",
    "print('\\nThe accuracy of the RBF SVM for C = %f is %f%%' % (optimal_c6, acc)) "
   ]
  },
  {
   "cell_type": "code",
   "execution_count": 81,
   "metadata": {},
   "outputs": [
    {
     "data": {
      "image/png": "[encoded data removed]",
      "text/plain": [
       "<Figure size 432x288 with 1 Axes>"
      ]
     },
     "metadata": {
      "needs_background": "light"
     },
     "output_type": "display_data"
    }
   ],
   "source": [
    "tr_fpr,tr_tpr,threshold1 = roc_curve(y_tr,svm.predict_proba(x_tr_w2v1)[:,1])\n",
    "te_fpr,te_tpr,threshold2 = roc_curve(y_te,svm.predict_proba(x_te_w2v1)[:,1])\n",
    "AUC6 = str(auc(te_fpr, te_tpr))\n",
    "plt.plot(tr_fpr,tr_tpr,label=\"train AUC =\"+str(auc(tr_fpr, tr_tpr)))\n",
    "plt.plot(te_fpr,te_tpr,label=\"test AUC =\"+str(auc(te_fpr, te_tpr)))\n",
    "plt.legend()\n",
    "plt.title(\"ROC\")\n",
    "plt.xlabel(\"FPR\")\n",
    "plt.ylabel(\"TPR\")\n",
    "plt.show()"
   ]
  },
  {
   "cell_type": "code",
   "execution_count": 82,
   "metadata": {},
   "outputs": [
    {
     "data": {
      "image/png": "[encoded data removed]",
      "text/plain": [
       "<Figure size 432x288 with 2 Axes>"
      ]
     },
     "metadata": {
      "needs_background": "light"
     },
     "output_type": "display_data"
    }
   ],
   "source": [
    "#Confusion Matrix for train\n",
    "import seaborn as sb\n",
    "con_matr = confusion_matrix(y_tr, svm.predict(x_tr_w2v1))\n",
    "c_l = [0, 1] #Class Label\n",
    "df_con_matr = pd.DataFrame(con_matr, index=c_l, columns=c_l)\n",
    "sb.heatmap(df_con_matr, annot=True, fmt='d')\n",
    "plt.title(\"Confusion_Matrix\")\n",
    "plt.xlabel(\"Predicted\")\n",
    "plt.ylabel(\"Actual\")\n",
    "plt.show()"
   ]
  },
  {
   "cell_type": "code",
   "execution_count": 83,
   "metadata": {},
   "outputs": [
    {
     "data": {
      "image/png": "[encoded data removed]",
      "text/plain": [
       "<Figure size 432x288 with 2 Axes>"
      ]
     },
     "metadata": {
      "needs_background": "light"
     },
     "output_type": "display_data"
    }
   ],
   "source": [
    "#Confusion Matrix for test\n",
    "import seaborn as sb\n",
    "con_matr = confusion_matrix(y_te, svm.predict(x_te_w2v1))\n",
    "c_l = [0, 1] #Class Label\n",
    "df_con_matr = pd.DataFrame(con_matr, index=c_l, columns=c_l)\n",
    "sb.heatmap(df_con_matr, annot=True, fmt='d')\n",
    "plt.title(\"Confusion_Matrix\")\n",
    "plt.xlabel(\"Predicted\")\n",
    "plt.ylabel(\"Actual\")\n",
    "plt.show()"
   ]
  },
  {
   "cell_type": "code",
   "execution_count": 84,
   "metadata": {},
   "outputs": [
    {
     "name": "stdout",
     "output_type": "stream",
     "text": [
      "==================================================\n",
      "              precision    recall  f1-score   support\n",
      "\n",
      "           0       0.62      0.52      0.57      2408\n",
      "           1       0.91      0.94      0.92     12592\n",
      "\n",
      "   micro avg       0.87      0.87      0.87     15000\n",
      "   macro avg       0.76      0.73      0.75     15000\n",
      "weighted avg       0.86      0.87      0.87     15000\n",
      "\n",
      "==================================================\n"
     ]
    }
   ],
   "source": [
    "print('='*50)\n",
    "print(classification_report(y_te, pred6))\n",
    "print('='*50)"
   ]
  },
  {
   "cell_type": "markdown",
   "metadata": {},
   "source": [
    "### [5.2.4]  Applying RBF SVM on TFIDF W2V,<font color='red'> SET 4</font>"
   ]
  },
  {
   "cell_type": "code",
   "execution_count": 85,
   "metadata": {},
   "outputs": [],
   "source": [
    "model = TfidfVectorizer()\n",
    "tf_idf_matrix = model.fit_transform(x_tr)\n",
    "# we are converting a dictionary with word as a key, and the idf as a value\n",
    "dictionary = dict(zip(model.get_feature_names(), list(model.idf_)))"
   ]
  },
  {
   "cell_type": "code",
   "execution_count": 86,
   "metadata": {},
   "outputs": [
    {
     "name": "stderr",
     "output_type": "stream",
     "text": [
      "100%|███████████████████████████████████████████████████████████████████████████| 35000/35000 [01:16<00:00, 459.81it/s]\n",
      "100%|███████████████████████████████████████████████████████████████████████████| 15000/15000 [00:32<00:00, 457.06it/s]\n",
      "100%|███████████████████████████████████████████████████████████████████████████| 15000/15000 [00:32<00:00, 456.63it/s]\n"
     ]
    }
   ],
   "source": [
    "##train\n",
    "i=0\n",
    "list_of_sentance_tr=[]\n",
    "for sentance in x_tr:\n",
    "    list_of_sentance_tr.append(sentance.split())\n",
    "    \n",
    "# TF-IDF weighted Word2Vec\n",
    "tfidf_feat = tfidfvect1.get_feature_names() # tfidf words/col-names\n",
    "# final_tf_idf is the sparse matrix with row= sentence, col=word and cell_val = tfidf\n",
    "\n",
    "tfidf_sent_vectors_tr1 = []; # the tfidf-w2v for each sentence/review is stored in this list\n",
    "row=0;\n",
    "for sent in tqdm(list_of_sentance_tr): # for each review/sentence \n",
    "    sent_vec = np.zeros(50) # as word vectors are of zero length\n",
    "    weight_sum =0; # num of words with a valid vector in the sentence/review\n",
    "    for word in sent: # for each word in a review/sentence\n",
    "        if word in w2v_words and word in tfidf_feat:\n",
    "            vec = w2v_model.wv[word]\n",
    "            #tf_idf = tf_idf_matrix[row, tfidf_feat.index(word)]\n",
    "            # to reduce the computation we are \n",
    "            # dictionary[word] = idf value of word in whole courpus\n",
    "            # sent.count(word) = tf valeus of word in this review\n",
    "            tf_idf = dictionary[word]*(sent.count(word)/len(sent))\n",
    "            sent_vec += (vec * tf_idf)\n",
    "            weight_sum += tf_idf\n",
    "    if weight_sum != 0:\n",
    "        sent_vec /= weight_sum\n",
    "    tfidf_sent_vectors_tr1.append(sent_vec)\n",
    "    row += 1\n",
    "    \n",
    "##cv\n",
    "i=0\n",
    "list_of_sentance_cv=[]\n",
    "for sentance in x_cv:\n",
    "    list_of_sentance_cv.append(sentance.split())\n",
    "    \n",
    "# TF-IDF weighted Word2Vec\n",
    "tfidf_feat = tfidfvect1.get_feature_names() # tfidf words/col-names\n",
    "# final_tf_idf is the sparse matrix with row= sentence, col=word and cell_val = tfidf\n",
    "\n",
    "tfidf_sent_vectors_cv1 = []; # the tfidf-w2v for each sentence/review is stored in this list\n",
    "row=0;\n",
    "for sent in tqdm(list_of_sentance_cv): # for each review/sentence \n",
    "    sent_vec = np.zeros(50) # as word vectors are of zero length\n",
    "    weight_sum =0; # num of words with a valid vector in the sentence/review\n",
    "    for word in sent: # for each word in a review/sentence\n",
    "        if word in w2v_words and word in tfidf_feat:\n",
    "            vec = w2v_model.wv[word]\n",
    "            #tf_idf = tf_idf_matrix[row, tfidf_feat.index(word)]\n",
    "            # to reduce the computation we are \n",
    "            # dictionary[word] = idf value of word in whole courpus\n",
    "            # sent.count(word) = tf valeus of word in this review\n",
    "            tf_idf = dictionary[word]*(sent.count(word)/len(sent))\n",
    "            sent_vec += (vec * tf_idf)\n",
    "            weight_sum += tf_idf\n",
    "    if weight_sum != 0:\n",
    "        sent_vec /= weight_sum\n",
    "    tfidf_sent_vectors_cv1.append(sent_vec)\n",
    "    row += 1\n",
    "    \n",
    "##test\n",
    "i=0\n",
    "list_of_sentance_te=[]\n",
    "for sentance in x_te:\n",
    "    list_of_sentance_te.append(sentance.split())\n",
    "    \n",
    "# TF-IDF weighted Word2Vec\n",
    "tfidf_feat = tfidfvect1.get_feature_names() # tfidf words/col-names\n",
    "# final_tf_idf is the sparse matrix with row= sentence, col=word and cell_val = tfidf\n",
    "\n",
    "tfidf_sent_vectors_te1 = []; # the tfidf-w2v for each sentence/review is stored in this list\n",
    "row=0;\n",
    "for sent in tqdm(list_of_sentance_te): # for each review/sentence \n",
    "    sent_vec = np.zeros(50) # as word vectors are of zero length\n",
    "    weight_sum =0; # num of words with a valid vector in the sentence/review\n",
    "    for word in sent: # for each word in a review/sentence\n",
    "        if word in w2v_words and word in tfidf_feat:\n",
    "            vec = w2v_model.wv[word]\n",
    "            #tf_idf = tf_idf_matrix[row, tfidf_feat.index(word)]\n",
    "            # to reduce the computation we are \n",
    "            # dictionary[word] = idf value of word in whole courpus\n",
    "            # sent.count(word) = tf valeus of word in this review\n",
    "            tf_idf = dictionary[word]*(sent.count(word)/len(sent))\n",
    "            sent_vec += (vec * tf_idf)\n",
    "            weight_sum += tf_idf\n",
    "    if weight_sum != 0:\n",
    "        sent_vec /= weight_sum\n",
    "    tfidf_sent_vectors_te1.append(sent_vec)\n",
    "    row += 1"
   ]
  },
  {
   "cell_type": "code",
   "execution_count": 87,
   "metadata": {},
   "outputs": [
    {
     "name": "stderr",
     "output_type": "stream",
     "text": [
      "100%|██████████████████████████████████████████████████████████████████████████████| 9/9 [12:23:05<00:00, 10944.72s/it]\n"
     ]
    },
    {
     "name": "stdout",
     "output_type": "stream",
     "text": [
      "optimal lambda :  10\n"
     ]
    },
    {
     "data": {
      "image/png": "[encoded data removed]",
      "text/plain": [
       "<Figure size 432x288 with 1 Axes>"
      ]
     },
     "metadata": {
      "needs_background": "light"
     },
     "output_type": "display_data"
    }
   ],
   "source": [
    "x_tr_tfw2v1 = tfidf_sent_vectors_tr1\n",
    "x_cv_tfw2v1 = tfidf_sent_vectors_cv1\n",
    "x_te_tfw2v1 = tfidf_sent_vectors_te1\n",
    "\n",
    "C = [10**-4, 10**-3,10**-2,10**-1,1,10,10**2,10**3,10**4]\n",
    "tr_auc = []\n",
    "cv_auc = []\n",
    "for c in tqdm(C):\n",
    "    svm = SVC(C=c,probability=True,class_weight=\"balanced\") #Default loss is hinge\n",
    "    svm.fit(x_tr_tfw2v1,y_tr)   \n",
    "    probcv = svm.predict_proba(x_cv_tfw2v1)[:,1]\n",
    "    cv_auc.append(roc_auc_score(y_cv,probcv))\n",
    "    probtr = svm.predict_proba(x_tr_tfw2v1)[:,1]\n",
    "    tr_auc.append(roc_auc_score(y_tr,probtr))\n",
    "optimal_c7 = C[cv_auc.index(max(cv_auc))]\n",
    "C=[np.log10(x) for x in C]\n",
    "plt.plot(C,tr_auc,label=\"tr auc\")\n",
    "plt.plot(C,cv_auc,label=\"cv auc\")\n",
    "plt.title(\"AUC vs Hyperparameter\")\n",
    "plt.xlabel(\"Hyperparameter\")\n",
    "plt.ylabel(\"AUC\")\n",
    "print(\"optimal lambda : \",optimal_c7)"
   ]
  },
  {
   "cell_type": "code",
   "execution_count": 88,
   "metadata": {},
   "outputs": [
    {
     "name": "stdout",
     "output_type": "stream",
     "text": [
      "\n",
      "The accuracy of the RBF SVM for C = 10.000000 is 86.826667%\n"
     ]
    }
   ],
   "source": [
    "svm = SVC(C=optimal_c7,probability=True) #Default loss is hinge\n",
    "svm.fit(x_tr_tfw2v1,y_tr)   \n",
    "pred7=svm.predict(x_te_tfw2v1)\n",
    "# evaluate accuracy\n",
    "acc = accuracy_score(y_te, pred7) * 100\n",
    "print('\\nThe accuracy of the RBF SVM for C = %f is %f%%' % (optimal_c7, acc)) "
   ]
  },
  {
   "cell_type": "code",
   "execution_count": 89,
   "metadata": {},
   "outputs": [
    {
     "data": {
      "image/png": "[encoded data removed]",
      "text/plain": [
       "<Figure size 432x288 with 1 Axes>"
      ]
     },
     "metadata": {
      "needs_background": "light"
     },
     "output_type": "display_data"
    }
   ],
   "source": [
    "tr_fpr,tr_tpr,threshold1 = roc_curve(y_tr,svm.predict_proba(x_tr_tfw2v1)[:,1])\n",
    "te_fpr,te_tpr,threshold2 = roc_curve(y_te,svm.predict_proba(x_te_tfw2v1)[:,1])\n",
    "AUC7 = str(auc(te_fpr, te_tpr))\n",
    "plt.plot(tr_fpr,tr_tpr,label=\"train AUC =\"+str(auc(tr_fpr, tr_tpr)))\n",
    "plt.plot(te_fpr,te_tpr,label=\"test AUC =\"+str(auc(te_fpr, te_tpr)))\n",
    "plt.legend()\n",
    "plt.title(\"ROC\")\n",
    "plt.xlabel(\"FPR\")\n",
    "plt.ylabel(\"TPR\")\n",
    "plt.show()"
   ]
  },
  {
   "cell_type": "code",
   "execution_count": 90,
   "metadata": {},
   "outputs": [
    {
     "data": {
      "image/png": "[encoded data removed]",
      "text/plain": [
       "<Figure size 432x288 with 2 Axes>"
      ]
     },
     "metadata": {
      "needs_background": "light"
     },
     "output_type": "display_data"
    }
   ],
   "source": [
    "#Confusion Matrix for train\n",
    "import seaborn as sb\n",
    "con_matr = confusion_matrix(y_tr, svm.predict(x_tr_tfw2v1))\n",
    "c_l = [0, 1] #Class Label\n",
    "df_con_matr = pd.DataFrame(con_matr, index=c_l, columns=c_l)\n",
    "sb.heatmap(df_con_matr, annot=True, fmt='d')\n",
    "plt.title(\"Confusion_Matrix\")\n",
    "plt.xlabel(\"Predicted\")\n",
    "plt.ylabel(\"Actual\")\n",
    "plt.show()"
   ]
  },
  {
   "cell_type": "code",
   "execution_count": 91,
   "metadata": {},
   "outputs": [
    {
     "data": {
      "image/png": "[encoded data removed]",
      "text/plain": [
       "<Figure size 432x288 with 2 Axes>"
      ]
     },
     "metadata": {
      "needs_background": "light"
     },
     "output_type": "display_data"
    }
   ],
   "source": [
    "#Confusion Matrix for test\n",
    "import seaborn as sb\n",
    "con_matr = confusion_matrix(y_te, svm.predict(x_te_tfw2v1))\n",
    "c_l = [0, 1] #Class Label\n",
    "df_con_matr = pd.DataFrame(con_matr, index=c_l, columns=c_l)\n",
    "sb.heatmap(df_con_matr, annot=True, fmt='d')\n",
    "plt.title(\"Confusion_Matrix\")\n",
    "plt.xlabel(\"Predicted\")\n",
    "plt.ylabel(\"Actual\")\n",
    "plt.show()"
   ]
  },
  {
   "cell_type": "code",
   "execution_count": 92,
   "metadata": {},
   "outputs": [
    {
     "name": "stdout",
     "output_type": "stream",
     "text": [
      "==================================================\n",
      "              precision    recall  f1-score   support\n",
      "\n",
      "           0       0.62      0.52      0.57      2408\n",
      "           1       0.91      0.94      0.92     12592\n",
      "\n",
      "   micro avg       0.87      0.87      0.87     15000\n",
      "   macro avg       0.76      0.73      0.75     15000\n",
      "weighted avg       0.86      0.87      0.87     15000\n",
      "\n",
      "==================================================\n"
     ]
    }
   ],
   "source": [
    "print('='*50)\n",
    "print(classification_report(y_te, pred6))\n",
    "print('='*50)"
   ]
  },
  {
   "cell_type": "markdown",
   "metadata": {},
   "source": [
    "# [6] Conclusions"
   ]
  },
  {
   "cell_type": "code",
   "execution_count": 93,
   "metadata": {},
   "outputs": [
    {
     "name": "stdout",
     "output_type": "stream",
     "text": [
      "+--------------+------------+----------------+-------+\n",
      "|  Vectorizer  | Linear/RBF | Hyperparameter |  AUC  |\n",
      "+--------------+------------+----------------+-------+\n",
      "|     BOW      |   Linear   |     0.001      | 0.936 |\n",
      "|    TFIDF     |   Linear   |       10       |  0.83 |\n",
      "|   AVG W2V    |   Linear   |     0.001      | 0.892 |\n",
      "| Weighted W2V |   Linear   |     0.001      | 0.866 |\n",
      "|     BOW      |    RBF     |       10       | 0.899 |\n",
      "|    TFIDF     |    RBF     |     10000      | 0.903 |\n",
      "|   AVG W2V    |    RBF     |       10       |  0.87 |\n",
      "| Weighted W2V |    RBF     |       10       | 0.855 |\n",
      "+--------------+------------+----------------+-------+\n"
     ]
    }
   ],
   "source": [
    "# Please compare all your models using Prettytable library\n",
    "from prettytable import PrettyTable\n",
    "comparison = PrettyTable()\n",
    "comparison.field_names = [\"Vectorizer\", \"Linear/RBF\", \"Hyperparameter\", \"AUC\"]\n",
    "comparison.add_row([\"BOW\", 'Linear', optimal_c, np.round(float(AUC),3)])\n",
    "comparison.add_row([\"TFIDF\", 'Linear', optimal_c1, np.round(float(AUC1),3)])\n",
    "comparison.add_row([\"AVG W2V\", 'Linear', optimal_c2, np.round(float(AUC2),3)])\n",
    "comparison.add_row([\"Weighted W2V\", 'Linear', optimal_c3,np.round(float(AUC3),3)])\n",
    "comparison.add_row([\"BOW\", 'RBF', optimal_c4, np.round(float(AUC4),3)])\n",
    "comparison.add_row([\"TFIDF\", 'RBF', optimal_c5, np.round(float(AUC5),3)])\n",
    "comparison.add_row([\"AVG W2V\", 'RBF', optimal_c6, np.round(float(AUC6),3)])\n",
    "comparison.add_row([\"Weighted W2V\", 'RBF', optimal_c7, np.round(float(AUC7),3)])\n",
    "print(comparison)"
   ]
  }
 ],
 "metadata": {
  "kernelspec": {
   "display_name": "Python 3",
   "language": "python",
   "name": "python3"
  },
  "language_info": {
   "codemirror_mode": {
    "name": "ipython",
    "version": 3
   },
   "file_extension": ".py",
   "mimetype": "text/x-python",
   "name": "python",
   "nbconvert_exporter": "python",
   "pygments_lexer": "ipython3",
   "version": "3.7.3"
  }
 },
 "nbformat": 4,
 "nbformat_minor": 2
}
